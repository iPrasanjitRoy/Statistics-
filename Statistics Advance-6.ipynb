{
 "cells": [
  {
   "cell_type": "code",
   "execution_count": null,
   "id": "021bdcf0-b6b7-4446-ab3b-32deb553a950",
   "metadata": {},
   "outputs": [],
   "source": [
    "# Q1. Explain the assumptions required to use ANOVA and provide examples of violations that could impact the validity of the results"
   ]
  },
  {
   "cell_type": "markdown",
   "id": "054d23fd-8fb6-4922-ad93-3bac3b304448",
   "metadata": {},
   "source": [
    "Analysis of Variance (ANOVA) is a statistical technique used to compare means of multiple groups simultaneously. \n",
    "\n",
    "It's an extension of the t-test and is commonly used when you have more than two groups to compare.\n",
    "\n",
    "To use ANOVA effectively and interpret the results accurately, certain assumptions need to be met. These assumptions include:\n",
    "\n",
    "Independence: The observations within each group should be independent of each other. This means that the data points in one group should not be influenced by or related to the data points in another group.\n",
    "\n",
    "Normality: The distribution of the dependent variable within each group should be approximately normal (follow a bell-shaped curve). \n",
    "\n",
    "Homogeneity of Variance (Homoscedasticity): The variance of the dependent variable should be roughly equal across all groups. This means that the spread of data points around the group means should be similar for each group.\n",
    "\n",
    "\n",
    "Examples of violations of these assumptions that could impact the validity of ANOVA results:\n",
    "\n",
    "Independence Violation: If observations within groups are not independent, it can lead to pseudoreplication. For instance, if you have multiple measurements from the same subject or if data points are time-dependent, the assumption of independence is violated.\n",
    "\n",
    "Normality Violation: If the data in each group do not follow a normal distribution, ANOVA results might be less reliable. For example, if the data is heavily skewed or has extreme outliers, the normality assumption could be violated\n",
    "\n",
    "\n",
    "Homoscedasticity Violation: If the variances across groups are not similar, the F-test used in ANOVA might not be accurate. Unequal variances can affect the power of the test, potentially leading to false positives or negatives. Levene's or Bartlett's test can be used to assess homoscedasticity.\n",
    "\n",
    "\n"
   ]
  },
  {
   "cell_type": "code",
   "execution_count": null,
   "id": "001202ed-c5fd-46c8-860a-447531f2932e",
   "metadata": {},
   "outputs": [],
   "source": [
    "# Q2. What are the three types of ANOVA, and in what situations would each be used?\n"
   ]
  },
  {
   "cell_type": "markdown",
   "id": "92e5fdae-6994-4eb0-b62d-0e136e88dab0",
   "metadata": {},
   "source": [
    "One-Way ANOVA:\n",
    "\n",
    "Situation: Used when you have one categorical independent variable (factor) with three or more levels (groups), and you want to compare the means of these groups to determine if they are significantly different from each other.\n",
    "\n",
    "\n",
    "Example: You want to compare the average scores of students from three different schools to see if there's a significant difference in performance.\n",
    "\n",
    "\n",
    "Two-Way ANOVA:\n",
    "\n",
    "Situation: Used when you have two categorical independent variables (factors), often called \"factors\" and \"levels,\" and you want to examine their effects on a continuous dependent variable. This type includes both main effects and interaction effects.\n",
    "\n",
    "\n",
    "Example: You want to investigate the effects of both gender and treatment type on the effectiveness of a new drug. Here, gender and treatment type are the two independent variables, and the dependent variable is the drug's effectiveness.\n",
    "\n",
    "\n",
    "Repeated Measures ANOVA (or within-subjects ANOVA):\n",
    "\n",
    "Situation: Used when the same subjects are measured multiple times under different conditions or at different time points. It's appropriate when you want to analyze the effects of a repeated factor on a dependent variable.\n",
    "\n",
    "Example: You're studying the impact of three different training programs on participants' performance. Instead of having separate groups, you measure each participant's performance before and after each training program.\n",
    "\n",
    "\n"
   ]
  },
  {
   "cell_type": "code",
   "execution_count": null,
   "id": "3c26d4ad-0c03-42ba-937f-64c18922e0a3",
   "metadata": {},
   "outputs": [],
   "source": [
    "# Q3. What is the partitioning of variance in ANOVA, and why is it important to understand this concept?\n"
   ]
  },
  {
   "cell_type": "markdown",
   "id": "04bb2a96-eb36-4ddc-bcc2-d8281c685b8b",
   "metadata": {},
   "source": [
    "Partitioning of variance in ANOVA refers to the process of breaking down the total variability observed in the data into different sources of variability or components. These components help us understand how much of the total variability can be attributed to different factors or sources within an experimental design. ANOVA partitions the variance into three main components: \n",
    "\n",
    "\n",
    "Between-Groups Variance (SSB): This component of variance measures the variability between different groups or treatment conditions. It quantifies the differences among group means and provides insight into whether the groups are significantly different from each other.\n",
    "\n",
    "Within-Groups Variance (SSW): Also known as the residual or error variance, this component of variance measures the variability within each group. It represents the variability that cannot be explained by the treatment conditions and is often considered as random variation or noise.\n",
    "\n",
    "Total Variance (SST): This is the overall variability in the data, encompassing both the variability due to group differences and the within-group variability. It's the sum of the between-groups variance and the within-groups variance."
   ]
  },
  {
   "cell_type": "code",
   "execution_count": 1,
   "id": "e89c69c2-c610-4cc2-8050-1dad248026f6",
   "metadata": {},
   "outputs": [
    {
     "name": "stdout",
     "output_type": "stream",
     "text": [
      "Total Sum of Squares (SST): 1116.9333333333332\n",
      "Explained Sum of Squares (SSE): 1008.5333333333333\n",
      "Residual Sum of Squares (SSR): 108.39999999999986\n"
     ]
    }
   ],
   "source": [
    "# Q4. How would you calculate the total sum of squares (SST), explained sum of squares (SSE), and residual sum of squares (SSR) in a one-way ANOVA using Python?\n",
    "\n",
    "# In a one-way ANOVA, you can calculate the Total Sum of Squares (SST), Explained Sum of Squares (SSE), and Residual Sum of Squares (SSR) to understand the variance components and assess the goodness of fit of the model. \n",
    "\n",
    "\n",
    "import numpy as np\n",
    "import scipy.stats as stats\n",
    "\n",
    "# Example data for three groups (replace with your own data)\n",
    "group1 = np.array([15, 18, 20, 22, 23])\n",
    "group2 = np.array([25, 26, 28, 30, 31])\n",
    "group3 = np.array([35, 38, 40, 42, 43])\n",
    "\n",
    "# Combine data from all groups\n",
    "all_data = np.concatenate((group1, group2, group3))\n",
    "\n",
    "# Calculate the overall mean\n",
    "overall_mean = np.mean(all_data)\n",
    "\n",
    "# Calculate the Total Sum of Squares (SST)\n",
    "sst = np.sum((all_data - overall_mean) ** 2)\n",
    "\n",
    "# Calculate the group means\n",
    "group1_mean = np.mean(group1)\n",
    "group2_mean = np.mean(group2)\n",
    "group3_mean = np.mean(group3)\n",
    "\n",
    "# Calculate the Explained Sum of Squares (SSE)\n",
    "sse = np.sum((group1_mean - overall_mean) ** 2) * len(group1) + \\\n",
    "      np.sum((group2_mean - overall_mean) ** 2) * len(group2) + \\\n",
    "      np.sum((group3_mean - overall_mean) ** 2) * len(group3)\n",
    "\n",
    "# Calculate the Residual Sum of Squares (SSR)\n",
    "ssr = sst - sse\n",
    "\n",
    "# Print the results\n",
    "print(\"Total Sum of Squares (SST):\", sst)\n",
    "print(\"Explained Sum of Squares (SSE):\", sse)\n",
    "print(\"Residual Sum of Squares (SSR):\", ssr)\n"
   ]
  },
  {
   "cell_type": "code",
   "execution_count": 2,
   "id": "b8c794e8-0339-4775-98e0-e735bdbec8f7",
   "metadata": {},
   "outputs": [
    {
     "name": "stdout",
     "output_type": "stream",
     "text": [
      "Main Effect of Factor A: 0.0\n",
      "Main Effect of Factor B: 0.0\n",
      "Interaction Effect: 1051.09375\n"
     ]
    }
   ],
   "source": [
    "# Q5. In a two-way ANOVA, how would you calculate the main effects and interaction effects using Python?\n",
    "\n",
    "# In a two-way ANOVA, you can calculate the main effects and interaction effects to understand the influences of the two independent variables and their combined effects on the dependent variable.\n",
    "\n",
    "# Let's assume you have a dataset where you have two independent variables: Factor A (with levels A1 and A2) and Factor B (with levels B1 and B2), and a dependent variable (DV).\n",
    "\n",
    "\n",
    "\n",
    "\n",
    "\n",
    "\n",
    "\n",
    "import numpy as np\n",
    "import scipy.stats as stats\n",
    "\n",
    "# Example data (replace with your own data)\n",
    "factor_a = np.array([1, 2, 3, 4, 5, 6, 7, 8])\n",
    "factor_b = np.array([10, 15, 20, 25, 30, 35, 40, 45])\n",
    "dv = np.array([[12, 15, 18, 20, 25, 30, 32, 35],\n",
    "               [18, 22, 24, 28, 33, 38, 40, 43],\n",
    "               [25, 30, 32, 35, 40, 45, 48, 52],\n",
    "               [30, 35, 38, 40, 45, 50, 52, 55]])\n",
    "\n",
    "# Calculate the overall mean\n",
    "overall_mean = np.mean(dv)\n",
    "\n",
    "# Calculate the main effects\n",
    "main_effect_a = np.mean(np.mean(dv, axis=1) - overall_mean)\n",
    "main_effect_b = np.mean(np.mean(dv, axis=0) - overall_mean)\n",
    "\n",
    "# Calculate the interaction effect\n",
    "interaction_effect = np.sum(dv) - (main_effect_a + main_effect_b + overall_mean)\n",
    "\n",
    "# Print the results\n",
    "print(\"Main Effect of Factor A:\", main_effect_a)\n",
    "print(\"Main Effect of Factor B:\", main_effect_b)\n",
    "print(\"Interaction Effect:\", interaction_effect)\n"
   ]
  },
  {
   "cell_type": "code",
   "execution_count": null,
   "id": "b564e3ac-a4dd-474d-9285-d549b5ef2755",
   "metadata": {},
   "outputs": [],
   "source": [
    "# Q6. Suppose you conducted a one-way ANOVA and obtained an F-statistic of 5.23 and a p-value of 0.02.\n",
    "\n",
    "\n",
    "# What can you conclude about the differences between the groups, and how would you interpret these results?"
   ]
  },
  {
   "cell_type": "markdown",
   "id": "3ff8f4fa-5c93-4b66-a6ab-1b5899b562c8",
   "metadata": {},
   "source": [
    "In a one-way ANOVA, the F-statistic is used to test the null hypothesis that the means of the groups are equal against the alternative hypothesis that at least one group mean is different from the others. \n",
    "\n",
    "The p-value associated with the F-statistic helps you determine whether the observed differences between the group means are statistically significant. \n",
    "\n",
    "F-Statistic: 5.23\n",
    "p-value: 0.02\n",
    "\n",
    "Interpretation: \n",
    "\n",
    "Since the p-value (0.02) is less than the conventional significance level of 0.05, you would reject the null hypothesis. This suggests that there is enough evidence to conclude that there are statistically significant differences between the group means.\n",
    "\n",
    "In other words:\n",
    "\n",
    "There is evidence to suggest that at least one group mean is significantly different from the others.\n",
    "\n",
    "The variability between the group means is larger than what you would expect due to random chance alone.\n",
    "\n",
    "However, the ANOVA itself doesn't tell you which specific group(s) have different means.  "
   ]
  },
  {
   "cell_type": "code",
   "execution_count": null,
   "id": "1af2374e-4f4e-4896-9858-029119998e9d",
   "metadata": {},
   "outputs": [],
   "source": [
    "# Q7. In a repeated measures ANOVA, how would you handle missing data? \n",
    "\n",
    "# what are the potential consequences of using different methods to handle missing data?\n",
    "\n"
   ]
  },
  {
   "cell_type": "markdown",
   "id": "c9281cde-c588-4383-9dc1-e128cbc8d160",
   "metadata": {},
   "source": [
    "Handling missing data in a repeated measures ANOVA is important to ensure the validity and reliability of your analysis. Missing data can occur due to various reasons, such as participants dropping out, equipment failure, or skipped responses. There are different methods to handle missing data, each with its potential consequences.\n",
    "\n",
    "\n",
    "Mean Imputation:\n",
    "\n",
    "Method: Replace missing data with the mean value of the observed data for that variable.\n",
    "\n",
    "Consequences: It can distort the relationships between variables, underestimate variability, and underestimate standard errors. It assumes that missing data occur completely at random, which might not be the case.\n",
    "\n",
    "\n"
   ]
  },
  {
   "cell_type": "code",
   "execution_count": null,
   "id": "bd6693c4-0ba1-47b6-b75d-52645c7af8f3",
   "metadata": {},
   "outputs": [],
   "source": [
    "# Q8. What are some common post-hoc tests used after ANOVA, and when would you use each one? \n",
    "\n",
    "# Provide an example of a situation where a post-hoc test might be necessary \n",
    "\n"
   ]
  },
  {
   "cell_type": "markdown",
   "id": "1f070cdc-42ce-4cac-9cf6-41d58114aad7",
   "metadata": {},
   "source": [
    "Post-hoc tests are conducted after finding a significant result in an Analysis of Variance (ANOVA) to determine which specific group means are significantly different from each other.\n",
    "\n",
    "\n",
    "\n",
    "Since ANOVA only tells us that there are differences among groups but doesn't identify which groups are different, post-hoc tests help provide more detailed insights. \n",
    " \n",
    "Tukey's Honestly Significant Difference (HSD) Test:\n",
    "\n",
    "Use: When you have a moderate to large number of groups and want to compare all possible pairwise differences.\n",
    "\n",
    "Situation: You conduct an ANOVA comparing the effectiveness of three different teaching methods on student performance. The ANOVA indicates a significant difference among the groups, but you want to know which specific pairs of methods are significantly different. \n",
    "\n",
    "\n",
    "Duncan's Multiple Range Test:\n",
    "\n",
    "Use: When you want to test the differences between group means while controlling for the number of groups compared.\n",
    "\n",
    "\n",
    "Situation: You are studying the yield of five different fertilizer treatments in agriculture. After conducting an ANOVA, you use Duncan's test to compare the groups and determine which treatments have significantly different yields.\n",
    "\n",
    "\n",
    "Scheffe's Test:\n",
    "\n",
    "Use: When you have unequal group sizes and want to control the experimentwise error rate.\n",
    "\n",
    "\n",
    "Situation: You perform an ANOVA to compare the performance of several different machine learning algorithms on different datasets. Due to variations in dataset sizes, you choose Scheffe's test to account for the unequal group sizes when conducting pairwise comparisons.\n",
    "\n",
    "\n",
    "Games-Howell Test:\n",
    "\n",
    "Use: When the assumption of equal variances is violated and you have unequal sample sizes.\n",
    "\n",
    "\n",
    "Situation: You're investigating the effects of three different medications on reducing blood pressure. The ANOVA shows a significant difference, but the Levene's test indicates unequal variances. In this case, you'd use the Games-Howell test for pairwise comparisons.\n",
    "\n",
    "\n",
    "Bonferroni Correction:\n",
    "\n",
    "Use: When conducting multiple pairwise comparisons while controlling for the familywise error rate (reducing the chance of making a Type I error).\n",
    "\n",
    "\n",
    "Situation: You are comparing the means of five different treatment groups after an ANOVA. To reduce the risk of making false positive conclusions, you apply the Bonferroni correction to adjust the significance level for each comparison."
   ]
  },
  {
   "cell_type": "code",
   "execution_count": null,
   "id": "1e9da15e-4abf-4713-aa23-cfa04db207bf",
   "metadata": {},
   "outputs": [],
   "source": [
    "# Q9. A researcher wants to compare the mean weight loss of three diets: A, B, and C. \n",
    "# They collect data from 50 participants who were randomly assigned to one of the diets. \n",
    "\n",
    "# Conduct a one-way ANOVA using Python to determine if there are any significant differences between the mean weight loss of the three diets. \n",
    "\n",
    "# Report the F-statistic and p-value, and interpret the results. \n",
    "\n"
   ]
  },
  {
   "cell_type": "code",
   "execution_count": 3,
   "id": "01ef9866-f017-47de-b1ac-d0b6f8c8974a",
   "metadata": {},
   "outputs": [
    {
     "name": "stdout",
     "output_type": "stream",
     "text": [
      "F-Statistic: 2.2466217926584706\n",
      "p-value: 0.10955562521825858\n",
      "There are no significant differences between the mean weight loss of the three diets.\n"
     ]
    }
   ],
   "source": [
    "import numpy as np\n",
    "import scipy.stats as stats\n",
    "\n",
    "# Example data for weight loss in each diet group (replace with your own data)\n",
    "diet_a = np.array([2, 3, 4, 5, 1, 2, 3, 2, 4, 3, 2, 4, 5, 1, 2, 3, 2, 4, 3, 2, 4, 5, 1, 2, 3, 2, 4, 3, 2, 4, 5, 1, 2, 3, 2, 4, 3, 2, 4, 5, 1, 2, 3, 2, 4, 3, 2, 4])\n",
    "diet_b = np.array([3, 4, 5, 3, 2, 3, 2, 1, 4, 3, 4, 5, 3, 2, 3, 2, 1, 4, 3, 4, 5, 3, 2, 3, 2, 1, 4, 3, 4, 5, 3, 2, 3, 2, 1, 4, 3, 4, 5, 3, 2, 3, 2, 1, 4, 3, 4])\n",
    "diet_c = np.array([1, 2, 3, 4, 5, 1, 2, 3, 2, 1, 2, 3, 4, 5, 1, 2, 3, 2, 1, 2, 3, 4, 5, 1, 2, 3, 2, 1, 2, 3, 4, 5, 1, 2, 3, 2, 1, 2, 3, 4, 5, 1, 2, 3, 2, 1, 2, 3])\n",
    "\n",
    "# Combine data from all diet groups\n",
    "all_data = np.concatenate((diet_a, diet_b, diet_c))\n",
    "\n",
    "# Create labels for each diet group\n",
    "group_labels = ['A'] * len(diet_a) + ['B'] * len(diet_b) + ['C'] * len(diet_c)\n",
    "\n",
    "# Perform one-way ANOVA\n",
    "f_statistic, p_value = stats.f_oneway(diet_a, diet_b, diet_c)\n",
    "\n",
    "# Print the results\n",
    "print(\"F-Statistic:\", f_statistic)\n",
    "print(\"p-value:\", p_value)\n",
    "\n",
    "# Interpret the results\n",
    "if p_value < 0.05:\n",
    "    print(\"There are significant differences between the mean weight loss of the three diets.\")\n",
    "else:\n",
    "    print(\"There are no significant differences between the mean weight loss of the three diets.\")\n"
   ]
  },
  {
   "cell_type": "markdown",
   "id": "f317d71b-4697-43bc-8355-bb7d6de1d574",
   "metadata": {},
   "source": [
    "Interpretation of the results:\n",
    "\n",
    "If the p-value is less than 0.05 (or your chosen significance level), you would conclude that there are significant differences between the mean weight loss of the three diets.\n",
    "\n",
    "If the p-value is greater than or equal to 0.05, you would conclude that there are no significant differences between the mean weight loss of the three diets.\n",
    "\n"
   ]
  },
  {
   "cell_type": "code",
   "execution_count": null,
   "id": "6baca50d-4b35-4263-be62-b0a838f6c6aa",
   "metadata": {},
   "outputs": [],
   "source": [
    "# Q10. A company wants to know if there are any significant differences in the average time it takes to complete a task using three different software programs: Program A, Program B, and Program C. \n",
    "\n",
    "# They randomly assign 30 employees to one of the programs and record the time it takes each employee to complete the task. \n",
    "\n",
    "# Conduct a two-way ANOVA using Python to determine if there are any main effects or interaction effects between the software programs and employee experience level (novice vs. experienced). \n",
    "\n",
    "# Report the F-statistics and p-values, and interpret the results. \n",
    "\n"
   ]
  },
  {
   "cell_type": "code",
   "execution_count": 5,
   "id": "d3fbde43-7d48-4cc3-9b28-128086530a0d",
   "metadata": {},
   "outputs": [
    {
     "name": "stdout",
     "output_type": "stream",
     "text": [
      "                                 sum_sq    df         F    PR(>F)\n",
      "C(Software)                 3018.466667   2.0  3.201318  0.045722\n",
      "C(Experience)                227.211111   1.0  0.481950  0.489456\n",
      "C(Software):C(Experience)   5515.755556   2.0  5.849886  0.004183\n",
      "Residual                   39601.066667  84.0       NaN       NaN\n"
     ]
    }
   ],
   "source": [
    "import numpy as np\n",
    "import pandas as pd\n",
    "\n",
    "# Create data\n",
    "software_programs = np.repeat(['Program A', 'Program B', 'Program C'], 30)\n",
    "experience_level = np.tile(['Novice', 'Experienced'], 45)\n",
    "completion_time = np.random.randint(30, 120, size=90)  # Random completion times\n",
    "\n",
    "# Create a DataFrame\n",
    "data = pd.DataFrame({'Software': software_programs, 'Experience': experience_level, 'Time': completion_time})\n",
    "\n",
    "# Use the statsmodels library to perform the two-way ANOVA <=============================================== \n",
    "\n",
    "import statsmodels.api as sm\n",
    "from statsmodels.formula.api import ols\n",
    "\n",
    "# Fit the ANOVA model\n",
    "model = ols('Time ~ C(Software) + C(Experience) + C(Software):C(Experience)', data=data).fit()\n",
    "\n",
    "# Get ANOVA table\n",
    "anova_table = sm.stats.anova_lm(model, typ=2)\n",
    "print(anova_table)\n"
   ]
  },
  {
   "cell_type": "markdown",
   "id": "0de999bc-d558-4ac1-8df6-c2315e13ec8a",
   "metadata": {},
   "source": [
    "Software Effect (Main Effect of Software):\n",
    "\n",
    "p-value (PR(>F)): 0.045722 (less than 0.05)\n",
    "\n",
    "Interpretation: The p-value is smaller than 0.05, indicating that there is a significant main effect of software programs on completion time. In other words, at least one software program significantly affects completion time.\n",
    "\n",
    "\n",
    "Experience Effect (Main Effect of Experience):\n",
    "\n",
    "p-value (PR(>F)): 0.489456 (greater than 0.05)\n",
    "\n",
    "Interpretation: The p-value is larger than 0.05, suggesting that there is no significant main effect of experience level on completion time. Experience level does not have a significant influence on completion time in this analysis.\n",
    "\n",
    "Interaction Effect (Software:Experience):\n",
    "\n",
    "p-value (PR(>F)): 0.004183 (less than 0.05)\n",
    "\n",
    "\n",
    "Interpretation: The p-value is smaller than 0.05, indicating a significant interaction effect between software programs and experience levels on completion time. This means that the effect of software programs on completion time is different depending on the experience level of the employees, and vice versa.\n",
    "\n",
    "Residual (Error):\n",
    "\n",
    "This row shows the variation in completion time that cannot be explained by the factors included in the model.\n",
    "\n",
    "In summary:\n",
    "\n",
    "There is a significant main effect of software programs on completion time.\n",
    "There is no significant main effect of experience level on completion time.\n",
    "There is a significant interaction effect between software programs and experience levels on completion time.\n",
    "\n"
   ]
  },
  {
   "cell_type": "code",
   "execution_count": null,
   "id": "efa9d88d-3f67-4abd-bd61-0692ab11cd68",
   "metadata": {},
   "outputs": [],
   "source": [
    "# Q11. An educational researcher is interested in whether a new teaching method improves student test scores. \n",
    "# They randomly assign 100 students to either the control group (traditional teaching method) or the experimental group (new teaching method) and administer a test at the end of the semester. \n",
    "\n",
    "# Conduct a two-sample t-test using Python to determine if there are any significant differences in test scores between the two groups. \n",
    "\n",
    "# If the results are significant, follow up with a post-hoc test to determine which group(s) differ significantly from each other.\n",
    "\n",
    "\n",
    "\n"
   ]
  },
  {
   "cell_type": "code",
   "execution_count": 6,
   "id": "246362ad-998e-4add-b2dc-8f1d2de1df21",
   "metadata": {},
   "outputs": [
    {
     "name": "stdout",
     "output_type": "stream",
     "text": [
      "t-statistic: -1.338384736778457\n",
      "p-value: 0.18872445240562336\n",
      "There is no significant difference in test scores between the two groups.\n"
     ]
    }
   ],
   "source": [
    "# Conducting a Two-Sample T-Test ========================================>\n",
    "\n",
    "\n",
    "import numpy as np\n",
    "import scipy.stats as stats\n",
    "\n",
    "# Example data (replace with your own data)\n",
    "control_group = np.array([85, 78, 92, 88, 75, 95, 82, 90, 87, 81, 79, 83, 86, 89, 93, 76, 80, 84, 91, 94])\n",
    "experimental_group = np.array([88, 82, 96, 91, 76, 98, 85, 93, 90, 84, 81, 85, 88, 92, 95, 78, 82, 86, 94, 97])\n",
    "\n",
    "# Conduct two-sample t-test\n",
    "t_statistic, p_value = stats.ttest_ind(control_group, experimental_group)\n",
    "\n",
    "# Print t-statistic and p-value\n",
    "print(\"t-statistic:\", t_statistic)\n",
    "print(\"p-value:\", p_value)\n",
    "\n",
    "# Interpret the results\n",
    "if p_value < 0.05:\n",
    "    print(\"There is a significant difference in test scores between the two groups.\")\n",
    "else:\n",
    "    print(\"There is no significant difference in test scores between the two groups.\")\n",
    "\n"
   ]
  },
  {
   "cell_type": "markdown",
   "id": "0c71e005-192a-4fa2-9060-94ce65b5c25a",
   "metadata": {},
   "source": [
    "a two-sample t-test and found that the p-value is 0.1887, which is greater than 0.05. This indicates that there is no significant difference in test scores between the control and experimental groups. Since your t-test did not yield a significant result, there is no need to perform a post-hoc test.  \n"
   ]
  },
  {
   "cell_type": "code",
   "execution_count": null,
   "id": "8bf5f6b9-f4b3-4373-865f-0f1959376cde",
   "metadata": {},
   "outputs": [],
   "source": [
    "# Q12. A researcher wants to know if there are any significant differences in the average daily sales of three retail stores: Store A, Store B, and Store C. \n",
    "\n",
    "# They randomly select 30 days and record the sales for each store on those days. \n",
    "\n",
    "# Conduct a repeated measures ANOVA using Python to determine if there are any significant differences in sales between the three stores. \n",
    "\n",
    "# If the results are significant, follow up with a post hoc test to determine which store(s) differ significantly from each other\n",
    "\n",
    "\n"
   ]
  },
  {
   "cell_type": "code",
   "execution_count": 23,
   "id": "bdb381a1-0e90-45fa-a266-7b23a2aba921",
   "metadata": {},
   "outputs": [
    {
     "name": "stdout",
     "output_type": "stream",
     "text": [
      "                Anova\n",
      "=====================================\n",
      "       F Value  Num DF  Den DF Pr > F\n",
      "-------------------------------------\n",
      "Store 6271.0000 2.0000 58.0000 0.0000\n",
      "=====================================\n",
      "\n"
     ]
    }
   ],
   "source": [
    "import pandas as pd\n",
    "from statsmodels.stats.anova import AnovaRM\n",
    "\n",
    "# Your data\n",
    "data = {\n",
    "    'Day': list(range(1, 31)),\n",
    "    'Store_A': [120, 130, 125, 140, 135, 130, 125, 140, 150, 130, 145, 135, 125, 130, 140, 135, 130, 125, 140, 150, 130, 145, 135, 125, 130, 140, 135, 130, 125, 140],\n",
    "    'Store_B': [110, 125, 120, 135, 130, 125, 120, 135, 145, 125, 140, 130, 120, 125, 135, 130, 125, 120, 135, 145, 125, 140, 130, 120, 125, 135, 130, 125, 120, 135],\n",
    "    'Store_C': [105, 115, 110, 125, 120, 115, 110, 125, 135, 115, 130, 120, 110, 115, 125, 120, 115, 110, 125, 135, 115, 130, 120, 110, 115, 125, 120, 115, 110, 125]\n",
    "}\n",
    "\n",
    "# Create a DataFrame\n",
    "df = pd.DataFrame(data)\n",
    "\n",
    "# Reshape the data for repeated measures ANOVA\n",
    "long_df = pd.melt(df, id_vars=['Day'], value_vars=['Store_A', 'Store_B', 'Store_C'], var_name='Store', value_name='Sales')\n",
    "\n",
    "# Conduct repeated measures ANOVA\n",
    "anovarm = AnovaRM(long_df, 'Sales', 'Day', within=['Store'])\n",
    "results = anovarm.fit()\n",
    "\n",
    "print(results)\n",
    "\n",
    "\n"
   ]
  },
  {
   "cell_type": "code",
   "execution_count": 24,
   "id": "1341d8ff-4400-4a67-9d1f-aed102a95151",
   "metadata": {},
   "outputs": [
    {
     "name": "stdout",
     "output_type": "stream",
     "text": [
      "Repeated Measures ANOVA Results:\n",
      "                Anova\n",
      "=====================================\n",
      "       F Value  Num DF  Den DF Pr > F\n",
      "-------------------------------------\n",
      "Store 6271.0000 2.0000 58.0000 0.0000\n",
      "=====================================\n",
      "\n",
      "\n",
      "There are significant differences in average daily sales between the three stores.\n",
      "Post Hoc Test Results:\n",
      "  Multiple Comparison of Means - Tukey HSD, FWER=0.05   \n",
      "========================================================\n",
      " group1  group2 meandiff p-adj   lower    upper   reject\n",
      "--------------------------------------------------------\n",
      "Store_A Store_B  -5.1667 0.0364 -10.0685  -0.2648   True\n",
      "Store_A Store_C    -15.0    0.0 -19.9019 -10.0981   True\n",
      "Store_B Store_C  -9.8333    0.0 -14.7352  -4.9315   True\n",
      "--------------------------------------------------------\n"
     ]
    }
   ],
   "source": [
    "import pandas as pd\n",
    "from statsmodels.stats.anova import AnovaRM\n",
    "import numpy as np\n",
    "from statsmodels.stats.multicomp import pairwise_tukeyhsd\n",
    "\n",
    "# Your data\n",
    "data = {\n",
    "    'Day': list(range(1, 31)),\n",
    "    'Store_A': [120, 130, 125, 140, 135, 130, 125, 140, 150, 130, 145, 135, 125, 130, 140, 135, 130, 125, 140, 150, 130, 145, 135, 125, 130, 140, 135, 130, 125, 140],\n",
    "    'Store_B': [110, 125, 120, 135, 130, 125, 120, 135, 145, 125, 140, 130, 120, 125, 135, 130, 125, 120, 135, 145, 125, 140, 130, 120, 125, 135, 130, 125, 120, 135],\n",
    "    'Store_C': [105, 115, 110, 125, 120, 115, 110, 125, 135, 115, 130, 120, 110, 115, 125, 120, 115, 110, 125, 135, 115, 130, 120, 110, 115, 125, 120, 115, 110, 125]\n",
    "}\n",
    "\n",
    "# Create a DataFrame\n",
    "df = pd.DataFrame(data)\n",
    "\n",
    "# Reshape the data for repeated measures ANOVA\n",
    "long_df = pd.melt(df, id_vars=['Day'], value_vars=['Store_A', 'Store_B', 'Store_C'], var_name='Store', value_name='Sales')\n",
    "\n",
    "# Conduct repeated measures ANOVA\n",
    "anovarm = AnovaRM(long_df, 'Sales', 'Day', within=['Store'])\n",
    "results = anovarm.fit()\n",
    "\n",
    "print(\"Repeated Measures ANOVA Results:\")\n",
    "print(results)\n",
    "print()\n",
    "\n",
    "# Check if the results are significant\n",
    "if results.anova_table['Pr > F'][0] < 0.05:\n",
    "    print(\"There are significant differences in average daily sales between the three stores.\")\n",
    "\n",
    "    # Perform post hoc test (Tukey's HSD)\n",
    "    posthoc = pairwise_tukeyhsd(long_df['Sales'], long_df['Store'])\n",
    "    print(\"Post Hoc Test Results:\")\n",
    "    print(posthoc)\n",
    "else:\n",
    "    print(\"There are no significant differences in average daily sales between the three stores.\")\n"
   ]
  },
  {
   "cell_type": "code",
   "execution_count": null,
   "id": "127034cd-2fc6-4b2e-8582-5b7ce8104af6",
   "metadata": {},
   "outputs": [],
   "source": []
  }
 ],
 "metadata": {
  "kernelspec": {
   "display_name": "Python 3 (ipykernel)",
   "language": "python",
   "name": "python3"
  },
  "language_info": {
   "codemirror_mode": {
    "name": "ipython",
    "version": 3
   },
   "file_extension": ".py",
   "mimetype": "text/x-python",
   "name": "python",
   "nbconvert_exporter": "python",
   "pygments_lexer": "ipython3",
   "version": "3.10.8"
  }
 },
 "nbformat": 4,
 "nbformat_minor": 5
}
