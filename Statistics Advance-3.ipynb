{
 "cells": [
  {
   "cell_type": "code",
   "execution_count": null,
   "id": "3e56e2f1-0615-46f9-bae0-263a505d7183",
   "metadata": {},
   "outputs": [],
   "source": [
    "# Q1: What is Estimation Statistics? Explain point estimate and interval estimate."
   ]
  },
  {
   "cell_type": "markdown",
   "id": "a347ccd4-4584-4f55-9f40-b17b12fb26cd",
   "metadata": {},
   "source": [
    "Estimation in statistics refers to the process of using sample data to make educated guesses about the population parameters.\n",
    "\n",
    "\n",
    "Point Estimate: A point estimate is a single value that serves as the best guess for the population parameter. It is obtained by calculating a descriptive statistic from the sample data. \n",
    "\n",
    "\n",
    "For example, if you want to estimate the average height of all students in a school, you could calculate the average height of a sample of students and use that as your point estimate for the population parameter.\n",
    "\n",
    "\n",
    "\n",
    "Interval Estimate: An interval estimate, also known as a confidence interval, is a range of values within which the true population parameter is likely to fall. It provides a measure of uncertainty associated with the estimation process. Confidence intervals are typically expressed with a confidence level, which represents the probability that the interval contains the true population parameter. \n",
    "\n",
    " Common confidence levels include 90%, 95%, and 99%.\n",
    " \n",
    "For instance, if you calculate the average income of a sample of households and obtain a point estimate of $50,000 with a 95% confidence interval of $45,000 to $55,000, it means you are 95% confident that the true average income of all households falls within this range.\n",
    "\n"
   ]
  },
  {
   "cell_type": "code",
   "execution_count": 4,
   "id": "fc8c0132-bde3-4416-b8a5-b301cc19156b",
   "metadata": {},
   "outputs": [
    {
     "name": "stdout",
     "output_type": "stream",
     "text": [
      "Population Mean Estimate: 150\n",
      "Confidence Interval: (144.4563847026013, 155.5436152973987)\n"
     ]
    }
   ],
   "source": [
    "# Q2. Write a Python function to estimate the population mean using a sample mean and standard deviation\n",
    "\n",
    "\n",
    "import math\n",
    "import scipy.stats as stats\n",
    "\n",
    "def estimate_population_mean(sample_mean, sample_stddev, sample_size):\n",
    "    # Calculate the standard error of the mean (SEM)\n",
    "    standard_error = sample_stddev / math.sqrt(sample_size)\n",
    "    \n",
    "    # Calculate the margin of error for a specific confidence level (e.g., 95%)\n",
    "    confidence_level = 0.95\n",
    "    z_score = abs(stats.norm.ppf((1 - confidence_level) / 2))  # For a two-tailed test\n",
    "    margin_of_error = z_score * standard_error\n",
    "    \n",
    "    # Calculate the lower and upper bounds of the confidence interval\n",
    "    lower_bound = sample_mean - margin_of_error\n",
    "    upper_bound = sample_mean + margin_of_error\n",
    "    \n",
    "    # Return the population mean estimate and the confidence interval\n",
    "    return sample_mean, (lower_bound, upper_bound)\n",
    "\n",
    "# Example usage\n",
    "sample_mean = 150\n",
    "sample_stddev = 20\n",
    "sample_size = 50\n",
    "\n",
    "population_mean_estimate, confidence_interval = estimate_population_mean(sample_mean, sample_stddev, sample_size)\n",
    "print(\"Population Mean Estimate:\", population_mean_estimate)\n",
    "print(\"Confidence Interval:\", confidence_interval)\n"
   ]
  },
  {
   "cell_type": "code",
   "execution_count": null,
   "id": "d2db77b4-bbb6-4df1-89e2-68472d6f9e7b",
   "metadata": {},
   "outputs": [],
   "source": [
    "# Q3: What is Hypothesis testing? Why is it used? State the importance of Hypothesis testing"
   ]
  },
  {
   "cell_type": "markdown",
   "id": "148de5d6-a07c-4c7c-9803-b95bbcdbaa92",
   "metadata": {},
   "source": [
    "Hypothesis testing is a fundamental concept in statistics used to make decisions and draw conclusions about a population based on a sample of data. It involves setting up two competing hypotheses, the null hypothesis (H0) and the alternative hypothesis (Ha), and then using sample data to determine whether there is enough evidence to reject the null hypothesis in favor of the alternative hypothesis.\n",
    "\n",
    "\n",
    "Importance of Hypothesis Testing:\n",
    "\n",
    "Informed Decision-Making: Hypothesis testing provides a structured framework for making decisions based on data. It helps us avoid making conclusions solely based on intuition or anecdotal evidence.\n",
    "\n",
    "Scientific Inquiry: Hypothesis testing is crucial in scientific research as it allows researchers to test specific predictions and theories against empirical data. It helps validate or refine scientific theories.\n",
    "\n",
    "Quality Control: In industries and manufacturing, hypothesis testing is used to ensure product quality and process stability. It helps identify deviations from desired standards.\n",
    "\n",
    "\n"
   ]
  },
  {
   "cell_type": "code",
   "execution_count": null,
   "id": "dd05a85c-b7b3-467f-8dea-e2dda6a201ea",
   "metadata": {},
   "outputs": [],
   "source": [
    "# Q4. Create a hypothesis that states whether the average weight of male college students is greater than the average weight of female college students.\n",
    "\n"
   ]
  },
  {
   "cell_type": "markdown",
   "id": "c37c480f-0f0d-4ba0-9f64-e1f90e897b90",
   "metadata": {},
   "source": [
    "Null Hypothesis (H0): The average weight of male college students is equal to or less than the average weight of female college students.\n",
    "\n",
    "Alternative Hypothesis (Ha): The average weight of male college students is greater than the average weight of female college students.\n",
    "\n",
    "\n",
    "\n",
    "In symbols:\n",
    "\n",
    "H0: μ_male ≤ μ_female\n",
    "Ha: μ_male > μ_female\n",
    "\n",
    "\n",
    "Null Hypothesis: The population mean weight of male college students is less than or equal to the population mean weight of female college students.\n",
    "Alternative Hypothesis: The population mean weight of male college students is greater than the population mean weight of female college students.\n",
    "\n",
    "In hypothesis testing, you would collect data from a sample of male and female college students and use statistical methods to analyze whether there is enough evidence to support rejecting the null hypothesis in favor of the alternative hypothesis. This would involve calculating sample means, conducting a hypothesis test, and determining whether the observed difference in sample means is statistically significant.\n"
   ]
  },
  {
   "cell_type": "code",
   "execution_count": 6,
   "id": "dc14dfc2-3683-41d9-b377-f9cca6fdc504",
   "metadata": {},
   "outputs": [
    {
     "name": "stdout",
     "output_type": "stream",
     "text": [
      "Sample Mean (Male): 71.4\n",
      "Sample Mean (Female): 64.4\n",
      "t-statistic: 7.047138579747256\n",
      "Degrees of Freedom: 18\n",
      "Critical t-value: 2.10092204024096\n",
      "p-value: 1.4197141531280266e-06\n",
      "Conclusion: Reject the null hypothesis\n"
     ]
    }
   ],
   "source": [
    "# Q5. Write a Python script to conduct a hypothesis test on the difference between two population means, given a sample from each population.\n",
    "\n",
    "\n",
    "import numpy as np\n",
    "import scipy.stats as stats\n",
    "\n",
    "# Sample data for two populations (replace with your actual data)\n",
    "sample_male = np.array([70, 72, 75, 68, 73, 71, 74, 69, 70, 72])\n",
    "sample_female = np.array([63, 65, 68, 61, 66, 64, 67, 62, 63, 65])\n",
    "\n",
    "# Define significance level (alpha)\n",
    "alpha = 0.05\n",
    "\n",
    "# Calculate sample means and standard deviations\n",
    "mean_male = np.mean(sample_male)\n",
    "stddev_male = np.std(sample_male, ddof=1)\n",
    "n_male = len(sample_male)\n",
    "\n",
    "mean_female = np.mean(sample_female)\n",
    "stddev_female = np.std(sample_female, ddof=1)\n",
    "n_female = len(sample_female)\n",
    "\n",
    "# Calculate pooled standard deviation (assuming equal variances)\n",
    "pooled_stddev = np.sqrt(((n_male - 1) * stddev_male**2 + (n_female - 1) * stddev_female**2) / (n_male + n_female - 2))\n",
    "\n",
    "# Calculate t-statistic\n",
    "t_statistic = (mean_male - mean_female) / (pooled_stddev * np.sqrt(1/n_male + 1/n_female))\n",
    "\n",
    "# Calculate degrees of freedom\n",
    "degrees_of_freedom = n_male + n_female - 2\n",
    "\n",
    "# Calculate critical t-value for a two-tailed test\n",
    "critical_t_value = stats.t.ppf(1 - alpha/2, degrees_of_freedom)\n",
    "\n",
    "# Calculate p-value\n",
    "p_value = 2 * (1 - stats.t.cdf(abs(t_statistic), degrees_of_freedom))\n",
    "\n",
    "# Conduct hypothesis test\n",
    "if abs(t_statistic) > critical_t_value:\n",
    "    conclusion = \"Reject the null hypothesis\"\n",
    "else:\n",
    "    conclusion = \"Fail to reject the null hypothesis\"\n",
    "\n",
    "# Print results\n",
    "print(\"Sample Mean (Male):\", mean_male)\n",
    "print(\"Sample Mean (Female):\", mean_female)\n",
    "print(\"t-statistic:\", t_statistic)\n",
    "print(\"Degrees of Freedom:\", degrees_of_freedom)\n",
    "print(\"Critical t-value:\", critical_t_value)\n",
    "print(\"p-value:\", p_value)\n",
    "print(\"Conclusion:\", conclusion)\n"
   ]
  },
  {
   "cell_type": "code",
   "execution_count": null,
   "id": "e7f70fa4-beb0-41f6-8b2b-fb00b7a88957",
   "metadata": {},
   "outputs": [],
   "source": [
    "# Q6: What is a null and alternative hypothesis? Give some examples."
   ]
  },
  {
   "cell_type": "markdown",
   "id": "e0c12eeb-e55c-419a-b884-a9b6578cc5bd",
   "metadata": {},
   "source": [
    "In hypothesis testing, the null hypothesis (H0) and the alternative hypothesis (Ha) are two competing statements that are used to make decisions about population parameters based on sample data. \n",
    "\n",
    "\n",
    "Null Hypothesis (H0):\n",
    "\n",
    "The null hypothesis is the default assumption or statement of no effect, no difference, or no change.\n",
    "\n",
    "\n",
    "Alternative Hypothesis (Ha):\n",
    "\n",
    "The alternative hypothesis is the statement that contradicts the null hypothesis.\n",
    "\n",
    "\n",
    "\n",
    "Example: Coin Tossing\n",
    "\n",
    "Null Hypothesis (H0): \"The probability of getting heads in a fair coin toss is 0.5.\"\n",
    "Alternative Hypothesis (Ha): \"The probability of getting heads in a fair coin toss is not 0.5.\"\n",
    "\n",
    "\n",
    "\n"
   ]
  },
  {
   "cell_type": "code",
   "execution_count": null,
   "id": "520f077a-b683-4397-ac92-ccd732492560",
   "metadata": {},
   "outputs": [],
   "source": [
    "# Q7: Write down the steps involved in hypothesis testing. "
   ]
  },
  {
   "cell_type": "markdown",
   "id": "4e317f76-1328-4246-af68-e805b1bff590",
   "metadata": {},
   "source": [
    "1. Formulate Hypotheses: \n",
    "\n",
    "Null Hypothesis (H0): State the default assumption or statement of no effect, no difference, or no change.\n",
    "Alternative Hypothesis (Ha): State the contradictory statement that represents the effect, difference, or change you are trying to find evidence for.\n",
    "\n",
    "2. Select Significance Level (Alpha):\n",
    "\n",
    "Choose a significance level (alpha) that determines how strong the evidence must be to reject the null hypothesis.\n",
    "Common values for alpha include 0.05 (5%) or 0.01 (1%).\n",
    "\n",
    "3. Collect and Prepare Data:\n",
    "\n",
    "Collect data from a sample or samples that are relevant to the hypotheses being tested.\n",
    "Ensure the data meets the assumptions of the chosen statistical test.\n",
    "\n",
    "4. Choose a Test Statistic:\n",
    "\n",
    "Select an appropriate test statistic based on the nature of the data, the research question, and the hypotheses.\n",
    "Common test statistics include t-statistics, z-statistics, F-statistics, and chi-squared statistics.\n",
    "\n",
    "5. Calculate the Test Statistic:\n",
    "\n",
    "Compute the test statistic using the sample data and the chosen formula or calculation method.\n",
    "\n",
    "6. Determine the Critical Region:\n",
    "\n",
    "Determine the critical values or critical region(s) associated with the chosen significance level and test statistic.\n",
    "The critical region defines the range of values for which the null hypothesis will be rejected.\n",
    "\n",
    "7. Calculate the P-Value:\n",
    "\n",
    "Calculate the p-value, which is the probability of obtaining a test statistic as extreme as or more extreme than the observed value, assuming the null hypothesis is true.\n",
    "The p-value helps assess the strength of the evidence against the null hypothesis.\n",
    "\n",
    "8. Make a Decision:\n",
    "\n",
    "If the p-value is less than the chosen significance level (alpha), reject the null hypothesis in favor of the alternative hypothesis.\n",
    "If the p-value is greater than or equal to alpha, fail to reject the null hypothesis.\n",
    "\n",
    "9. Draw a Conclusion:\n",
    "\n",
    "Based on the decision made in the previous step, draw a conclusion about the hypotheses.\n",
    "Interpret the results in the context of the research question.\n",
    "\n",
    "10. Communicate Results:\n",
    "\n",
    "Present the findings, including the test statistic, p-value, conclusion, and any implications, in a clear and understandable manner.\n",
    "Discuss the practical significance of the results and their implications for the broader context.\n"
   ]
  },
  {
   "cell_type": "code",
   "execution_count": null,
   "id": "b01ee0a7-4792-40ab-8e11-da3bd5937215",
   "metadata": {},
   "outputs": [],
   "source": [
    "# Q8. Define p-value and explain its significance in hypothesis testing "
   ]
  },
  {
   "cell_type": "markdown",
   "id": "81058263-641c-499f-b946-34841b7c0249",
   "metadata": {},
   "source": [
    "The p-value (short for \"probability value\") is a crucial concept in hypothesis testing. It quantifies the strength of the evidence against the null hypothesis. \n",
    "\n",
    "\n",
    "The smaller the p-value, the stronger the evidence against the null hypothesis.\n",
    "\n",
    "\n",
    "Significance Of P Value :- \n",
    "\n",
    "Quantifies Evidence: The p-value quantifies the strength of evidence against the null hypothesis. It provides a numerical measure of how likely it is to observe the data or more extreme results under the assumption that the null hypothesis is true. A low p-value indicates stronger evidence against the null hypothesis.\n",
    "\n",
    "Basis for Decision-Making: The p-value serves as a critical factor in making decisions about hypotheses. It provides an objective criterion for deciding whether to reject the null hypothesis in favor of the alternative hypothesis, based on a predetermined significance level (alpha).\n",
    "\n",
    "\n"
   ]
  },
  {
   "cell_type": "code",
   "execution_count": 7,
   "id": "d9954e11-41c4-4510-845f-3950bb84894f",
   "metadata": {},
   "outputs": [
    {
     "data": {
      "image/png": "[encoded data removed]",
      "text/plain": [
       "<Figure size 800x600 with 1 Axes>"
      ]
     },
     "metadata": {},
     "output_type": "display_data"
    }
   ],
   "source": [
    "# Q9. Generate a Student's t-distribution plot using Python's matplotlib library, with the degrees of freedom parameter set to 10.\n",
    "\n",
    "\n",
    "import numpy as np\n",
    "import matplotlib.pyplot as plt\n",
    "import scipy.stats as stats\n",
    "\n",
    "# Degrees of freedom\n",
    "degrees_of_freedom = 10\n",
    "\n",
    "# Generate a range of x values\n",
    "x = np.linspace(-5, 5, 400)\n",
    "\n",
    "# Calculate the probability density function (PDF) values for the t-distribution\n",
    "pdf_values = stats.t.pdf(x, df=degrees_of_freedom)\n",
    "\n",
    "# Create the plot\n",
    "plt.figure(figsize=(8, 6))\n",
    "plt.plot(x, pdf_values, label=f't-Distribution (df = {degrees_of_freedom})')\n",
    "\n",
    "# Add labels and title\n",
    "plt.xlabel('x')\n",
    "plt.ylabel('Probability Density')\n",
    "plt.title(f'Student\\'s t-Distribution (Degrees of Freedom = {degrees_of_freedom})')\n",
    "\n",
    "# Add a legend\n",
    "plt.legend()\n",
    "\n",
    "# Show the plot\n",
    "plt.grid()\n",
    "plt.show()\n"
   ]
  },
  {
   "cell_type": "code",
   "execution_count": 8,
   "id": "3704af84-45ca-49af-9a21-06376d5e5468",
   "metadata": {},
   "outputs": [
    {
     "name": "stdout",
     "output_type": "stream",
     "text": [
      "Sample 1 Mean: 48.118531041489625\n",
      "Sample 2 Mean: 53.788375297100565\n",
      "t-statistic: -2.398115152010242\n",
      "Degrees of Freedom: 58\n",
      "Critical t-value: 2.0017174830120923\n",
      "p-value: 0.01971794186575826\n",
      "Conclusion: Reject the null hypothesis\n"
     ]
    }
   ],
   "source": [
    "# Q10. Write a Python program to calculate the two-sample t-test for independent samples, given two random samples of equal size and a null hypothesis that the population means are equal.\n",
    "\n",
    "\n",
    "import numpy as np\n",
    "import scipy.stats as stats\n",
    "\n",
    "# Generate two random samples of equal size\n",
    "np.random.seed(42)\n",
    "sample1 = np.random.normal(50, 10, 30)\n",
    "sample2 = np.random.normal(55, 10, 30)\n",
    "\n",
    "# Define significance level (alpha)\n",
    "alpha = 0.05\n",
    "\n",
    "# Calculate sample statistics\n",
    "mean1 = np.mean(sample1)\n",
    "stddev1 = np.std(sample1, ddof=1)\n",
    "n1 = len(sample1)\n",
    "\n",
    "mean2 = np.mean(sample2)\n",
    "stddev2 = np.std(sample2, ddof=1)\n",
    "n2 = len(sample2)\n",
    "\n",
    "# Calculate pooled standard deviation\n",
    "pooled_stddev = np.sqrt(((n1 - 1) * stddev1**2 + (n2 - 1) * stddev2**2) / (n1 + n2 - 2))\n",
    "\n",
    "# Calculate the t-statistic\n",
    "t_statistic = (mean1 - mean2) / (pooled_stddev * np.sqrt(1/n1 + 1/n2))\n",
    "\n",
    "# Calculate degrees of freedom\n",
    "degrees_of_freedom = n1 + n2 - 2\n",
    "\n",
    "# Calculate critical t-value for a two-tailed test\n",
    "critical_t_value = stats.t.ppf(1 - alpha/2, degrees_of_freedom)\n",
    "\n",
    "# Calculate p-value\n",
    "p_value = 2 * (1 - stats.t.cdf(abs(t_statistic), degrees_of_freedom))\n",
    "\n",
    "# Conduct hypothesis test\n",
    "if abs(t_statistic) > critical_t_value:\n",
    "    conclusion = \"Reject the null hypothesis\"\n",
    "else:\n",
    "    conclusion = \"Fail to reject the null hypothesis\"\n",
    "\n",
    "# Print results\n",
    "print(\"Sample 1 Mean:\", mean1)\n",
    "print(\"Sample 2 Mean:\", mean2)\n",
    "print(\"t-statistic:\", t_statistic)\n",
    "print(\"Degrees of Freedom:\", degrees_of_freedom)\n",
    "print(\"Critical t-value:\", critical_t_value)\n",
    "print(\"p-value:\", p_value)\n",
    "print(\"Conclusion:\", conclusion)\n",
    "\n"
   ]
  },
  {
   "cell_type": "code",
   "execution_count": null,
   "id": "e4cbc956-51b4-4839-8aa8-694e7e1a93d4",
   "metadata": {},
   "outputs": [],
   "source": [
    "# Q11: What is Student’s t distribution? When to use the t-Distribution.\n"
   ]
  },
  {
   "cell_type": "markdown",
   "id": "23b526c2-d86a-4a67-a1e9-230759129056",
   "metadata": {},
   "source": [
    "The Student's t-distribution, often referred to as the t-distribution, is a probability distribution that is used in statistical hypothesis testing when the sample size is small and the population standard deviation is unknown.\n",
    "\n",
    "The t-distribution is characterized by its degrees of freedom (df), which determine the shape of the distribution. As the degrees of freedom increase, the t-distribution approaches the standard normal distribution. The t-distribution is symmetrical and bell-shaped, like the normal distribution, but it has wider tails.\n",
    "\n",
    "\n",
    "When to Use the t-Distribution:\n",
    "\n",
    "The t-distribution is used in scenarios where certain assumptions are met and the sample size is relatively small:\n",
    "\n",
    "Small Sample Size: The t-distribution is particularly useful when the sample size is small (typically less than 30) and doesn't meet the requirement for a large sample size assumed by the normal distribution.\n",
    "\n",
    "Population Standard Deviation Unknown: When the population standard deviation is unknown, the t-distribution is used to estimate the standard error of the sample mean. This occurs frequently in practice since population standard deviations are often unavailable.\n",
    "\n",
    "Hypothesis Testing: The t-distribution is commonly used in hypothesis testing when dealing with small sample sizes. It helps calculate t-values for various statistical tests, such as one-sample t-test, two-sample t-test, and paired t-test.\n",
    "\n",
    "Confidence Intervals: When constructing confidence intervals for population parameters (e.g., population mean), the t-distribution is used when the population standard deviation is unknown and the sample size is small.\n",
    "\n",
    "Comparing Means: In cases where you want to compare the means of two groups (independent samples) or the means of two related variables (paired samples), and the sample sizes are small, the t-distribution is appropriate.\n",
    "\n",
    "Errors in Measurement: When dealing with situations where there might be errors or variability in measurement, the t-distribution provides a more accurate representation of uncertainty compared to the normal distribution.\n",
    "\n",
    "Statistical Estimation: When estimating population parameters from small samples, the t-distribution provides a better approximation of the sampling distribution of the statistic.\n"
   ]
  },
  {
   "cell_type": "code",
   "execution_count": null,
   "id": "7d119ed5-88f1-4ff9-b148-b6607163ca0a",
   "metadata": {},
   "outputs": [],
   "source": [
    "# Q12: What is t-statistic? State the formula for t-statistic.\n"
   ]
  },
  {
   "cell_type": "markdown",
   "id": "617dfa67-9a92-4e61-b8a2-d813a9e344c5",
   "metadata": {},
   "source": [
    "The t-statistic is a numerical value that measures the difference between the sample mean and a hypothesized population mean in terms of standard error. It quantifies how many standard errors the sample mean is away from the hypothesized population mean.\n",
    "\n",
    "One-Sample t-Test:\n",
    "Used to test whether the mean of a single sample is significantly different from a hypothesized population mean.\n",
    "Formula: \n",
    "\n",
    "t = Sample Mean − Hypothesized Mean / Standard Error of the Sample Mean \n",
    "\n",
    "\n",
    "Two-Sample t-Test for Independent Samples:\n",
    "Used to compare the means of two independent samples to determine if there is a statistically significant difference between them.\n",
    "Formula: t = Difference in Sample Means /  Pooled Standard Error of the Difference\n",
    "\n",
    "\n",
    "\n",
    "Paired t-Test:\n",
    "\n",
    "Used to compare the means of paired samples (e.g., before and after measurements) to determine if there is a significant difference.\n",
    "\n",
    "Formula: \n",
    "t= Standard Error of the Differences / Sample Mean of Differences\n",
    "\n"
   ]
  },
  {
   "cell_type": "code",
   "execution_count": null,
   "id": "e51d7e4b-c29e-41de-a0c1-1708335e153f",
   "metadata": {},
   "outputs": [],
   "source": [
    "# Q13. A coffee shop owner wants to estimate the average daily revenue for their shop. \n",
    "# They take a random sample of 50 days and find the sample mean revenue to be $500 with a standard deviation of $50. \n",
    "# Estimate the population mean revenue with a 95% confidence interval "
   ]
  },
  {
   "cell_type": "markdown",
   "id": "5ca37af1-c2b4-4e37-9398-536752e9cc27",
   "metadata": {},
   "source": [
    "To estimate the population mean revenue with a 95% confidence interval, we can use the formula for the confidence interval for a population mean based on a normal distribution. The formula is:\n",
    "\n",
    "Confidence Interval\n",
    "= Sample Mean ± Margin of Error\n",
    "\n",
    "\n",
    "Given the information: \n",
    "Sample Mean (x) = $500\n",
    "Standard Deviation (σ) = $50\n",
    "Sample Size (n) = 50 \n",
    "Confidence Level = 95%\n",
    "\n"
   ]
  },
  {
   "cell_type": "code",
   "execution_count": 9,
   "id": "dc8c043a-e222-4189-903c-adb00385cd1a",
   "metadata": {},
   "outputs": [
    {
     "name": "stdout",
     "output_type": "stream",
     "text": [
      "95% Confidence Interval:\n",
      "Lower Bound: 486.1407070887437\n",
      "Upper Bound: 513.8592929112564\n"
     ]
    }
   ],
   "source": [
    "import math\n",
    "\n",
    "# Given values\n",
    "sample_mean = 500\n",
    "standard_deviation = 50\n",
    "sample_size = 50\n",
    "confidence_level = 0.95\n",
    "critical_value = 1.96  # For a 95% confidence level\n",
    "\n",
    "# Calculate standard error of the mean\n",
    "standard_error = standard_deviation / math.sqrt(sample_size)\n",
    "\n",
    "# Calculate margin of error\n",
    "margin_of_error = critical_value * standard_error\n",
    "\n",
    "# Calculate confidence interval\n",
    "lower_bound = sample_mean - margin_of_error\n",
    "upper_bound = sample_mean + margin_of_error\n",
    "\n",
    "# Print the confidence interval\n",
    "print(\"95% Confidence Interval:\")\n",
    "print(\"Lower Bound:\", lower_bound)\n",
    "print(\"Upper Bound:\", upper_bound)\n"
   ]
  },
  {
   "cell_type": "code",
   "execution_count": 10,
   "id": "c921fa29-c0e8-4f26-bc02-9c0d2e17dad9",
   "metadata": {},
   "outputs": [
    {
     "name": "stdout",
     "output_type": "stream",
     "text": [
      "Sample Mean: 8\n",
      "t-statistic: -6.666666666666667\n",
      "Degrees of Freedom: 99\n",
      "Critical t-value: 1.9842169515086827\n",
      "Conclusion: Reject the null hypothesis\n"
     ]
    }
   ],
   "source": [
    "# Q14. A researcher hypothesizes that a new drug will decrease blood pressure by 10 mmHg. \n",
    "# They conduct a clinical trial with 100 patients and find that the sample mean decrease in blood pressure is 8 mmHg with a standard deviation of 3 mmHg. \n",
    "# Test the hypothesis with a significance level of 0.05.\n",
    "\n",
    "\n",
    "\n",
    "import math\n",
    "import scipy.stats as stats\n",
    "\n",
    "# Given values\n",
    "sample_mean = 8\n",
    "standard_deviation = 3\n",
    "sample_size = 100\n",
    "hypothesized_mean = 10\n",
    "significance_level = 0.05\n",
    "\n",
    "# Calculate the t-statistic\n",
    "t_statistic = (sample_mean - hypothesized_mean) / (standard_deviation / math.sqrt(sample_size))\n",
    "\n",
    "# Calculate degrees of freedom\n",
    "degrees_of_freedom = sample_size - 1\n",
    "\n",
    "# Calculate critical t-value for a two-tailed test\n",
    "critical_t_value = stats.t.ppf(1 - significance_level/2, degrees_of_freedom)\n",
    "\n",
    "# Perform the hypothesis test\n",
    "if abs(t_statistic) > critical_t_value:\n",
    "    conclusion = \"Reject the null hypothesis\"\n",
    "else:\n",
    "    conclusion = \"Fail to reject the null hypothesis\"\n",
    "\n",
    "# Print results\n",
    "print(\"Sample Mean:\", sample_mean)\n",
    "print(\"t-statistic:\", t_statistic)\n",
    "print(\"Degrees of Freedom:\", degrees_of_freedom)\n",
    "print(\"Critical t-value:\", critical_t_value)\n",
    "print(\"Conclusion:\", conclusion)\n"
   ]
  },
  {
   "cell_type": "code",
   "execution_count": 11,
   "id": "81e6fa66-c6a3-4483-8a95-8b6d0da5bca6",
   "metadata": {},
   "outputs": [
    {
     "name": "stdout",
     "output_type": "stream",
     "text": [
      "Sample Mean: 4.8\n",
      "t-statistic: -2.0000000000000018\n",
      "Degrees of Freedom: 24\n",
      "Critical t-value: -2.4921594731575762\n",
      "Conclusion: Fail to reject the null hypothesis\n"
     ]
    }
   ],
   "source": [
    "# Q15. An electronics company produces a certain type of product with a mean weight of 5 pounds and a standard deviation of 0.5 pounds. \n",
    "# A random sample of 25 products is taken, and the sample mean weight is found to be 4.8 pounds. \n",
    "# Test the hypothesis that the true mean weight of the products is less than 5 pounds with a significance level of 0.01.\n",
    "\n",
    "\n",
    "import math\n",
    "import scipy.stats as stats\n",
    "\n",
    "# Given values\n",
    "sample_mean = 4.8\n",
    "standard_deviation = 0.5\n",
    "sample_size = 25\n",
    "hypothesized_mean = 5\n",
    "significance_level = 0.01\n",
    "\n",
    "# Calculate the t-statistic\n",
    "t_statistic = (sample_mean - hypothesized_mean) / (standard_deviation / math.sqrt(sample_size))\n",
    "\n",
    "# Calculate degrees of freedom\n",
    "degrees_of_freedom = sample_size - 1\n",
    "\n",
    "# Calculate critical t-value for a lower-tailed test\n",
    "critical_t_value = stats.t.ppf(significance_level, degrees_of_freedom)\n",
    "\n",
    "# Perform the hypothesis test\n",
    "if t_statistic < critical_t_value:\n",
    "    conclusion = \"Reject the null hypothesis\"\n",
    "else:\n",
    "    conclusion = \"Fail to reject the null hypothesis\"\n",
    "\n",
    "# Print results\n",
    "print(\"Sample Mean:\", sample_mean)\n",
    "print(\"t-statistic:\", t_statistic)\n",
    "print(\"Degrees of Freedom:\", degrees_of_freedom)\n",
    "print(\"Critical t-value:\", critical_t_value)\n",
    "print(\"Conclusion:\", conclusion)\n"
   ]
  },
  {
   "cell_type": "code",
   "execution_count": 12,
   "id": "fe857641-18b9-42a7-9955-ca4254c52633",
   "metadata": {},
   "outputs": [
    {
     "name": "stdout",
     "output_type": "stream",
     "text": [
      "t-statistic: 2.2511258444537408\n",
      "Degrees of Freedom: 68\n",
      "Critical t-value: 2.6500812928169553\n",
      "Conclusion: Fail to reject the null hypothesis\n"
     ]
    }
   ],
   "source": [
    "# Q16. Two groups of students are given different study materials to prepare for a test. \n",
    "# The first group (n1 = 30) has a mean score of 80 with a standard deviation of 10, and the second group (n2 = 40) has a mean score of 75 with a standard deviation of 8. \n",
    "# Test the hypothesis that the population means for the two groups are equal with a significance level of 0.01.\n",
    "\n",
    "\n",
    "\n",
    "import math\n",
    "import scipy.stats as stats\n",
    "\n",
    "# Given values for Group 1\n",
    "sample_mean_1 = 80\n",
    "sample_stddev_1 = 10\n",
    "sample_size_1 = 30\n",
    "\n",
    "# Given values for Group 2\n",
    "sample_mean_2 = 75\n",
    "sample_stddev_2 = 8\n",
    "sample_size_2 = 40\n",
    "\n",
    "# Significance level\n",
    "significance_level = 0.01\n",
    "\n",
    "# Calculate pooled standard error of the difference in means\n",
    "pooled_std_error = math.sqrt(\n",
    "    (sample_stddev_1 ** 2 / sample_size_1) + (sample_stddev_2 ** 2 / sample_size_2)\n",
    ")\n",
    "\n",
    "# Calculate t-statistic\n",
    "t_statistic = (sample_mean_1 - sample_mean_2) / pooled_std_error\n",
    "\n",
    "# Calculate degrees of freedom\n",
    "degrees_of_freedom = sample_size_1 + sample_size_2 - 2\n",
    "\n",
    "# Calculate critical t-value for a two-tailed test\n",
    "critical_t_value = stats.t.ppf(1 - significance_level / 2, degrees_of_freedom)\n",
    "\n",
    "# Perform the hypothesis test\n",
    "if abs(t_statistic) > critical_t_value:\n",
    "    conclusion = \"Reject the null hypothesis\"\n",
    "else:\n",
    "    conclusion = \"Fail to reject the null hypothesis\"\n",
    "\n",
    "# Print results\n",
    "print(\"t-statistic:\", t_statistic)\n",
    "print(\"Degrees of Freedom:\", degrees_of_freedom)\n",
    "print(\"Critical t-value:\", critical_t_value)\n",
    "print(\"Conclusion:\", conclusion)\n"
   ]
  },
  {
   "cell_type": "code",
   "execution_count": 13,
   "id": "ba6ef892-4bfc-4b99-ab03-0fcf61c0c180",
   "metadata": {},
   "outputs": [
    {
     "name": "stdout",
     "output_type": "stream",
     "text": [
      "99% Confidence Interval:\n",
      "Lower Bound: 3.453547879499036\n",
      "Upper Bound: 4.546452120500964\n"
     ]
    }
   ],
   "source": [
    "# Q17. A marketing company wants to estimate the average number of ads watched by viewers during a TV program. \n",
    "# They take a random sample of 50 viewers and find that the sample mean is 4 with a standard deviation of 1.5. \n",
    "# Estimate the population mean with a 99% confidence interval. \n",
    "\n",
    "\n",
    "import math\n",
    "\n",
    "# Given values\n",
    "sample_mean = 4\n",
    "standard_deviation = 1.5\n",
    "sample_size = 50\n",
    "confidence_level = 0.99\n",
    "critical_value = 2.576  # For a 99% confidence level\n",
    "\n",
    "# Calculate standard error of the mean\n",
    "standard_error = standard_deviation / math.sqrt(sample_size)\n",
    "\n",
    "# Calculate margin of error\n",
    "margin_of_error = critical_value * standard_error\n",
    "\n",
    "# Calculate confidence interval\n",
    "lower_bound = sample_mean - margin_of_error\n",
    "upper_bound = sample_mean + margin_of_error\n",
    "\n",
    "# Print the confidence interval\n",
    "print(\"99% Confidence Interval:\")\n",
    "print(\"Lower Bound:\", lower_bound)\n",
    "print(\"Upper Bound:\", upper_bound)\n"
   ]
  }
 ],
 "metadata": {
  "kernelspec": {
   "display_name": "Python 3 (ipykernel)",
   "language": "python",
   "name": "python3"
  },
  "language_info": {
   "codemirror_mode": {
    "name": "ipython",
    "version": 3
   },
   "file_extension": ".py",
   "mimetype": "text/x-python",
   "name": "python",
   "nbconvert_exporter": "python",
   "pygments_lexer": "ipython3",
   "version": "3.10.8"
  }
 },
 "nbformat": 4,
 "nbformat_minor": 5
}
