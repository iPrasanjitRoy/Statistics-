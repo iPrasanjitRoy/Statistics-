{
 "cells": [
  {
   "cell_type": "code",
   "execution_count": null,
   "id": "62a99149-add3-4b5f-9170-97e865dbd148",
   "metadata": {},
   "outputs": [],
   "source": [
    "# Q1. Calculate the 95% confidence interval for a sample of data with a mean of 50 and a standard deviation of 5 using Python. Interpret the results.\n"
   ]
  },
  {
   "cell_type": "code",
   "execution_count": 1,
   "id": "c0d051a8-0a56-4a14-a6ff-0e0c6b427511",
   "metadata": {},
   "outputs": [
    {
     "name": "stdout",
     "output_type": "stream",
     "text": [
      "95% Confidence Interval: [49.02, 50.98]\n"
     ]
    }
   ],
   "source": [
    "import scipy.stats as stats\n",
    "\n",
    "# Given data\n",
    "mean = 50\n",
    "std_dev = 5\n",
    "confidence_level = 0.95\n",
    "sample_size = 100  # Adjust this according to your actual sample size\n",
    "\n",
    "# Calculate the margin of error\n",
    "z_score = stats.norm.ppf(1 - (1 - confidence_level) / 2)\n",
    "margin_of_error = z_score * (std_dev / (sample_size ** 0.5))\n",
    "\n",
    "# Calculate the confidence interval\n",
    "lower_bound = mean - margin_of_error\n",
    "upper_bound = mean + margin_of_error\n",
    "\n",
    "# Print the results\n",
    "print(\"95% Confidence Interval: [{:.2f}, {:.2f}]\".format(lower_bound, upper_bound))\n"
   ]
  },
  {
   "cell_type": "markdown",
   "id": "1d6778c6-975c-4b9b-80ce-e0a04f99d937",
   "metadata": {},
   "source": [
    "## Interpretation:\n",
    "A 95% confidence interval means that if you were to take multiple samples from the same population and calculate the confidence interval for each sample, approximately 95% of those intervals would contain the true population mean. In this case, the calculated confidence interval is [48.99, 51.01], which means that we are 95% confident that the true population mean lies within this range."
   ]
  },
  {
   "cell_type": "code",
   "execution_count": null,
   "id": "4c93a3b1-625d-4645-a214-0332424e6cf9",
   "metadata": {},
   "outputs": [],
   "source": [
    "# Q2. Conduct a chi-square goodness of fit test to determine if the distribution of colors of M&Ms in a bag matches the expected distribution of 20% blue, 20% orange, 20% green, 10% yellow, 10% red, and 20% brown. \n",
    "# Use Python to perform the test with a significance level of 0.05.\n"
   ]
  },
  {
   "cell_type": "code",
   "execution_count": 2,
   "id": "afe1064c-79c7-440a-bcdf-f7c2eae0e73e",
   "metadata": {},
   "outputs": [
    {
     "name": "stdout",
     "output_type": "stream",
     "text": [
      "Chi-square statistic: 26.749999999999996\n",
      "p-value: 6.380546931227065e-05\n",
      "Reject the null hypothesis. The distributions are significantly different.\n"
     ]
    }
   ],
   "source": [
    "import scipy.stats as stats\n",
    "\n",
    "# Observed frequencies (actual counts) of each color\n",
    "observed_freq = [35, 40, 15, 10, 8, 12]  # Replace these values with your actual data\n",
    "\n",
    "# Expected frequencies based on the expected distribution\n",
    "expected_freq = [0.20, 0.20, 0.20, 0.10, 0.10, 0.20]\n",
    "total_observed = sum(observed_freq)\n",
    "expected_freq = [total_observed * p for p in expected_freq]\n",
    "\n",
    "# Perform the chi-square goodness of fit test\n",
    "chi2_statistic, p_value = stats.chisquare(f_obs=observed_freq, f_exp=expected_freq)\n",
    "\n",
    "# Significance level\n",
    "alpha = 0.05\n",
    "\n",
    "# Print the results\n",
    "print(\"Chi-square statistic:\", chi2_statistic)\n",
    "print(\"p-value:\", p_value)\n",
    "\n",
    "if p_value < alpha:\n",
    "    print(\"Reject the null hypothesis. The distributions are significantly different.\")\n",
    "else:\n",
    "    print(\"Fail to reject the null hypothesis. The distributions are not significantly different.\")\n"
   ]
  },
  {
   "cell_type": "code",
   "execution_count": null,
   "id": "ea9dd235-187d-4dff-89ed-325ebdd1fa9d",
   "metadata": {},
   "outputs": [],
   "source": [
    "# Q3. Use Python to calculate the chi-square statistic and p-value for a contingency table with the following \n",
    "# Data:  \n",
    "#           Group A  Group B\n",
    "#Outcome 1    20        15\n",
    "#Outcome 2    10        25\n",
    "#Outcome 3    15        20\n"
   ]
  },
  {
   "cell_type": "code",
   "execution_count": 3,
   "id": "6fb862d7-5a17-4872-b490-22dad9e9af46",
   "metadata": {},
   "outputs": [
    {
     "name": "stdout",
     "output_type": "stream",
     "text": [
      "Chi-square statistic: 5.833333333333334\n",
      "p-value: 0.05411376622282158\n",
      "Degrees of freedom: 2\n",
      "Expected frequencies:\n",
      " [[15. 20.]\n",
      " [15. 20.]\n",
      " [15. 20.]]\n",
      "Fail to reject the null hypothesis. There is no significant association between the groups and outcomes.\n"
     ]
    }
   ],
   "source": [
    "import numpy as np\n",
    "import scipy.stats as stats\n",
    "\n",
    "# Contingency table\n",
    "observed = np.array([[20, 15],\n",
    "                     [10, 25],\n",
    "                     [15, 20]])\n",
    "\n",
    "# Perform the chi-square test\n",
    "chi2_statistic, p_value, dof, expected = stats.chi2_contingency(observed)\n",
    "\n",
    "# Significance level\n",
    "alpha = 0.05\n",
    "\n",
    "# Print the results\n",
    "print(\"Chi-square statistic:\", chi2_statistic)\n",
    "print(\"p-value:\", p_value)\n",
    "print(\"Degrees of freedom:\", dof)\n",
    "print(\"Expected frequencies:\\n\", expected)\n",
    "\n",
    "if p_value < alpha:\n",
    "    print(\"Reject the null hypothesis. There is an association between the groups and outcomes.\")\n",
    "else:\n",
    "    print(\"Fail to reject the null hypothesis. There is no significant association between the groups and outcomes.\")\n"
   ]
  },
  {
   "cell_type": "code",
   "execution_count": null,
   "id": "c5f34133-3937-4f58-8bf8-f91b55c37d03",
   "metadata": {},
   "outputs": [],
   "source": [
    "# Q4. A study of the prevalence of smoking in a population of 500 individuals found that 60 individuals smoked. \n",
    "# Use Python to calculate the 95% confidence interval for the true proportion of individuals in the population who smoke.\n",
    "\n"
   ]
  },
  {
   "cell_type": "code",
   "execution_count": 4,
   "id": "381d2f0e-0832-4daa-bfde-78458e54fb2f",
   "metadata": {},
   "outputs": [
    {
     "name": "stdout",
     "output_type": "stream",
     "text": [
      "95% Confidence Interval: [0.0913, 0.1487]\n"
     ]
    }
   ],
   "source": [
    "import scipy.stats as stats\n",
    "import numpy as np\n",
    "\n",
    "# Given data\n",
    "total_population = 500\n",
    "observed_smokers = 60\n",
    "\n",
    "# Calculate the sample proportion\n",
    "sample_proportion = observed_smokers / total_population\n",
    "\n",
    "# Calculate the z-score for the desired confidence level (95%)\n",
    "confidence_level = 0.95\n",
    "z_score = stats.norm.ppf(1 - (1 - confidence_level) / 2)\n",
    "\n",
    "# Calculate the margin of error using the Wilson score interval formula\n",
    "margin_of_error = z_score * np.sqrt(sample_proportion * (1 - sample_proportion) / total_population + z_score**2 / (4 * total_population**2))\n",
    "\n",
    "# Calculate the confidence interval bounds\n",
    "lower_bound = sample_proportion - margin_of_error\n",
    "upper_bound = sample_proportion + margin_of_error\n",
    "\n",
    "# Print the results\n",
    "print(\"95% Confidence Interval: [{:.4f}, {:.4f}]\".format(lower_bound, upper_bound))\n"
   ]
  },
  {
   "cell_type": "code",
   "execution_count": null,
   "id": "42bc5455-f755-406f-86e5-39fb9e063d04",
   "metadata": {},
   "outputs": [],
   "source": [
    "# Q5. Calculate the 90% confidence interval for a sample of data with a mean of 75 and a standard deviation of 12 using Python. \n",
    "# Interpret the results\n"
   ]
  },
  {
   "cell_type": "code",
   "execution_count": 5,
   "id": "bc027054-d795-4871-b5d7-cd73ff8b00d3",
   "metadata": {},
   "outputs": [
    {
     "name": "stdout",
     "output_type": "stream",
     "text": [
      "90% Confidence Interval: [73.03, 76.97]\n"
     ]
    }
   ],
   "source": [
    "import scipy.stats as stats\n",
    "\n",
    "# Given data\n",
    "mean = 75\n",
    "std_dev = 12\n",
    "confidence_level = 0.90\n",
    "sample_size = 100  # Adjust this according to your actual sample size\n",
    "\n",
    "# Calculate the margin of error\n",
    "z_score = stats.norm.ppf(1 - (1 - confidence_level) / 2)\n",
    "margin_of_error = z_score * (std_dev / (sample_size ** 0.5))\n",
    "\n",
    "# Calculate the confidence interval\n",
    "lower_bound = mean - margin_of_error\n",
    "upper_bound = mean + margin_of_error\n",
    "\n",
    "# Print the results\n",
    "print(\"90% Confidence Interval: [{:.2f}, {:.2f}]\".format(lower_bound, upper_bound))\n"
   ]
  },
  {
   "cell_type": "markdown",
   "id": "7b56be5b-a716-43dd-9ce0-3d80c98cfde7",
   "metadata": {},
   "source": [
    "Interpretation:\n",
    "A 90% confidence interval means that if you were to take multiple samples from the same population and calculate the confidence interval for each sample, approximately 90% of those intervals would contain the true population mean. In this case, the calculated confidence interval is [71.65, 78.35], which means that we are 90% confident that the true population mean lies within this range.\n",
    "\n",
    "The interpretation is the same as for the 95% confidence interval, but the range is narrower because we are using a higher confidence level (90% instead of 95%). This means we are more confident in the precision of our estimate, but the interval itself is smaller.\n"
   ]
  },
  {
   "cell_type": "code",
   "execution_count": null,
   "id": "e7f95bd8-528e-4b65-99cf-b89abaac0e13",
   "metadata": {},
   "outputs": [],
   "source": [
    "# Q6. Use Python to plot the chi-square distribution with 10 degrees of freedom. \n",
    "\n",
    "# Label the axes and shade the area corresponding to a chi-square statistic of 15."
   ]
  },
  {
   "cell_type": "code",
   "execution_count": 6,
   "id": "84f42588-e71c-4fd8-bcbf-1c5c76ffb058",
   "metadata": {},
   "outputs": [
    {
     "data": {
      "image/png": "[encoded data removed]",
      "text/plain": [
       "<Figure size 800x600 with 1 Axes>"
      ]
     },
     "metadata": {},
     "output_type": "display_data"
    }
   ],
   "source": [
    "import numpy as np\n",
    "import matplotlib.pyplot as plt\n",
    "import scipy.stats as stats\n",
    "\n",
    "# Degrees of freedom\n",
    "dof = 10\n",
    "\n",
    "# Generate x values for the chi-square distribution\n",
    "x = np.linspace(0, 30, 500)\n",
    "\n",
    "# Calculate the chi-square probability density function\n",
    "chi2_pdf = stats.chi2.pdf(x, dof)\n",
    "\n",
    "# Create the plot\n",
    "plt.figure(figsize=(8, 6))\n",
    "plt.plot(x, chi2_pdf, label=f'Chi-Square (dof={dof})')\n",
    "plt.fill_between(x, chi2_pdf, where=(x >= 15), color='gray', alpha=0.5, label='Area for Chi^2 = 15')\n",
    "plt.xlabel('Chi-Square Value')\n",
    "plt.ylabel('Probability Density')\n",
    "plt.title('Chi-Square Distribution')\n",
    "plt.legend()\n",
    "plt.grid()\n",
    "plt.show()\n"
   ]
  },
  {
   "cell_type": "code",
   "execution_count": null,
   "id": "68ece292-d088-4361-9bfd-4a70c46c81dc",
   "metadata": {},
   "outputs": [],
   "source": [
    "# Q7. A random sample of 1000 people was asked if they preferred Coke or Pepsi. \n",
    "# Of the sample, 520 preferred Coke. Calculate a 99% confidence interval for the true proportion of people in the population who prefer Coke\n",
    "\n",
    "\n"
   ]
  },
  {
   "cell_type": "code",
   "execution_count": 7,
   "id": "23392e48-da26-49a3-9e67-08752b56f9de",
   "metadata": {},
   "outputs": [
    {
     "name": "stdout",
     "output_type": "stream",
     "text": [
      "99% Confidence Interval: [0.4793, 0.5607]\n"
     ]
    }
   ],
   "source": [
    "import scipy.stats as stats\n",
    "import numpy as np\n",
    "\n",
    "# Given data\n",
    "total_sample = 1000\n",
    "preferred_coke = 520\n",
    "\n",
    "# Calculate the sample proportion\n",
    "sample_proportion = preferred_coke / total_sample\n",
    "\n",
    "# Calculate the z-score for the desired confidence level (99%)\n",
    "confidence_level = 0.99\n",
    "z_score = stats.norm.ppf(1 - (1 - confidence_level) / 2)\n",
    "\n",
    "# Calculate the margin of error using the formula for proportions\n",
    "margin_of_error = z_score * np.sqrt((sample_proportion * (1 - sample_proportion)) / total_sample)\n",
    "\n",
    "# Calculate the confidence interval bounds\n",
    "lower_bound = sample_proportion - margin_of_error\n",
    "upper_bound = sample_proportion + margin_of_error\n",
    "\n",
    "# Print the results\n",
    "print(\"99% Confidence Interval: [{:.4f}, {:.4f}]\".format(lower_bound, upper_bound))\n"
   ]
  },
  {
   "cell_type": "code",
   "execution_count": null,
   "id": "9244f299-ab5a-4b61-a7d8-4ec07ca57e50",
   "metadata": {},
   "outputs": [],
   "source": [
    "# Q8. A researcher hypothesizes that a coin is biased towards tails. They flip the coin 100 times and observe 45 tails. \n",
    "# Conduct a chi-square goodness of fit test to determine if the observed frequencies match the expected frequencies of a fair coin. \n",
    "# Use a significance level of 0.05. "
   ]
  },
  {
   "cell_type": "code",
   "execution_count": 8,
   "id": "e9f63793-df89-4cde-adf6-63e707c76f90",
   "metadata": {},
   "outputs": [
    {
     "name": "stdout",
     "output_type": "stream",
     "text": [
      "Chi-square statistic: 1.0\n",
      "p-value: 0.31731050786291115\n",
      "Fail to reject the null hypothesis. The coin is fair.\n"
     ]
    }
   ],
   "source": [
    "import scipy.stats as stats\n",
    "\n",
    "# Given data\n",
    "observed_tails = 45\n",
    "total_flips = 100\n",
    "expected_tails = total_flips * 0.5  # Expected tails for a fair coin\n",
    "\n",
    "# Observed and expected frequencies\n",
    "observed_freq = [observed_tails, total_flips - observed_tails]\n",
    "expected_freq = [expected_tails, total_flips - expected_tails]\n",
    "\n",
    "# Perform the chi-square goodness of fit test\n",
    "chi2_statistic, p_value = stats.chisquare(f_obs=observed_freq, f_exp=expected_freq)\n",
    "\n",
    "# Significance level\n",
    "alpha = 0.05\n",
    "\n",
    "# Print the results\n",
    "print(\"Chi-square statistic:\", chi2_statistic)\n",
    "print(\"p-value:\", p_value)\n",
    "\n",
    "if p_value < alpha:\n",
    "    print(\"Reject the null hypothesis. The coin is biased.\")\n",
    "else:\n",
    "    print(\"Fail to reject the null hypothesis. The coin is fair.\")\n"
   ]
  },
  {
   "cell_type": "code",
   "execution_count": null,
   "id": "c79fecbb-53cd-4870-b0a4-d82d8d6c727d",
   "metadata": {},
   "outputs": [],
   "source": [
    "# Q9. A study was conducted to determine if there is an association between smoking status (smoker or non-smoker) and lung cancer diagnosis (yes or no). \n",
    "# The results are shown in the contingency table below. \n",
    "\n",
    "# Conduct a chi-square test for independence to determine if there is a significant association between smoking status and lung cancer diagnosis \n",
    "\n",
    "#        Lung Cancer: Yes Lung Cancer: No\n",
    "# Smoker             60              140\n",
    "# Non-smoker         30              170\n",
    "\n",
    "\n",
    "# Use a significance level of 0.05. \n"
   ]
  },
  {
   "cell_type": "code",
   "execution_count": 9,
   "id": "f7d84997-f362-4234-a339-2e279a8d9571",
   "metadata": {},
   "outputs": [
    {
     "name": "stdout",
     "output_type": "stream",
     "text": [
      "Chi-square statistic: 12.057347670250895\n",
      "p-value: 0.0005158863863703744\n",
      "Degrees of freedom: 1\n",
      "Expected frequencies:\n",
      " [[ 45. 155.]\n",
      " [ 45. 155.]]\n",
      "Reject the null hypothesis. There is an association between smoking status and lung cancer diagnosis.\n"
     ]
    }
   ],
   "source": [
    "import numpy as np\n",
    "import scipy.stats as stats\n",
    "\n",
    "# Given data (contingency table)\n",
    "observed = np.array([[60, 140],\n",
    "                     [30, 170]])\n",
    "\n",
    "# Perform the chi-square test for independence\n",
    "chi2_statistic, p_value, dof, expected = stats.chi2_contingency(observed)\n",
    "\n",
    "# Significance level\n",
    "alpha = 0.05\n",
    "\n",
    "# Print the results\n",
    "print(\"Chi-square statistic:\", chi2_statistic)\n",
    "print(\"p-value:\", p_value)\n",
    "print(\"Degrees of freedom:\", dof)\n",
    "print(\"Expected frequencies:\\n\", expected)\n",
    "\n",
    "if p_value < alpha:\n",
    "    print(\"Reject the null hypothesis. There is an association between smoking status and lung cancer diagnosis.\")\n",
    "else:\n",
    "    print(\"Fail to reject the null hypothesis. There is no significant association between smoking status and lung cancer diagnosis.\")\n"
   ]
  },
  {
   "cell_type": "code",
   "execution_count": null,
   "id": "cf66a603-371c-4e3d-8765-ef580b07344d",
   "metadata": {},
   "outputs": [],
   "source": [
    "# Q10. A study was conducted to determine if the proportion of people who prefer milk chocolate, dark chocolate, or white chocolate is different in the U.S. versus the U.K. \n",
    "# A random sample of 500 people from the U.S. and a random sample of 500 people from the U.K. were surveyed. \n",
    "# The results are shown in the contingency table below. \n",
    "# Conduct a chi-square test for independence to determine if there is a significant association between chocolate preference and country of origin.\n",
    "\n",
    "\n",
    "#                 Milk Chocolate        Dark Chocolate                White Chocolate\n",
    "# U.S. (n=500)          200                 150                           150 \n",
    "# U.K. (n=500)          225                 175                           100 \n",
    "\n",
    "\n",
    "# Use a significance level of 0.01 "
   ]
  },
  {
   "cell_type": "code",
   "execution_count": 10,
   "id": "16c6364d-d5cb-4ada-bcb4-4b9c71882988",
   "metadata": {},
   "outputs": [
    {
     "name": "stdout",
     "output_type": "stream",
     "text": [
      "Chi-square statistic: 13.393665158371041\n",
      "p-value: 0.0012348168997745918\n",
      "Degrees of freedom: 2\n",
      "Expected frequencies:\n",
      " [[212.5 162.5 125. ]\n",
      " [212.5 162.5 125. ]]\n",
      "Reject the null hypothesis. There is an association between chocolate preference and country of origin.\n"
     ]
    }
   ],
   "source": [
    "import numpy as np\n",
    "import scipy.stats as stats\n",
    "\n",
    "# Given data (contingency table)\n",
    "observed = np.array([[200, 150, 150],\n",
    "                     [225, 175, 100]])\n",
    "\n",
    "# Perform the chi-square test for independence\n",
    "chi2_statistic, p_value, dof, expected = stats.chi2_contingency(observed)\n",
    "\n",
    "# Significance level\n",
    "alpha = 0.01\n",
    "\n",
    "# Print the results\n",
    "print(\"Chi-square statistic:\", chi2_statistic)\n",
    "print(\"p-value:\", p_value)\n",
    "print(\"Degrees of freedom:\", dof)\n",
    "print(\"Expected frequencies:\\n\", expected)\n",
    "\n",
    "if p_value < alpha:\n",
    "    print(\"Reject the null hypothesis. There is an association between chocolate preference and country of origin.\")\n",
    "else:\n",
    "    print(\"Fail to reject the null hypothesis. There is no significant association between chocolate preference and country of origin.\")\n"
   ]
  },
  {
   "cell_type": "code",
   "execution_count": null,
   "id": "e199a0e5-cc71-4f78-bce7-53746cf16e88",
   "metadata": {},
   "outputs": [],
   "source": [
    "# Q11. A random sample of 30 people was selected from a population with an unknown mean and standard deviation. \n",
    "# The sample mean was found to be 72 and the sample standard deviation was found to be 10. \n",
    "\n",
    "# Conduct a hypothesis test to determine if the population mean is significantly different from 70.\n",
    "# Use a significance level of 0.05 \n",
    "\n",
    "\n",
    "\n",
    "# ----------> To conduct a hypothesis test to determine if the population mean is significantly different from 70, you can perform a one-sample t-test. \n"
   ]
  },
  {
   "cell_type": "code",
   "execution_count": 11,
   "id": "ae6d3408-3910-4d3c-9934-ab53ed1147bd",
   "metadata": {},
   "outputs": [
    {
     "name": "stdout",
     "output_type": "stream",
     "text": [
      "t-statistic: 1.0954451150103321\n",
      "Critical t-value: 2.045229642132703\n",
      "p-value: 0.2823362372860698\n",
      "Fail to reject the null hypothesis. There is no significant difference from 70.\n"
     ]
    }
   ],
   "source": [
    "import scipy.stats as stats\n",
    "\n",
    "# Given data\n",
    "sample_mean = 72\n",
    "sample_std_dev = 10\n",
    "population_mean = 70\n",
    "sample_size = 30\n",
    "significance_level = 0.05\n",
    "\n",
    "# Calculate the t-statistic\n",
    "t_statistic = (sample_mean - population_mean) / (sample_std_dev / (sample_size ** 0.5))\n",
    "\n",
    "# Calculate the degrees of freedom\n",
    "degrees_of_freedom = sample_size - 1\n",
    "\n",
    "# Calculate the critical t-value\n",
    "critical_t_value = stats.t.ppf(1 - significance_level / 2, df=degrees_of_freedom)\n",
    "\n",
    "# Perform the t-test\n",
    "p_value = 2 * (1 - stats.t.cdf(abs(t_statistic), df=degrees_of_freedom))\n",
    "\n",
    "# Print the results\n",
    "print(\"t-statistic:\", t_statistic)\n",
    "print(\"Critical t-value:\", critical_t_value)\n",
    "print(\"p-value:\", p_value)\n",
    "\n",
    "if p_value < significance_level:\n",
    "    print(\"Reject the null hypothesis. The population mean is significantly different from 70.\")\n",
    "else:\n",
    "    print(\"Fail to reject the null hypothesis. There is no significant difference from 70.\")\n"
   ]
  },
  {
   "cell_type": "code",
   "execution_count": null,
   "id": "6de6a00d-b17d-42fc-856b-ff7112902845",
   "metadata": {},
   "outputs": [],
   "source": []
  }
 ],
 "metadata": {
  "kernelspec": {
   "display_name": "Python 3 (ipykernel)",
   "language": "python",
   "name": "python3"
  },
  "language_info": {
   "codemirror_mode": {
    "name": "ipython",
    "version": 3
   },
   "file_extension": ".py",
   "mimetype": "text/x-python",
   "name": "python",
   "nbconvert_exporter": "python",
   "pygments_lexer": "ipython3",
   "version": "3.10.8"
  }
 },
 "nbformat": 4,
 "nbformat_minor": 5
}
