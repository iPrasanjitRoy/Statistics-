{
 "cells": [
  {
   "cell_type": "code",
   "execution_count": null,
   "id": "50e3f23c-9627-4bd8-a367-f00fa44b8da9",
   "metadata": {},
   "outputs": [],
   "source": [
    "# Q1. What are the three measures of central tendency? "
   ]
  },
  {
   "cell_type": "markdown",
   "id": "da0a7998-2148-4e67-be62-8076c705cddf",
   "metadata": {},
   "source": [
    "The three measures of central tendency are:\n",
    "\n",
    "Mean: The mean is the arithmetic average of a set of values. It is calculated by summing all the values in the dataset and then dividing by the number of values. The mean is sensitive to extreme values.\n",
    "\n",
    "Median: The median is the middle value in a dataset when the values are arranged in ascending or descending order. If there is an even number of values, the median is the average of the two middle values. The median is less affected by extreme values and is often used when the data contains outliers.\n",
    "\n",
    "Mode: The mode is the value that appears most frequently in a dataset. A dataset may have one mode (unimodal), two modes (bimodal), or more (multimodal). In some cases, there may be no mode, and all values in the dataset are equally distributed."
   ]
  },
  {
   "cell_type": "code",
   "execution_count": null,
   "id": "bc2ee91d-e6e4-46ff-94dc-ce44e9be52f1",
   "metadata": {},
   "outputs": [],
   "source": [
    "# Q2. What is the difference between the mean, median, and mode? How are they used to measure the central tendency of a dataset?\n"
   ]
  },
  {
   "cell_type": "markdown",
   "id": "f5a4d4f8-a69d-48ba-9711-554b3ed27c2a",
   "metadata": {},
   "source": [
    "The mean, median, and mode are three different measures of central tendency, and they provide insights into the central value or typical value of a dataset. Here's a brief explanation of each measure and how they are used:\n",
    "\n",
    "Mean:\n",
    "Definition: The mean is the arithmetic average of a dataset. It is calculated by summing up all the values in the dataset and then dividing by the total number of values.\n",
    "\n",
    "Calculation: Mean = (Sum of all values) / (Number of values)\n",
    "\n",
    "Use: The mean is commonly used to represent the central value of a dataset. It provides a balance of all the values in the dataset, but it can be influenced by extreme values (outliers), which may skew the result.\n",
    "\n",
    "\n",
    "Median:\n",
    "Definition: The median is the middle value in a dataset when the values are arranged in ascending or descending order. If there is an even number of values, the median is the average of the two middle values.\n",
    "\n",
    "Calculation: To find the median, you arrange the values in order and then find the middle value(s).\n",
    "\n",
    "Use: The median is less sensitive to extreme values compared to the mean, making it a more robust measure of central tendency when the data contains outliers. It provides a representative value that is not affected by extreme values at the ends of the dataset.\n",
    "\n",
    "Mode:\n",
    "Definition: The mode is the value that appears most frequently in a dataset.\n",
    "\n",
    "Calculation: The mode is determined by identifying the value that occurs with the highest frequency in the dataset.\n",
    "\n",
    "\n",
    "Use: The mode is useful for identifying the most common value or category in a dataset. It is especially handy for categorical or discrete data, such as colors, names, or types. A dataset can have multiple modes (bimodal or multimodal) or no mode if all values are equally distributed."
   ]
  },
  {
   "cell_type": "code",
   "execution_count": null,
   "id": "a1640099-83bb-47df-964d-9d700d8aa98b",
   "metadata": {},
   "outputs": [],
   "source": [
    "# Q3. Measure the three measures of central tendency for the given height data:\n",
    "\n",
    "[178,177,176,177,178.2,178,175,179,180,175,178.9,176.2,177,172.5,178,176.5]"
   ]
  },
  {
   "cell_type": "markdown",
   "id": "3426f85d-6d2a-408c-bdf5-3c0217c35b0a",
   "metadata": {},
   "source": [
    "Mean = (178 + 177 + 176 + 177 + 178.2 + 178 + 175 + 179 + 180 + 175 + 178.9 + 176.2 + 177 + 172.5 + 178 + 176.5) / 16\n",
    "Mean = 2846.3 / 16\n",
    "Mean = 177.89375\n",
    "\n",
    "\n",
    "\n",
    "Median:\n",
    "First, we need to arrange the data in ascending order:\n",
    "172.5, 175, 175, 176, 176, 176.2, 176.5, 177, 177, 177, 178, 178, 178, 178.2, 178.9, 179, 180\n",
    "Since the number of values is even (16), the median will be the average of the two middle values:\n",
    "Median = (176 + 178) / 2\n",
    "Median = 354 / 2\n",
    "Median = 177\n",
    "\n",
    "\n",
    "\n",
    "Mode:\n",
    "The mode is the value that appears most frequently in the dataset. From the data, we can see that the value 178 appears three times, which is more frequent than any other value.\n",
    "The mode of the height data is 178."
   ]
  },
  {
   "cell_type": "code",
   "execution_count": null,
   "id": "690eff9f-ccb5-4adc-9b15-797767d8396a",
   "metadata": {},
   "outputs": [],
   "source": [
    "# Q4. Find the standard deviation for the given data:\n",
    "\n",
    "[178,177,176,177,178.2,178,175,179,180,175,178.9,176.2,177,172.5,178,176.5]"
   ]
  },
  {
   "cell_type": "markdown",
   "id": "430314f5-0206-4226-9ec8-f521894f40fe",
   "metadata": {},
   "source": [
    "To find the standard deviation for the given data, follow these steps:\n",
    "\n",
    "Step 1: Find the mean (μ) of the data.\n",
    "Step 2: Calculate the squared difference between each data point and the mean.\n",
    "Step 3: Find the mean of the squared differences.\n",
    "Step 4: Take the square root of the mean of squared differences to get the standard deviation (σ).\n",
    "\n",
    "Let's calculate it step by step:\n",
    "\n",
    "Step 1: Find the mean (μ) of the data.\n",
    "μ = (178 + 177 + 176 + 177 + 178.2 + 178 + 175 + 179 + 180 + 175 + 178.9 + 176.2 + 177 + 172.5 + 178 + 176.5) / 16\n",
    "μ = 2846.3 / 16\n",
    "μ = 177.89375\n",
    "\n",
    "Step 2: Calculate the squared difference between each data point and the mean.\n",
    "Squared differences:\n",
    "(178 - 177.89375)^2 ≈ 0.00872656\n",
    "(177 - 177.89375)^2 ≈ 0.0809375\n",
    "(176 - 177.89375)^2 ≈ 3.65277344\n",
    "(177 - 177.89375)^2 ≈ 0.0809375\n",
    "(178.2 - 177.89375)^2 ≈ 0.09414844\n",
    "(178 - 177.89375)^2 ≈ 0.00872656\n",
    "(175 - 177.89375)^2 ≈ 8.41359375\n",
    "(179 - 177.89375)^2 ≈ 1.19402344\n",
    "(180 - 177.89375)^2 ≈ 4.39451172\n",
    "(175 - 177.89375)^2 ≈ 8.41359375\n",
    "(178.9 - 177.89375)^2 ≈ 0.99141156\n",
    "(176.2 - 177.89375)^2 ≈ 2.92479906\n",
    "(177 - 177.89375)^2 ≈ 0.0809375\n",
    "(172.5 - 177.89375)^2 ≈ 28.89640819\n",
    "(178 - 177.89375)^2 ≈ 0.00872656\n",
    "(176.5 - 177.89375)^2 ≈ 2.00620156\n",
    "\n",
    "Step 3: Find the mean of the squared differences.\n",
    "Mean of squared differences = (Sum of squared differences) / (Number of values)\n",
    "Mean of squared differences ≈ (0.00872656 + 0.0809375 + 3.65277344 + 0.0809375 + 0.09414844 + 0.00872656 + 8.41359375 + 1.19402344 + 4.39451172 + 8.41359375 + 0.99141156 + 2.92479906 + 0.0809375 + 28.89640819 + 0.00872656 + 2.00620156) / 16\n",
    "Mean of squared differences ≈ 3.83470571\n",
    "\n",
    "Step 4: Take the square root of the mean of squared differences to get the standard deviation (σ).\n",
    "Standard deviation (σ) ≈ √3.83470571 ≈ 1.95843497"
   ]
  },
  {
   "cell_type": "code",
   "execution_count": null,
   "id": "2330f933-2906-46fd-89fb-e149212be78d",
   "metadata": {},
   "outputs": [],
   "source": [
    "# Q5. How are measures of dispersion such as range, variance, and standard deviation used to describe the spread of a dataset? Provide an example.\n"
   ]
  },
  {
   "cell_type": "markdown",
   "id": "5af443c2-78f7-42ce-88e9-48b56426184c",
   "metadata": {},
   "source": [
    "Measures of dispersion, including range, variance, and standard deviation, are used to quantify the spread or variability of a dataset. They provide information about how the data points are distributed around the central tendency (mean, median, or mode) and give insights into the data's consistency and diversity.\n",
    "\n",
    "\n",
    "Example:\n",
    "Consider two sets of test scores for two different classes:\n",
    "\n",
    "Class A test scores: [80, 85, 78, 90, 92]\n",
    "Class B test scores: [60, 70, 95, 50, 85]\n",
    "\n",
    "Range:\n",
    "The range is the simplest measure of dispersion and gives the difference between the maximum and minimum values in the dataset.\n",
    "For Class A:\n",
    "Range = Maximum value - Minimum value\n",
    "Range = 92 - 78 = 14\n",
    "\n",
    "For Class B:\n",
    "Range = Maximum value - Minimum value\n",
    "Range = 95 - 50 = 45\n",
    "\n",
    "\n",
    "Variance:\n",
    "Variance measures the average squared difference of each data point from the mean. It provides a more comprehensive view of data spread compared to the range.\n",
    "For Class A:\n",
    "Step 1: Calculate the mean (μ).\n",
    "μ = (80 + 85 + 78 + 90 + 92) / 5\n",
    "μ = 425 / 5\n",
    "μ = 85\n",
    "\n",
    "Step 2: Calculate squared differences from the mean for each data point:\n",
    "(80 - 85)^2 = 25\n",
    "(85 - 85)^2 = 0\n",
    "(78 - 85)^2 = 49\n",
    "(90 - 85)^2 = 25\n",
    "(92 - 85)^2 = 49\n",
    "\n",
    "Step 3: Calculate the variance:\n",
    "Variance = (Sum of squared differences) / (Number of values)\n",
    "Variance = (25 + 0 + 49 + 25 + 49) / 5\n",
    "Variance = 148 / 5\n",
    "Variance = 29.6\n",
    "\n",
    "\n",
    "\n",
    "Standard Deviation:\n",
    "The standard deviation is the square root of the variance. It measures the spread of data in the same unit as the original data.\n",
    "For Class A:\n",
    "Standard deviation ≈ √29.6 ≈ 5.44\n"
   ]
  },
  {
   "cell_type": "code",
   "execution_count": 8,
   "id": "d0d745c7-8cfa-457f-89a0-75386b490b29",
   "metadata": {},
   "outputs": [
    {
     "data": {
      "image/png": "[encoded data removed]",
      "text/plain": [
       "<Figure size 1000x500 with 1 Axes>"
      ]
     },
     "metadata": {},
     "output_type": "display_data"
    },
    {
     "data": {
      "image/png": "[encoded data removed]",
      "text/plain": [
       "<Figure size 500x500 with 1 Axes>"
      ]
     },
     "metadata": {},
     "output_type": "display_data"
    }
   ],
   "source": [
    "import matplotlib.pyplot as plt\n",
    "import seaborn as sns\n",
    " \n",
    "# Class A test scores\n",
    "class_a_scores = [20, 30, 40, 50, 60, 50, 40, 30, 20]\n",
    "\n",
    "\n",
    "plt.figure(figsize=(10, 5))\n",
    "sns.histplot(class_a_scores, bins=10, kde=True, color='skyblue', edgecolor='black')\n",
    "plt.xlabel('Test Scores')\n",
    "plt.ylabel('Frequency')\n",
    "plt.title('Histogram of Class A Test Scores')\n",
    "plt.show()\n",
    "\n",
    "# Create a box plot to show the spread and outliers in the data\n",
    "plt.figure(figsize=(5, 5))\n",
    "sns.boxplot(y=class_a_scores, color='lightgreen') \n",
    "plt.ylabel('Test Scores')\n",
    "plt.title('Box Plot of Class A Test Scores')\n",
    "plt.show()\n"
   ]
  },
  {
   "cell_type": "code",
   "execution_count": null,
   "id": "2af5f2f1-674f-404f-8108-28a801d1c1c7",
   "metadata": {},
   "outputs": [],
   "source": [
    "# Q6. What is a Venn diagram?"
   ]
  },
  {
   "cell_type": "markdown",
   "id": "a24df8f1-fb96-4941-b4e4-8855fa6e27b8",
   "metadata": {},
   "source": [
    "A Venn diagram is an illustration that uses circles to show the relationships among things or finite groups of things. "
   ]
  },
  {
   "cell_type": "code",
   "execution_count": 13,
   "id": "f18ccd15-5c66-415d-a5c2-791c9a84f76b",
   "metadata": {},
   "outputs": [
    {
     "data": {
      "text/html": [
       "<img src=\"https://d4y70tum9c2ak.cloudfront.net/contentImage/76CFpNJoAcJcah8yF7vsGakeLHckNQTvGwm1NZkhqyQ/resized.png\"/>"
      ],
      "text/plain": [
       "<IPython.core.display.Image object>"
      ]
     },
     "execution_count": 13,
     "metadata": {},
     "output_type": "execute_result"
    }
   ],
   "source": [
    "import IPython.display as display\n",
    "\n",
    "url = \"https://d4y70tum9c2ak.cloudfront.net/contentImage/76CFpNJoAcJcah8yF7vsGakeLHckNQTvGwm1NZkhqyQ/resized.png\"\n",
    "display.Image(url=url)\n"
   ]
  },
  {
   "cell_type": "code",
   "execution_count": 15,
   "id": "24097581-0e71-4788-bcba-8b9a9e6b2430",
   "metadata": {},
   "outputs": [],
   "source": [
    "# Q7. For the two given sets A = (2,3,4,5,6,7) & B = (0,2,6,8,10). Find:\n",
    "\n",
    "\n",
    "# (i) \t(A ∩ B) \n",
    "\n",
    "# (ii)\tA ⋃ B "
   ]
  },
  {
   "cell_type": "markdown",
   "id": "40a4fb29-ad87-4ada-a6c3-8978fd4e2585",
   "metadata": {},
   "source": [
    "(i) Intersection (A ∩ B):\n",
    "The intersection of two sets A and B is the set containing all elements that are common to both A and B.\n",
    "\n",
    "\n",
    "(ii) Union (A ∪ B):\n",
    "The union of two sets A and B is the set containing all elements that are present in either A or B or both.\n",
    "\n",
    "\n",
    "(i) Intersection (A ∩ B):\n",
    "The elements that are common to both sets A and B are {2, 6}.\n",
    "\n",
    "(ii) Union (A ∪ B):\n",
    "The elements that are present in either set A or B or both are {0, 2, 3, 4, 5, 6, 7, 8, 10}.\n"
   ]
  },
  {
   "cell_type": "code",
   "execution_count": null,
   "id": "62fa4fc9-a133-475c-974e-a9279b5baca2",
   "metadata": {},
   "outputs": [],
   "source": [
    "# Q8. What do you understand about skewness in data?"
   ]
  },
  {
   "cell_type": "markdown",
   "id": "c7a16ae7-732d-43a2-9732-b6d6cafeaaa8",
   "metadata": {},
   "source": [
    "Skewness is a measure of the asymmetry of a distribution. A distribution is asymmetrical when its left and right side are not mirror images. A distribution can have right (or positive), left (or negative), or zero skewness.\n"
   ]
  },
  {
   "cell_type": "code",
   "execution_count": null,
   "id": "63d15cb4-2fad-4f21-bf39-a87342c92b84",
   "metadata": {},
   "outputs": [],
   "source": [
    "# Q9. If a data is right skewed then what will be the position of median with respect to mean?\n"
   ]
  },
  {
   "cell_type": "markdown",
   "id": "23005aa1-bdcd-47d2-a7c2-9c0dbd4a67a1",
   "metadata": {},
   "source": [
    "If a dataset is right-skewed, it means that the tail on the right-hand side is longer or fatter than the left-hand side.\n",
    "\n",
    "\n",
    "\n",
    "In a right-skewed distribution, the mean will be greater than the median.\n",
    "In a right-skewed distribution: \n",
    "Median < Mean\n",
    "\n"
   ]
  },
  {
   "cell_type": "code",
   "execution_count": null,
   "id": "f70dac95-d25a-4e7d-8eea-ac4578354037",
   "metadata": {},
   "outputs": [],
   "source": [
    "# Q10. Explain the difference between covariance and correlation. How are these measures used in statistical analysis?\n"
   ]
  },
  {
   "cell_type": "markdown",
   "id": "d1273847-08e8-4365-abf8-0812a676b2c1",
   "metadata": {},
   "source": [
    "Covariance and correlation are both measures used in statistics to describe the relationship between two variables. \n",
    "\n",
    "In mathematics and statistics, covariance is a measure of the relationship between two random variables. \n",
    " \n",
    " \n",
    "Correlation is a statistical term describing the degree to which two variables move in coordination with one another.\n",
    " \n",
    " \n",
    "Mathematically, the covariance between two variables X and Y with n data points is given by:\n",
    "\n",
    "Cov(X, Y) = Σ [(X_i - X_mean) * (Y_i - Y_mean)] / n\n",
    "\n",
    "Where:\n",
    "X_i, Y_i are individual data points of X and Y.\n",
    "X_mean, Y_mean are the means of X and Y, respectively.\n",
    "Σ denotes the summation of the product over all data points.\n",
    "\n",
    "\n",
    "\n",
    "Mathematically, the correlation between two variables X and Y with n data points is given by:\n",
    "\n",
    "Corr(X, Y) = Cov(X, Y) / (σ_X * σ_Y)\n",
    "\n",
    "Where:\n",
    "Cov(X, Y) is the covariance between X and Y.\n",
    "σ_X, σ_Y are the standard deviations of X and Y, respectivel\n",
    "\n",
    "\n",
    "The main differences between covariance and correlation are:\n",
    "Covariance is not standardized and is sensitive to the scale of the variables, whereas correlation is standardized and is not affected by the scale.\n",
    "\n",
    "Correlation is always bounded between -1 and +1, making it easier to interpret and compare across different datasets.\n",
    "\n",
    "\n",
    "\n",
    "How they are used in statistical analysis:\n",
    "\n",
    "Covariance is used to measure the degree of association between two variables. It helps identify whether they tend to move together or in opposite directions.\n",
    "\n",
    "Correlation is used to determine the strength and direction of the linear relationship between two variables.\n"
   ]
  },
  {
   "cell_type": "code",
   "execution_count": null,
   "id": "42b9c35f-ad77-440e-a5f5-c0c93484f3e3",
   "metadata": {},
   "outputs": [],
   "source": [
    "# Q11. What is the formula for calculating the sample mean? Provide an example calculation for a dataset.\n"
   ]
  },
  {
   "cell_type": "markdown",
   "id": "cdb17812-d1ea-4834-89ab-79cbb2cffd93",
   "metadata": {},
   "source": [
    "Sample Mean (x̄) = (Sum of all data points) / (Number of data points)\n",
    "\n",
    "Let's take an example dataset and calculate the sample mean:\n",
    "\n",
    "Example Dataset: [10, 15, 20, 25, 30]\n",
    "\n",
    "Step 1: Add up all the data points:\n",
    "Sum = 10 + 15 + 20 + 25 + 30 = 100\n",
    "\n",
    "Step 2: Count the number of data points in the sample:\n",
    "Number of data points = 5\n",
    "\n",
    "Step 3: Calculate the sample mean:\n",
    "Sample Mean (x̄) = Sum / Number of data points\n",
    "Sample Mean (x̄) = 100 / 5\n",
    "Sample Mean (x̄) = 20"
   ]
  },
  {
   "cell_type": "code",
   "execution_count": 16,
   "id": "9273ce42-a304-4346-ac58-db063422c484",
   "metadata": {},
   "outputs": [
    {
     "name": "stdout",
     "output_type": "stream",
     "text": [
      "Sample Mean: 20.0\n"
     ]
    }
   ],
   "source": [
    "# Example dataset\n",
    "dataset = [10, 15, 20, 25, 30]\n",
    "\n",
    "# Calculate the sum of all data points\n",
    "sum_of_data = sum(dataset)\n",
    "\n",
    "# Calculate the number of data points\n",
    "num_data_points = len(dataset)\n",
    "\n",
    "# Calculate the sample mean\n",
    "sample_mean = sum_of_data / num_data_points\n",
    "\n",
    "print(\"Sample Mean:\", sample_mean)\n"
   ]
  },
  {
   "cell_type": "code",
   "execution_count": 17,
   "id": "e0b60d61-cfad-47e8-8b29-adb002aea19c",
   "metadata": {},
   "outputs": [
    {
     "name": "stdout",
     "output_type": "stream",
     "text": [
      "Sample Mean: 20.0\n"
     ]
    }
   ],
   "source": [
    "import numpy as np\n",
    "\n",
    "# Example dataset\n",
    "dataset = [10, 15, 20, 25, 30]\n",
    "\n",
    "# Calculate the sample mean using NumPy's mean() function\n",
    "sample_mean = np.mean(dataset)\n",
    "\n",
    "print(\"Sample Mean:\", sample_mean)\n"
   ]
  },
  {
   "cell_type": "code",
   "execution_count": null,
   "id": "3b67b38c-df03-4254-81c2-dfddf4a3fd5b",
   "metadata": {},
   "outputs": [],
   "source": [
    "# Q12. For a normal distribution data what is the relationship between its measure of central tendency?"
   ]
  },
  {
   "cell_type": "markdown",
   "id": "fa314668-090b-481d-bf31-ab055bf88b38",
   "metadata": {},
   "source": [
    "In a normal distribution, the three measures of central tendency, which are the mean, median, and mode, are all equal to each other. This means that the mean, median, and mode of a normal distribution are located at the same point on the distribution's axis.\n",
    "\n",
    "So, in summary, for a normal distribution:\n",
    "\n",
    "Mean = Median = Mode\n"
   ]
  },
  {
   "cell_type": "code",
   "execution_count": null,
   "id": "db15fb01-2268-474d-8c8b-fdfd66bb3671",
   "metadata": {},
   "outputs": [],
   "source": [
    "# Q13. How is covariance different from correlation "
   ]
  },
  {
   "cell_type": "markdown",
   "id": "9c3e65b6-9332-4d57-bf57-9803b1e14deb",
   "metadata": {},
   "source": [
    "covariance measures the degree of association between two variables, while correlation standardizes this measure, making it easier to interpret and compare across different datasets. \n",
    "\n",
    "Covariance can take any real value, both positive and negative, and is not limited to a specific range.\n",
    "Correlation values are bounded between -1 and +1, providing a standardized range that allows for easier comparison and  interpretation.\n",
    "\n",
    "\n",
    "\n",
    "\n",
    "\n"
   ]
  },
  {
   "cell_type": "code",
   "execution_count": null,
   "id": "2316b7df-c23f-4341-9251-ce26d12e1ca6",
   "metadata": {},
   "outputs": [],
   "source": [
    "# Q14. How do outliers affect measures of central tendency and dispersion? Provide an example.\n"
   ]
  },
  {
   "cell_type": "markdown",
   "id": "5b1474ca-3bfa-4419-b5d0-9f5f4ff83f07",
   "metadata": {},
   "source": [
    "\n",
    "Outliers are extreme values that deviate significantly from the rest of the data in a dataset. They can have a significant impact on measures of central tendency (mean, median, mode) and measures of dispersion (variance, standard deviation, range). The presence of outliers can distort these statistical measures, affecting their accuracy and reliability.\n",
    "\n",
    "\n"
   ]
  },
  {
   "cell_type": "code",
   "execution_count": 19,
   "id": "08b6a808-1ea6-4b3f-935a-28bc15c98a12",
   "metadata": {},
   "outputs": [
    {
     "name": "stdout",
     "output_type": "stream",
     "text": [
      "With Outlier:\n",
      "Mean: 3022.266666666667\n",
      "Median: 22.0\n",
      "Variance: 125866476.0622222\n",
      "Standard Deviation: 11219.02295488436\n",
      "Range: 44982\n"
     ]
    }
   ],
   "source": [
    "import numpy as np\n",
    "\n",
    "# Example dataset with an outlier\n",
    "data_with_outlier = np.array([20, 22, 25, 23, 19, 21, 18, 29, 21, 27, 24, 19, 21, 45, 45000])\n",
    "\n",
    "# Calculate mean, median, variance, standard deviation, range\n",
    "mean_with_outlier = np.mean(data_with_outlier)\n",
    "median_with_outlier = np.median(data_with_outlier)\n",
    "\n",
    "variance_with_outlier = np.var(data_with_outlier)\n",
    "std_dev_with_outlier = np.std(data_with_outlier)\n",
    "\n",
    "range_with_outlier = np.max(data_with_outlier) - np.min(data_with_outlier)\n",
    "\n",
    "\n",
    "\n",
    "# Output the results\n",
    "print(\"With Outlier:\")\n",
    "print(\"Mean:\", mean_with_outlier)\n",
    "print(\"Median:\", median_with_outlier)\n",
    "\n",
    "print(\"Variance:\", variance_with_outlier)\n",
    "print(\"Standard Deviation:\", std_dev_with_outlier)\n",
    "\n",
    "print(\"Range:\", range_with_outlier)\n",
    "\n"
   ]
  },
  {
   "cell_type": "markdown",
   "id": "ded3d753-632b-4892-9bd9-12fb955d3cfd",
   "metadata": {},
   "source": [
    "Example:\n",
    "Consider the following dataset representing the exam scores of a class, including an outlier:\n",
    "\n",
    "[65, 70, 72, 75, 78, 80, 82, 85, 88, 90, 95, 100, 1200]\n",
    "\n",
    "The outlier \"1200\" represents an unusually high score, deviating significantly from the rest of the data.\n",
    "\n",
    "Impact on Measures of Central Tendency:\n",
    "\n",
    "Mean: The mean is affected by the outlier \"1200\" and will be pulled towards the higher end.\n",
    "\n",
    "Median: The median is not significantly affected as it remains close to the middle value of the dataset.\n",
    "\n",
    "Mode: The mode is not affected as it remains 65, which is the most frequent value in the dataset.\n",
    "\n",
    "Impact on Measures of Dispersion:\n",
    "\n",
    "Variance and Standard Deviation: The presence of the outlier \"1200\" significantly increases the variance and standard deviation as it is far from the rest of the data.\n",
    "\n",
    "Range: The range is affected by the outlier, expanding to \"1200 - 65 = 550.\" "
   ]
  },
  {
   "cell_type": "code",
   "execution_count": null,
   "id": "4846774d-71e0-440b-afb6-4700371e1733",
   "metadata": {},
   "outputs": [],
   "source": []
  }
 ],
 "metadata": {
  "kernelspec": {
   "display_name": "Python 3 (ipykernel)",
   "language": "python",
   "name": "python3"
  },
  "language_info": {
   "codemirror_mode": {
    "name": "ipython",
    "version": 3
   },
   "file_extension": ".py",
   "mimetype": "text/x-python",
   "name": "python",
   "nbconvert_exporter": "python",
   "pygments_lexer": "ipython3",
   "version": "3.10.8"
  }
 },
 "nbformat": 4,
 "nbformat_minor": 5
}
