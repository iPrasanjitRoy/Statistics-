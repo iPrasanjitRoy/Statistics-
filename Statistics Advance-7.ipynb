{
 "cells": [
  {
   "cell_type": "code",
   "execution_count": null,
   "id": "6f6b4998-257c-411d-96a8-635ee3ac8550",
   "metadata": {},
   "outputs": [],
   "source": [
    "# Q1. Write a Python function that takes in two arrays of data and calculates the F-value for a variance ratio test. \n",
    "\n",
    "# The function should return the F-value and the corresponding p-value for the test. "
   ]
  },
  {
   "cell_type": "code",
   "execution_count": 1,
   "id": "c604ef46-8c2b-4c1b-8321-25942af72195",
   "metadata": {},
   "outputs": [
    {
     "name": "stdout",
     "output_type": "stream",
     "text": [
      "F-value: 0.7379518072289156\n",
      "p-value: 0.6122279427198223\n"
     ]
    }
   ],
   "source": [
    "import numpy as np\n",
    "from scipy.stats import f\n",
    "\n",
    "def variance_ratio_test(data1, data2):\n",
    "    # Calculate the variances of the two datasets\n",
    "    var1 = np.var(data1, ddof=1)  # Using ddof=1 for unbiased sample variance\n",
    "    var2 = np.var(data2, ddof=1)\n",
    "\n",
    "    # Calculate the F-value\n",
    "    f_value = var1 / var2\n",
    "    \n",
    "    # Degrees of freedom for the F-distribution\n",
    "    df1 = len(data1) - 1\n",
    "    df2 = len(data2) - 1\n",
    "    \n",
    "    # Calculate the p-value\n",
    "    p_value = 1 - f.cdf(f_value, df1, df2)\n",
    "    \n",
    "    return f_value, p_value\n",
    "\n",
    "# Example usage\n",
    "data1 = np.array([12, 15, 18, 20, 25])\n",
    "data2 = np.array([10, 14, 16, 22, 24])\n",
    "f_value, p_value = variance_ratio_test(data1, data2)\n",
    "print(\"F-value:\", f_value)\n",
    "print(\"p-value:\", p_value)\n"
   ]
  },
  {
   "cell_type": "code",
   "execution_count": null,
   "id": "d6b4ffd5-7a41-4d49-9c1e-898a3465aa92",
   "metadata": {},
   "outputs": [],
   "source": [
    "# Q2. Given a significance level of 0.05 and the degrees of freedom for the numerator and denominator of an F-distribution.\n",
    "\n",
    "# Write a Python function that returns the critical F-value for a two-tailed test. "
   ]
  },
  {
   "cell_type": "code",
   "execution_count": 2,
   "id": "f762d3ca-f76e-4a44-8d0b-4e6404cf0d00",
   "metadata": {},
   "outputs": [
    {
     "name": "stdout",
     "output_type": "stream",
     "text": [
      "Critical F-value: 4.474184809637748\n"
     ]
    }
   ],
   "source": [
    "from scipy.stats import f\n",
    "\n",
    "def critical_f_value(significance_level, df_num, df_den):\n",
    "    # Calculate the critical F-value for a two-tailed test\n",
    "    alpha = significance_level / 2  # Divide by 2 for a two-tailed test\n",
    "    crit_f_value = f.ppf(1 - alpha, df_num, df_den)\n",
    "    \n",
    "    return crit_f_value\n",
    "\n",
    "# Given values\n",
    "significance_level = 0.05\n",
    "df_num = 3  # Degrees of freedom for the numerator\n",
    "df_den = 12  # Degrees of freedom for the denominator\n",
    "\n",
    "crit_f = critical_f_value(significance_level, df_num, df_den)\n",
    "print(\"Critical F-value:\", crit_f)\n"
   ]
  },
  {
   "cell_type": "code",
   "execution_count": null,
   "id": "20325cae-b444-40d9-a35c-65956ed44544",
   "metadata": {},
   "outputs": [],
   "source": [
    "# Q3. Write a Python program that generates random samples from two normal distributions with known variances and uses an F-test to determine if the variances are equal. \n",
    "\n",
    "# The program should output the F value, degrees of freedom, and p-value for the test.  "
   ]
  },
  {
   "cell_type": "code",
   "execution_count": 3,
   "id": "de52caeb-3a1d-43e3-8139-064338278cea",
   "metadata": {},
   "outputs": [
    {
     "name": "stdout",
     "output_type": "stream",
     "text": [
      "F-value: 0.7602363589291505\n",
      "Degrees of freedom (numerator): 49\n",
      "Degrees of freedom (denominator): 49\n",
      "p-value: 0.3405506021326978\n"
     ]
    }
   ],
   "source": [
    "import numpy as np\n",
    "from scipy.stats import f\n",
    "\n",
    "def f_test_equal_variances(sample1, sample2):\n",
    "    # Calculate the variances of the two samples\n",
    "    var1 = np.var(sample1, ddof=1)  # Using ddof=1 for unbiased sample variance\n",
    "    var2 = np.var(sample2, ddof=1)\n",
    "\n",
    "    # Calculate the F-value\n",
    "    f_value = var1 / var2\n",
    "\n",
    "    # Degrees of freedom for the F-distribution\n",
    "    df1 = len(sample1) - 1\n",
    "    df2 = len(sample2) - 1\n",
    "\n",
    "    # Calculate the p-value\n",
    "    p_value = 2 * min(f.cdf(f_value, df1, df2), 1 - f.cdf(f_value, df1, df2))\n",
    "\n",
    "    return f_value, df1, df2, p_value\n",
    "\n",
    "# Generate random samples from two normal distributions with known variances\n",
    "np.random.seed(42)\n",
    "sample_size = 50\n",
    "mean1, var1 = 0, 1\n",
    "mean2, var2 = 0, 1.5\n",
    "sample1 = np.random.normal(mean1, np.sqrt(var1), sample_size)\n",
    "sample2 = np.random.normal(mean2, np.sqrt(var2), sample_size)\n",
    "\n",
    "# Perform the F-test for equal variances\n",
    "f_value, df1, df2, p_value = f_test_equal_variances(sample1, sample2)\n",
    "\n",
    "print(\"F-value:\", f_value)\n",
    "print(\"Degrees of freedom (numerator):\", df1)\n",
    "print(\"Degrees of freedom (denominator):\", df2)\n",
    "print(\"p-value:\", p_value)\n"
   ]
  },
  {
   "cell_type": "code",
   "execution_count": null,
   "id": "e0b2fab6-3d4a-43d1-9a33-469e78c3b28d",
   "metadata": {},
   "outputs": [],
   "source": [
    "# Q4.The variances of two populations are known to be 10 and 15. A sample of 12 observations is taken from each population. \n",
    "# Conduct an F-test at the 5% significance level to determine if the variances are significantly different"
   ]
  },
  {
   "cell_type": "code",
   "execution_count": 4,
   "id": "f8f8be26-ac7b-4d12-b0e1-fa0c47089aca",
   "metadata": {},
   "outputs": [
    {
     "name": "stdout",
     "output_type": "stream",
     "text": [
      "Fail to reject the null hypothesis. Variances are not significantly different.\n",
      "Calculated F-statistic: 0.6666666666666666\n",
      "Critical F-value: 3.473699051085809\n"
     ]
    }
   ],
   "source": [
    "import scipy.stats as stats\n",
    "\n",
    "# Given data\n",
    "variance1 = 10\n",
    "variance2 = 15\n",
    "sample_size = 12\n",
    "significance_level = 0.05\n",
    "\n",
    "# Calculate the F-statistic\n",
    "f_statistic = variance1 / variance2\n",
    "\n",
    "# Calculate degrees of freedom\n",
    "df1 = sample_size - 1\n",
    "df2 = sample_size - 1\n",
    "\n",
    "# Calculate critical F-value\n",
    "critical_f_value = stats.f.ppf(1 - significance_level / 2, df1, df2)\n",
    "\n",
    "# Perform the F-test\n",
    "if f_statistic > critical_f_value:\n",
    "    print(\"Reject the null hypothesis. Variances are significantly different.\")\n",
    "else:\n",
    "    print(\"Fail to reject the null hypothesis. Variances are not significantly different.\")\n",
    "\n",
    "print(\"Calculated F-statistic:\", f_statistic)\n",
    "print(\"Critical F-value:\", critical_f_value)\n"
   ]
  },
  {
   "cell_type": "code",
   "execution_count": null,
   "id": "a8949da6-b613-4a5a-b917-e94a1cbb5796",
   "metadata": {},
   "outputs": [],
   "source": [
    "# Q5. A manufacturer claims that the variance of the diameter of a certain product is 0.005. \n",
    "\n",
    "# A sample of 25 products is taken, and the sample variance is found to be 0.006. \n",
    "\n",
    "# Conduct an F-test at the 1% significance level to determine if the claim is justified\n"
   ]
  },
  {
   "cell_type": "code",
   "execution_count": 5,
   "id": "e9aebf52-9438-4856-88f0-baedc46b7af3",
   "metadata": {},
   "outputs": [
    {
     "name": "stdout",
     "output_type": "stream",
     "text": [
      "Fail to reject the null hypothesis. Claimed variance is justified.\n",
      "Calculated F-statistic: 1.2\n",
      "Critical F-values (lower and upper): 0.3370701342685674 2.966741631292762\n"
     ]
    }
   ],
   "source": [
    "import scipy.stats as stats\n",
    "\n",
    "# Given data\n",
    "claimed_variance = 0.005\n",
    "sample_variance = 0.006\n",
    "sample_size = 25\n",
    "significance_level = 0.01\n",
    "\n",
    "# Calculate the F-statistic\n",
    "f_statistic = sample_variance / claimed_variance\n",
    "\n",
    "# Calculate degrees of freedom\n",
    "df1 = sample_size - 1\n",
    "df2 = sample_size - 1\n",
    "\n",
    "# Calculate critical F-values\n",
    "critical_f_lower = stats.f.ppf(significance_level / 2, df1, df2)\n",
    "critical_f_upper = stats.f.ppf(1 - significance_level / 2, df1, df2)\n",
    "\n",
    "# Perform the F-test\n",
    "if f_statistic > critical_f_upper or f_statistic < 1 / critical_f_upper:\n",
    "    print(\"Reject the null hypothesis. Claimed variance is not justified.\")\n",
    "else:\n",
    "    print(\"Fail to reject the null hypothesis. Claimed variance is justified.\")\n",
    "\n",
    "print(\"Calculated F-statistic:\", f_statistic)\n",
    "print(\"Critical F-values (lower and upper):\", critical_f_lower, critical_f_upper)\n"
   ]
  },
  {
   "cell_type": "code",
   "execution_count": null,
   "id": "361b94db-38a1-4c20-965c-86ed743e6164",
   "metadata": {},
   "outputs": [],
   "source": [
    "# Q6. Write a Python function that takes in the degrees of freedom for the numerator and denominator of an F-distribution and calculates the mean and variance of the distribution. \n",
    "\n",
    "# The function should return the mean and variance as a tuple.\n",
    "\n"
   ]
  },
  {
   "cell_type": "code",
   "execution_count": 14,
   "id": "b9207b21-d7af-4229-b1d2-052c05d1b553",
   "metadata": {},
   "outputs": [
    {
     "name": "stdout",
     "output_type": "stream",
     "text": [
      "Mean: 1.1538461538461537, Variance: 0.8714362560516407\n"
     ]
    }
   ],
   "source": [
    "def f_distribution_mean_variance(df_numerator, df_denominator):\n",
    "    if df_numerator <= 0 or df_denominator <= 0:\n",
    "        raise ValueError(\"Degrees of freedom must be positive.\")\n",
    "\n",
    "    if df_denominator == 1:\n",
    "        raise ValueError(\"For F-distribution, denominator degrees of freedom should be greater than 1.\")\n",
    "\n",
    "    mean = df_denominator / (df_denominator - 2)\n",
    "    if df_denominator <= 4:\n",
    "        variance = float('inf')  # Variance is undefined for df_denominator <= 4\n",
    "    else:\n",
    "        variance = (2 * (df_denominator ** 2) * (df_numerator + df_denominator - 2)) / (df_numerator * (df_denominator - 2) ** 2 * (df_denominator - 4))\n",
    "\n",
    "    return mean, variance\n",
    "\n",
    "# Example usage\n",
    "numerator_df = 5\n",
    "denominator_df = 15\n",
    "mean, variance = f_distribution_mean_variance(numerator_df, denominator_df)\n",
    "print(f\"Mean: {mean}, Variance: {variance}\")\n"
   ]
  },
  {
   "cell_type": "markdown",
   "id": "65c0883a-9a54-4c9e-8fbf-79d6cf9a0138",
   "metadata": {},
   "source": [
    "The mean of the F-distribution is calculated using the formula: mean = df_denominator / (df_denominator - 2) \n",
    "\n",
    "The variance of the F-distribution is calculated using a formula that depends on the degrees of freedom for both the numerator and denominator.\n",
    "\n",
    "variance = (2 * (df_denominator^2) * (df_numerator + df_denominator - 2)) / (df_numerator * (df_denominator - 2)^2 * (df_denominator - 4))\n"
   ]
  },
  {
   "cell_type": "code",
   "execution_count": null,
   "id": "83155620-33d2-48f0-a928-567292bc8674",
   "metadata": {},
   "outputs": [],
   "source": [
    "# Q7. A random sample of 10 measurements is taken from a normal population with unknown variance. \n",
    "\n",
    "# The sample variance is found to be 25. \n",
    "\n",
    "# Another random sample of 15 measurements is taken from another normal population with unknown variance, and the sample variance is found to be 20. \n",
    "\n",
    "# Conduct an F-test at the 10% significance level to determine if the variances are significantly different. "
   ]
  },
  {
   "cell_type": "code",
   "execution_count": 7,
   "id": "a6e84750-0e25-45a6-a3be-5b9a6a98af7e",
   "metadata": {},
   "outputs": [
    {
     "name": "stdout",
     "output_type": "stream",
     "text": [
      "Fail to reject the null hypothesis. Variances are not significantly different.\n",
      "Calculated F-statistic: 1.25\n",
      "Critical F-values (lower and upper): 0.3305268601412525 2.6457907352338195\n"
     ]
    }
   ],
   "source": [
    "import scipy.stats as stats\n",
    "\n",
    "# Given data\n",
    "sample_variance1 = 25\n",
    "sample_variance2 = 20\n",
    "sample_size1 = 10\n",
    "sample_size2 = 15\n",
    "significance_level = 0.10\n",
    "\n",
    "# Calculate the F-statistic\n",
    "f_statistic = sample_variance1 / sample_variance2\n",
    "\n",
    "# Calculate degrees of freedom\n",
    "df1 = sample_size1 - 1\n",
    "df2 = sample_size2 - 1\n",
    "\n",
    "# Calculate critical F-values\n",
    "critical_f_lower = stats.f.ppf(significance_level / 2, df1, df2)\n",
    "critical_f_upper = stats.f.ppf(1 - significance_level / 2, df1, df2)\n",
    "\n",
    "# Perform the F-test\n",
    "if f_statistic > critical_f_upper or f_statistic < 1 / critical_f_upper:\n",
    "    print(\"Reject the null hypothesis. Variances are significantly different.\")\n",
    "else:\n",
    "    print(\"Fail to reject the null hypothesis. Variances are not significantly different.\")\n",
    "\n",
    "print(\"Calculated F-statistic:\", f_statistic)\n",
    "print(\"Critical F-values (lower and upper):\", critical_f_lower, critical_f_upper)\n"
   ]
  },
  {
   "cell_type": "code",
   "execution_count": null,
   "id": "bf0816c4-3771-4f4b-8c06-25e4010c79f3",
   "metadata": {},
   "outputs": [],
   "source": [
    "# Q8. The following data represent the waiting times in minutes at two different restaurants on a Saturday night: \n",
    "\n",
    "# Restaurant A: 24, 25, 28, 23, 22, 20, 27; \n",
    "\n",
    "# Restaurant B: 31, 33, 35, 30, 32, 36. \n",
    "\n",
    "# Conduct an F-test at the 5% significance level to determine if the variances are significantly different.\n"
   ]
  },
  {
   "cell_type": "code",
   "execution_count": 8,
   "id": "ce754847-7210-4251-ab25-22b2b47eab3a",
   "metadata": {},
   "outputs": [
    {
     "name": "stdout",
     "output_type": "stream",
     "text": [
      "Fail to reject the null hypothesis. Variances are not significantly different.\n",
      "Calculated F-statistic: 1.4551907719609583\n",
      "Critical F-values (lower and upper): 0.16701279718024772 6.977701858535566\n"
     ]
    }
   ],
   "source": [
    "import scipy.stats as stats\n",
    "\n",
    "# Given data\n",
    "waiting_times_restaurant_A = [24, 25, 28, 23, 22, 20, 27]\n",
    "waiting_times_restaurant_B = [31, 33, 35, 30, 32, 36]\n",
    "significance_level = 0.05\n",
    "\n",
    "# Calculate sample variances\n",
    "sample_variance_A = sum([(x - sum(waiting_times_restaurant_A)/len(waiting_times_restaurant_A))**2 for x in waiting_times_restaurant_A]) / (len(waiting_times_restaurant_A) - 1)\n",
    "sample_variance_B = sum([(x - sum(waiting_times_restaurant_B)/len(waiting_times_restaurant_B))**2 for x in waiting_times_restaurant_B]) / (len(waiting_times_restaurant_B) - 1)\n",
    "\n",
    "# Calculate the F-statistic\n",
    "f_statistic = sample_variance_A / sample_variance_B\n",
    "\n",
    "# Calculate degrees of freedom\n",
    "df1 = len(waiting_times_restaurant_A) - 1\n",
    "df2 = len(waiting_times_restaurant_B) - 1\n",
    "\n",
    "# Calculate critical F-values\n",
    "critical_f_lower = stats.f.ppf(significance_level / 2, df1, df2)\n",
    "critical_f_upper = stats.f.ppf(1 - significance_level / 2, df1, df2)\n",
    "\n",
    "# Perform the F-test\n",
    "if f_statistic > critical_f_upper or f_statistic < 1 / critical_f_upper:\n",
    "    print(\"Reject the null hypothesis. Variances are significantly different.\")\n",
    "else:\n",
    "    print(\"Fail to reject the null hypothesis. Variances are not significantly different.\")\n",
    "\n",
    "print(\"Calculated F-statistic:\", f_statistic)\n",
    "print(\"Critical F-values (lower and upper):\", critical_f_lower, critical_f_upper)\n"
   ]
  },
  {
   "cell_type": "code",
   "execution_count": null,
   "id": "9a2428b8-e891-4466-b68c-914ea885d382",
   "metadata": {},
   "outputs": [],
   "source": [
    "# Q9. The following data represent the test scores of two groups of students: \n",
    "\n",
    "# Group A: 80, 85, 90, 92, 87, 83; \n",
    "\n",
    "# Group B: 75, 78, 82, 79, 81, 84. \n",
    "\n",
    "# Conduct an F-test at the 1% significance level to determine if the variances are significantly different\n"
   ]
  },
  {
   "cell_type": "code",
   "execution_count": 10,
   "id": "ea0bd406-ebfe-4ffa-bbc6-c98210eef437",
   "metadata": {},
   "outputs": [
    {
     "name": "stdout",
     "output_type": "stream",
     "text": [
      "Fail to reject the null hypothesis. Variances are not significantly different.\n",
      "Calculated F-statistic: 1.9442622950819677\n",
      "Critical F-values (lower and upper): 0.066936171954696 14.939605459912224\n"
     ]
    }
   ],
   "source": [
    "import scipy.stats as stats\n",
    "\n",
    "# Given data\n",
    "test_scores_group_A = [80, 85, 90, 92, 87, 83]\n",
    "test_scores_group_B = [75, 78, 82, 79, 81, 84]\n",
    "significance_level = 0.01\n",
    "\n",
    "# Calculate sample variances\n",
    "sample_variance_group_A = sum([(x - sum(test_scores_group_A)/len(test_scores_group_A))**2 for x in test_scores_group_A]) / (len(test_scores_group_A) - 1)\n",
    "sample_variance_group_B = sum([(x - sum(test_scores_group_B)/len(test_scores_group_B))**2 for x in test_scores_group_B]) / (len(test_scores_group_B) - 1)\n",
    "\n",
    "# Calculate the F-statistic\n",
    "f_statistic = sample_variance_group_A / sample_variance_group_B\n",
    "\n",
    "# Calculate degrees of freedom\n",
    "df1 = len(test_scores_group_A) - 1\n",
    "df2 = len(test_scores_group_B) - 1\n",
    "\n",
    "# Calculate critical F-values\n",
    "critical_f_lower = stats.f.ppf(significance_level / 2, df1, df2)\n",
    "critical_f_upper = stats.f.ppf(1 - significance_level / 2, df1, df2)\n",
    "\n",
    "# Perform the F-test\n",
    "if f_statistic > critical_f_upper or f_statistic < 1 / critical_f_upper:\n",
    "    print(\"Reject the null hypothesis. Variances are significantly different.\")\n",
    "else:\n",
    "    print(\"Fail to reject the null hypothesis. Variances are not significantly different.\")\n",
    "\n",
    "print(\"Calculated F-statistic:\", f_statistic)\n",
    "print(\"Critical F-values (lower and upper):\", critical_f_lower, critical_f_upper)\n"
   ]
  },
  {
   "cell_type": "code",
   "execution_count": null,
   "id": "f900855a-f48a-4164-8eed-f86338eba07e",
   "metadata": {},
   "outputs": [],
   "source": []
  }
 ],
 "metadata": {
  "kernelspec": {
   "display_name": "Python 3 (ipykernel)",
   "language": "python",
   "name": "python3"
  },
  "language_info": {
   "codemirror_mode": {
    "name": "ipython",
    "version": 3
   },
   "file_extension": ".py",
   "mimetype": "text/x-python",
   "name": "python",
   "nbconvert_exporter": "python",
   "pygments_lexer": "ipython3",
   "version": "3.10.8"
  }
 },
 "nbformat": 4,
 "nbformat_minor": 5
}
