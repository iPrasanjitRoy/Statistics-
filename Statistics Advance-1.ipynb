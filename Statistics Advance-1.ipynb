{
 "cells": [
  {
   "cell_type": "code",
   "execution_count": null,
   "id": "98704fe8-215a-47cb-9c52-f5fa30e6420e",
   "metadata": {},
   "outputs": [],
   "source": [
    "# Q1. What is the Probability density function? "
   ]
  },
  {
   "cell_type": "markdown",
   "id": "fe98370d-a1a1-409a-b460-410d8d3b8895",
   "metadata": {},
   "source": [
    "The Probability Density Function (PDF) is a fundamental concept in probability theory and statistics. It is used to describe the probability distribution of a continuous random variable.  \n",
    "\n",
    "Probability Density Function is a mathematical function that characterizes the distribution of a continuous random variable and is essential for various statistical analyses and probability calculations.\n",
    "\n",
    "In Simple Terms, The probability density function (PDF) is a statistical expression that defines the probability that some outcome will occur. "
   ]
  },
  {
   "cell_type": "code",
   "execution_count": null,
   "id": "ff6da2c2-319f-4760-9588-6ea27f592c70",
   "metadata": {},
   "outputs": [],
   "source": [
    "# Q2. What are the types of Probability distribution? "
   ]
  },
  {
   "cell_type": "markdown",
   "id": "8d85dfbb-a1f2-48e9-8cda-dfe029ab272c",
   "metadata": {},
   "source": [
    "Types of Probability Distributions\n",
    "Statisticians divide probability distributions into the following types:\n",
    "\n",
    "Discrete Probability Distributions\n",
    "Continuous Probability Distributions \n",
    "\n",
    "Discrete Probability Distributions\n",
    "Discrete probability functions are the probability of mass functions. It assumes a discrete number of values. \n",
    "\n",
    "Continuous Probability Distributions\n",
    "\n",
    "A continuous probability distribution is one in which a continuous random variable X can take on any value within a given range of values ‒ which can be infinite, and therefore uncountable. For example, time is infinite because you could count from 0 to a billion seconds, a trillion seconds, and so on, forever. \n",
    "\n"
   ]
  },
  {
   "cell_type": "code",
   "execution_count": 1,
   "id": "b8e4b9f2-c017-4a79-be42-4c3b70ff3ff2",
   "metadata": {},
   "outputs": [
    {
     "name": "stdout",
     "output_type": "stream",
     "text": [
      "PDF at point 1.5: 0.12951759566589174\n"
     ]
    }
   ],
   "source": [
    "# Q3. Write a Python function to calculate the probability density function of a normal distribution with given mean and standard deviation at a given point.\n",
    "\n",
    "# A normal distribution is a type of continuous probability distribution for a real-valued random variable. \n",
    "# It is based on mean and standard deviation. The probability distribution function or PDF computes the likelihood of a single point in the distribution. \n",
    "\n",
    "# PDF(x) = (1 / (std_dev * sqrt(2 * pi))) * exp(-0.5 * ((x - mean) / std_dev)^2) <----  formula to calculate PDF \n",
    "\n",
    "# µ is the mean \n",
    "# σ is the standard deviation of the distribution \n",
    "# x is the number \n",
    "\n",
    "\n",
    "import math\n",
    "\n",
    "def normal_pdf(x, mean, std_dev):\n",
    "\n",
    "    exponent = -0.5 * ((x - mean) / std_dev)**2\n",
    "    coefficient = 1 / (std_dev * math.sqrt(2 * math.pi))\n",
    "    pdf_value = coefficient * math.exp(exponent)\n",
    "    return pdf_value\n",
    "\n",
    "\n",
    "\n",
    "mean = 0\n",
    "std_dev = 1\n",
    "point = 1.5\n",
    "pdf_at_point = normal_pdf(point, mean, std_dev)\n",
    "print(f\"PDF at point {point}: {pdf_at_point}\")\n"
   ]
  },
  {
   "cell_type": "code",
   "execution_count": 3,
   "id": "5b2c0fa1-b2a9-4b4e-a80d-c7443e5bfe3f",
   "metadata": {},
   "outputs": [
    {
     "name": "stdout",
     "output_type": "stream",
     "text": [
      "0.0804410163156249\n"
     ]
    }
   ],
   "source": [
    "# Using Scipy  <--------------------------------------------------------------------\n",
    "\n",
    "from scipy.stats import norm\n",
    "import numpy as np\n",
    "\n",
    "data_start = -5\n",
    "data_end = 5\n",
    "data_points = 11\n",
    "data = np.linspace(data_start, data_end, data_points)\n",
    "\n",
    "mean = np.mean(data)\n",
    "std = np.std(data)\n",
    "\n",
    "probability_pdf = norm.pdf(3, loc=mean, scale=std)\n",
    "print(probability_pdf)\n"
   ]
  },
  {
   "cell_type": "code",
   "execution_count": null,
   "id": "5dec7c5e-92e7-46c1-a0e1-fa287546dc40",
   "metadata": {},
   "outputs": [],
   "source": [
    "# Q4. What are the properties of Binomial distribution? Give two examples of events where binomial distribution can be applied\n",
    "\n"
   ]
  },
  {
   "cell_type": "markdown",
   "id": "e4398e65-3976-47f6-a47d-a08623174555",
   "metadata": {},
   "source": [
    "Properties of Binomial Distribution\n",
    "The properties of the binomial distribution are:\n",
    "\n",
    "There are two possible outcomes: true or false, success or failure, yes or no.\n",
    "There is ‘n’ number of independent trials or a fixed number of n times repeated trials.\n",
    "The probability of success or failure remains the same for each trial.\n",
    "Only the number of success is calculated out of n independent trials.\n",
    "Every trial is an independent trial, which means the outcome of one trial does not affect the outcome of another trial.\n",
    "\n",
    "\n",
    "\n",
    "\n",
    "\n",
    "Examples of events where the binomial distribution can be applied:\n",
    "\n",
    "Coin Flips: When flipping a biased coin multiple times, each flip can be considered a Bernoulli trial with two outcomes: heads (success) or tails (failure). The binomial distribution can be used to calculate the probability of getting a specific number of heads in a certain number of coin flips.\n",
    "\n",
    "\n",
    "Quality Control: In manufacturing, when inspecting a batch of items for defects, each item can be considered a Bernoulli trial. The binomial distribution can be applied to determine the probability of finding a certain number of defective items in the batch based on the overall defect rate and the batch size.\n"
   ]
  },
  {
   "cell_type": "code",
   "execution_count": 4,
   "id": "a8fc8e6c-390e-4800-80b4-9aa056e6e21d",
   "metadata": {},
   "outputs": [
    {
     "data": {
      "image/png": "[encoded data removed]",
      "text/plain": [
       "<Figure size 640x480 with 1 Axes>"
      ]
     },
     "metadata": {},
     "output_type": "display_data"
    }
   ],
   "source": [
    "# Q5. Generate a random sample of size 1000 from a binomial distribution with probability of success 0.4 and plot a histogram of the results using matplotlib.\n",
    "\n",
    "\n",
    "import numpy as np\n",
    "import matplotlib.pyplot as plt\n",
    "\n",
    "# Parameters for the binomial distribution\n",
    "n = 1000  # Number of trials\n",
    "p = 0.4   # Probability of success\n",
    "\n",
    "# Generate random sample\n",
    "random_sample = np.random.binomial(n, p, size=1000)\n",
    "\n",
    "# Plot histogram\n",
    "plt.hist(random_sample, bins=np.arange(0, n+1), density=True, alpha=0.7)\n",
    "plt.title('Histogram of Binomial Distribution')\n",
    "plt.xlabel('Number of Successes')\n",
    "plt.ylabel('Probability')\n",
    "plt.show()\n"
   ]
  },
  {
   "cell_type": "code",
   "execution_count": 5,
   "id": "0effe5af-53c5-44ac-a5ed-a65da26f43e9",
   "metadata": {},
   "outputs": [
    {
     "name": "stdout",
     "output_type": "stream",
     "text": [
      "CDF at x=2: 0.32084719886213414\n"
     ]
    }
   ],
   "source": [
    "# Q6. Write a Python function to calculate the cumulative distribution function of a Poisson distribution with given mean at a given point.\n",
    "\n",
    "\n",
    "\n",
    "import scipy.stats as stats\n",
    "\n",
    "def poisson_cdf(mean, x):\n",
    "    cdf = stats.poisson.cdf(x, mu=mean)\n",
    "    return cdf\n",
    "\n",
    "# Example usage\n",
    "mean = 3.5\n",
    "x = 2\n",
    "cdf_value = poisson_cdf(mean, x)\n",
    "print(f\"CDF at x={x}: {cdf_value}\")\n"
   ]
  },
  {
   "cell_type": "code",
   "execution_count": null,
   "id": "2d02971d-e583-4373-ad2e-800416119583",
   "metadata": {},
   "outputs": [],
   "source": [
    "# Q7. How Binomial distribution different from Poisson distribution?"
   ]
  },
  {
   "cell_type": "markdown",
   "id": "2d3ea2ae-2148-4ab1-82c0-f9733b8f630a",
   "metadata": {},
   "source": [
    "In a Binomial distribution, there is a fixed number of trials (e.g. flip a coin 3 times)\n",
    "In a Poisson distribution, there could be any number of events that occur during a certain time interval (e.g. how many customers will arrive at a store in a given hour?)\n",
    "\n",
    "\n",
    "\n",
    "Binomial Distribution: In the binomial distribution, the probability of success remains constant for each trial. It is denoted as \"p.\"\n",
    "\n",
    "Poisson Distribution: The Poisson distribution does not directly involve a probability of success. Instead, it is characterized by the average rate of occurrence of events, denoted as \"λ\" (lambda).\n",
    "\n"
   ]
  },
  {
   "cell_type": "code",
   "execution_count": 6,
   "id": "381afcbc-3730-4413-bcfa-dc4fc2acd1d3",
   "metadata": {},
   "outputs": [
    {
     "name": "stdout",
     "output_type": "stream",
     "text": [
      "Sample Mean: 4.944\n",
      "Sample Variance: 4.913777777777777\n"
     ]
    }
   ],
   "source": [
    "# Q8. Generate a random sample of size 1000 from a Poisson distribution with mean 5 and calculate the sample mean and variance\n",
    "\n",
    "\n",
    "\n",
    "import numpy as np\n",
    "\n",
    "# Parameters for the Poisson distribution\n",
    "mean = 5\n",
    "sample_size = 1000\n",
    "\n",
    "# Generate random sample\n",
    "random_sample = np.random.poisson(mean, size=sample_size)\n",
    "\n",
    "# Calculate sample mean and variance\n",
    "sample_mean = np.mean(random_sample)\n",
    "sample_variance = np.var(random_sample, ddof=1)  # ddof=1 for sample variance\n",
    "\n",
    "print(f\"Sample Mean: {sample_mean}\")\n",
    "print(f\"Sample Variance: {sample_variance}\")\n"
   ]
  },
  {
   "cell_type": "code",
   "execution_count": null,
   "id": "4804f83d-afc3-4468-9267-437846bd98be",
   "metadata": {},
   "outputs": [],
   "source": [
    "# Q9. How mean and variance are related in Binomial distribution and Poisson distribution?\n"
   ]
  },
  {
   "cell_type": "markdown",
   "id": "fc2a3692-faf8-4601-970b-79022867e8bf",
   "metadata": {},
   "source": [
    "Both the mean and variance of probability distributions provide insights into the central tendency and the spread of the distribution. The relationship between mean and variance differs between the binomial distribution and the Poisson distribution.\n",
    "\n",
    "Binomial Distribution:\n",
    "For a binomial distribution with parameters \"n\" (number of trials) and \"p\" (probability of success), the mean (μ) and variance (σ^2) are related as follows:\n",
    "\n",
    "Mean: μ = n * p\n",
    "Variance: σ^2 = n * p * q, where q = 1 - p\n",
    "\n",
    "\n",
    "Poisson Distribution:\n",
    "For a Poisson distribution with parameter \"λ\" (average rate of occurrence of events), the mean (μ) and variance (σ^2) are related as follows:\n",
    "\n",
    "Mean: μ = λ\n",
    "Variance: σ^2 = λ\n"
   ]
  },
  {
   "cell_type": "code",
   "execution_count": null,
   "id": "51eb2b6f-18e3-4aa4-b2b8-f90646d86137",
   "metadata": {},
   "outputs": [],
   "source": [
    "# Q10. In normal distribution with respect to mean position, where does the least frequent data appear?\n"
   ]
  },
  {
   "cell_type": "markdown",
   "id": "e0c52393-5a61-4fca-b552-88d90dc69a15",
   "metadata": {},
   "source": [
    "In a normal distribution (also known as a Gaussian distribution), the least frequent data points are found in the tails of the distribution, farthest from the mean. \n",
    "\n",
    "The normal distribution is symmetric, and its shape resembles a bell curve, with the mean (μ) at the center. "
   ]
  },
  {
   "cell_type": "code",
   "execution_count": null,
   "id": "52491208-7f45-486c-abe3-a3a504fd5564",
   "metadata": {},
   "outputs": [],
   "source": []
  }
 ],
 "metadata": {
  "kernelspec": {
   "display_name": "Python 3 (ipykernel)",
   "language": "python",
   "name": "python3"
  },
  "language_info": {
   "codemirror_mode": {
    "name": "ipython",
    "version": 3
   },
   "file_extension": ".py",
   "mimetype": "text/x-python",
   "name": "python",
   "nbconvert_exporter": "python",
   "pygments_lexer": "ipython3",
   "version": "3.10.8"
  }
 },
 "nbformat": 4,
 "nbformat_minor": 5
}
