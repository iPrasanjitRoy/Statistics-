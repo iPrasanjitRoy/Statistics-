{
 "cells": [
  {
   "cell_type": "code",
   "execution_count": null,
   "id": "db03b12b-d91d-405b-9325-643ff1b683b9",
   "metadata": {},
   "outputs": [],
   "source": [
    "# Q1: What are the Probability Mass Function (PMF) and Probability Density Function (PDF)? Explain with an example. "
   ]
  },
  {
   "cell_type": "markdown",
   "id": "6a842123-f974-45d9-9678-64ef6ce81581",
   "metadata": {},
   "source": [
    "Probability Mass Function (PMF):\n",
    "The PMF is used for discrete random variables. It gives the probability that a discrete random variable takes on a specific value.\n",
    "\n",
    "Example:\n",
    "Consider rolling a fair six-sided die. The random variable X represents the outcome of the roll. The PMF for X would be:\n",
    "\n",
    "P(X = 1) = 1/6\n",
    "P(X = 2) = 1/6\n",
    "P(X = 3) = 1/6\n",
    "P(X = 4) = 1/6\n",
    "P(X = 5) = 1/6\n",
    "P(X = 6) = 1/6\n",
    "Each value has an equal probability of 1/6 of occurring.\n",
    "\n",
    "\n",
    "\n",
    "Probability Density Function (PDF):\n",
    "The PDF is used for continuous random variables. \n",
    "\n",
    "Example:\n",
    "Consider a continuous random variable Y that represents the height of individuals in a population (assuming heights are measured in a continuous manner). The PDF for Y might be represented by a bell-shaped curve, like the normal distribution. \n",
    "\n",
    "The PDF provides information about the likelihood of observing heights within certain intervals, but it does not give the probability of a specific height occurring. \n",
    "\n",
    "In summary, the PMF is used for discrete random variables, providing probabilities for specific values, while the PDF is used for continuous random variables, describing the distribution's shape and likelihood of values within intervals.\n"
   ]
  },
  {
   "cell_type": "code",
   "execution_count": null,
   "id": "6aad88d8-85a2-4fd5-b792-c87a039a5241",
   "metadata": {},
   "outputs": [],
   "source": [
    "# Q2: What is Cumulative Density Function (CDF)? Explain with an example. Why CDF is used?\n"
   ]
  },
  {
   "cell_type": "markdown",
   "id": "5018400e-1caa-4a85-b14e-ad00d5e2f840",
   "metadata": {},
   "source": [
    "The Cumulative Distribution Function (CDF) is a concept used in probability and statistics to describe the cumulative probability distribution of a random variable. It gives the probability that a random variable takes on a value less than or equal to a specific value. \n",
    "\n",
    "\n",
    "The CDF has several important properties:\n",
    "\n",
    "The CDF is non-decreasing: As x increases, the cumulative probability can only stay the same or increase.\n",
    "The CDF is bounded: It ranges between 0 and 1, inclusive.\n",
    "The CDF approaches 0 as x approaches negative infinity and approaches 1 as x approaches positive infinity.\n",
    "\n",
    "\n",
    "Example:\n",
    "Consider a simple example using a fair six-sided die. The random variable X represents the outcome of a single roll of the die. The CDF for X would be as follows:\n",
    "\n",
    "F X ​ (1)=P(X≤1)=1/6         \n",
    "F X ​ (2)=P(X≤2)=2/6         \n",
    "F X ​ (3)=P(X≤3)=3/6         \n",
    "F X ​ (4)=P(X≤4)=4/6         \n",
    "F X ​ (5)=P(X≤5)=5/6         \n",
    "F X ​ (6)=P(X≤6)=6/6=1 \n",
    "\n",
    "\n",
    "The CDF tells us, for example, that the probability of getting a value less than or equal to 3 on a single roll of the die is \n",
    "3\n",
    "/\n",
    "6\n",
    "=\n",
    "0.5\n",
    "3/6=0.5 \n",
    "\n",
    "\n",
    "\n",
    "The CDF is a valuable concept in probability and statistics for several reasons:\n",
    "\n",
    "Probability Calculation: The CDF provides an easy way to calculate the probability of a random variable falling within a specific range.\n",
    "\n",
    "Comparisons: The CDF allows for quick comparisons of probabilities between different values or ranges of the random variable.\n",
    "\n",
    "\n",
    "Quantile Calculation: The CDF can be used to find quantiles, which are values that divide the distribution into specific probabilities. \n",
    "\n",
    "Visual Representation: The CDF can be visualized graphically to show how the probability accumulates as the value of the random variable increases\n",
    "\n"
   ]
  },
  {
   "cell_type": "code",
   "execution_count": null,
   "id": "445f3f2b-4bfe-436d-8fbd-98061e54774f",
   "metadata": {},
   "outputs": [],
   "source": [
    "# Q3: What are some examples of situations where the normal distribution might be used as a model? \n",
    "# Explain how the parameters of the normal distribution relate to the shape of the distribution. "
   ]
  },
  {
   "cell_type": "markdown",
   "id": "73a1cde0-9f8f-456a-ac71-a5241fae72a3",
   "metadata": {},
   "source": [
    ". Here are some examples of situations where the normal distribution might be used as a model:\n",
    "\n",
    "Height of Individuals: The heights of a large population tend to follow a normal distribution. While there may be some variations due to genetics and environmental factors, the distribution of heights often resembles a bell-shaped curve.\n",
    "\n",
    "\n",
    "IQ Scores: IQ scores in a population tend to be normally distributed, with most people clustering around the average IQ score.\n",
    "\n",
    "Stock Market Returns: Daily stock market returns are often modeled using a normal distribution for quantitative finance purposes, despite the fact that real financial data can exhibit heavier tails and volatility clustering.\n",
    "\n",
    "\n",
    "The parameters of the normal distribution are the mean (μ) and the standard deviation (σ). These parameters play a crucial role in shaping the distribution:\n",
    "\n",
    "Mean (μ): The mean determines the central location of the distribution. It is the value around which the data tend to cluster. The mean is also the point of symmetry for the normal distribution.\n",
    "\n",
    "Standard Deviation (σ): The standard deviation measures the spread or dispersion of the data points around the mean. A larger standard deviation results in a wider distribution, while a smaller standard deviation results in a narrower distribution. \n",
    "\n",
    "The shape of the normal distribution is influenced by both the mean and the standard deviation:\n",
    "\n",
    "If the mean is shifted to the right, the entire distribution is shifted to the right.\n",
    "If the standard deviation is increased, the distribution becomes wider and flatter.\n",
    "If the standard deviation is decreased, the distribution becomes narrower and taller.\n"
   ]
  },
  {
   "cell_type": "code",
   "execution_count": null,
   "id": "975d357a-d5d4-448b-91d8-5d544e393edf",
   "metadata": {},
   "outputs": [],
   "source": [
    "# Q4: Explain the importance of Normal Distribution. Give a few real-life examples of Normal Distribution.\n"
   ]
  },
  {
   "cell_type": "markdown",
   "id": "1249b81e-3602-4690-89e2-0742dda25cc1",
   "metadata": {},
   "source": [
    "The normal distribution, also known as the Gaussian distribution or bell curve, holds significant importance in various fields due to its mathematical properties and its ability to model a wide range of real-world phenomena.\n",
    "\n",
    "Here are some reasons why the normal distribution is important:\n",
    "Statistical Inference: The central limit theorem states that the sum (or average) of a large number of independent and identically distributed random variables approaches a normal distribution, regardless of the original distribution. This property is essential for statistical inference, hypothesis testing, and confidence interval estimation.\n",
    "\n",
    "\n",
    "Simplification of Complex Systems: The normal distribution provides a simple and convenient way to approximate complex systems. Even when the real data distribution is not perfectly normal, the normal distribution can often serve as a reasonable approximation.\n",
    "\n",
    "Real-life examples of situations where the normal distribution is commonly observed include:\n",
    "\n",
    "Human Height: Heights of individuals in a large population tend to follow a normal distribution, with most people around the mean height.\n",
    "\n",
    "Test Scores: Standardized test scores, such as SAT or IQ scores, often follow a normal distribution.\n",
    "\n",
    "Error in Measurement: Measurement errors in scientific experiments often follow a normal distribution due to the influence of multiple random factors.\n",
    "\n",
    "Body Weight: Body weights of a large and diverse population can approximate a normal distribution.\n",
    "\n",
    "Temperature: Daily temperatures in a region can often be modeled using a normal distribution.\n",
    "\n",
    "Income Distribution: In some cases, the distribution of income in a population may approximate a normal distribution.\n",
    "\n"
   ]
  },
  {
   "cell_type": "code",
   "execution_count": null,
   "id": "87f1eb8e-54ce-4b48-bcc3-354c66bea6e6",
   "metadata": {},
   "outputs": [],
   "source": [
    "# Q5: What is Bernaulli Distribution? Give an Example. \n",
    "# What is the difference between Bernoulli Distribution and Binomial Distribution? \n"
   ]
  },
  {
   "cell_type": "markdown",
   "id": "81c67895-bd97-4f28-b415-4cfc3f78b599",
   "metadata": {},
   "source": [
    "A discrete probability distribution for a random experiment that has only two possible outcomesis known Bernoulli Distribution.\n",
    "\n",
    "Example: India will win cricket world cup or not\n",
    "• It has only two possible outcomes\n",
    "• Success (1)\n",
    "• Failure (0)\n",
    "\n",
    "\n",
    "Bernaulli Distribution Deals with the single trial event \n",
    "Binomial Deals with the outcome of Multiple trials of the single events\n",
    "\n",
    "\n",
    "Bernaulli Distribution Has only two possible outcome 0 and 1\n",
    "Binomial Sum of identically and independent distributed Bernoulli Random Variable"
   ]
  },
  {
   "cell_type": "code",
   "execution_count": null,
   "id": "f200a84f-ef58-42e4-aa3a-24b0a9381363",
   "metadata": {},
   "outputs": [],
   "source": [
    "# Q6. Consider a dataset with a mean of 50 and a standard deviation of 10. If we assume that the dataset is normally distributed, \n",
    "# what is the probability that a randomly selected observation will be greater than 60? Use the appropriate formula and show your calculations\n"
   ]
  },
  {
   "cell_type": "markdown",
   "id": "0b5f6027-b690-453c-839b-a55b3b023622",
   "metadata": {},
   "source": [
    "We can use the Z-score formula and the standard normal distribution table. The Z-score is a measure of how many standard deviations an observation is away from the mean.\n",
    "\n",
    "The formula to calculate the Z-score is:\n",
    "\n",
    "Z = (X - μ) / σ\n",
    "\n",
    "Where:\n",
    "\n",
    "X is the value we want to find the probability for (in this case, 60)\n",
    "μ is the mean of the dataset (50 in this case)\n",
    "σ is the standard deviation of the dataset (10 in this case)\n",
    "\n",
    "\n",
    "Substitute the values:\n",
    "\n",
    "Z = (60 - 50) / 10\n",
    "Z = 1\n",
    "\n",
    "\n",
    "Using the standard normal distribution table or a calculator, you'll find that the cumulative probability up to Z = 1 is approximately 0.8413. Therefore, the probability that a randomly selected observation will be greater than 60 is:\n",
    "\n",
    "1 - 0.8413 ≈ 0.1587\n",
    "\n",
    "\n",
    "So, the probability that a randomly selected observation will be greater than 60 is approximately 0.1587, or 15.87%.\n",
    "\n"
   ]
  },
  {
   "cell_type": "code",
   "execution_count": null,
   "id": "3d0d66c8-1253-452a-b351-6f45ff216dc1",
   "metadata": {},
   "outputs": [],
   "source": [
    "# Q7: Explain uniform Distribution with an example"
   ]
  },
  {
   "cell_type": "markdown",
   "id": "b9cc6608-26c0-4695-ab10-576040b6e928",
   "metadata": {},
   "source": [
    "The uniform distribution, also known as the rectangular distribution, is a probability distribution that describes a situation where all values within a certain range are equally likely to occur. In other words, in a uniform distribution, every possible outcome has an equal probability of occurring.\n",
    "\n",
    "Example: Rolling a Fair Die\n",
    "Consider a fair six-sided die. When you roll the die, each face (1, 2, 3, 4, 5, or 6) has an equal probability of landing face up. This situation can be described by a uniform distribution.\n",
    "\n",
    "\n"
   ]
  },
  {
   "cell_type": "code",
   "execution_count": null,
   "id": "cd79c315-4b1a-4fd2-ab81-7858e61d4904",
   "metadata": {},
   "outputs": [],
   "source": [
    "# Q8: What is the z score? State the importance of the z score. "
   ]
  },
  {
   "cell_type": "markdown",
   "id": "2cb148fc-aa2c-4488-bf1f-f404c6ebc8b0",
   "metadata": {},
   "source": [
    "The z-score, also known as the standard score, is a statistical measure that quantifies how many standard deviations a particular data point is away from the mean of a dataset.\n",
    "\n",
    "The formula to calculate the z-score for a data point \"x\" within a dataset with mean \"μ\" and standard deviation \"σ\" is:\n",
    "\n",
    "z = (x - μ) / σ\n",
    "\n",
    "\n",
    "The importance of the z-score lies in its ability to standardize data and provide a common basis for comparing different data points within the same dataset or between different datasets.\n",
    "\n",
    "\n",
    "Normalization and Standardization: Z-scores transform raw data into a standard scale where the mean is 0 and the standard deviation is 1. This allows you to compare data from different distributions on a common scale, making it easier to identify outliers, trends, and patterns.\n",
    "\n",
    "\n",
    "Identifying Outliers: Data points with z-scores far from zero (typically greater than ±2 or ±3) are considered outliers. Outliers could indicate errors in data collection or significant deviations from the norm.\n",
    "\n",
    "Probability and Percentiles: Z-scores correspond to probabilities in the standard normal distribution. By looking up z-scores in a standard normal distribution table or using statistical software, you can determine the probability of a data point occurring within a certain range.\n",
    "\n",
    "Hypothesis Testing: In hypothesis testing, z-scores help determine whether a sample mean is significantly different from a population mean. By comparing the calculated z-score with critical values, you can make informed decisions about hypotheses.\n",
    "\n"
   ]
  },
  {
   "cell_type": "code",
   "execution_count": null,
   "id": "2c0905bb-4c32-43b9-a111-115e25fa0390",
   "metadata": {},
   "outputs": [],
   "source": [
    "# Q9: What is Central Limit Theorem? State the significance of the Central Limit Theorem. "
   ]
  },
  {
   "cell_type": "markdown",
   "id": "9a8224b0-1a21-4cc3-9662-b72dde4a1b1c",
   "metadata": {},
   "source": [
    "The Central Limit Theorem (CLT) is a fundamental concept in statistics that states that the sampling distribution of the sample means (or averages) of a large enough number of independent, identically distributed random variables will be approximately normally distributed, regardless of the distribution of the original population.\n",
    "\n",
    "\n",
    "In simpler terms, the Central Limit Theorem says that when you take multiple random samples from any population, the distribution of the sample means will tend to follow a normal distribution, even if the original population's distribution is not normal.\n",
    "\n",
    "\n",
    "\n",
    "Significance of the Central Limit Theorem: \n",
    "\n",
    "Normality Assumption: The Central Limit Theorem is particularly important because it allows us to make assumptions about the distribution of sample means, even when we don't know the distribution of the population itself. This is crucial because the normal distribution is well-understood and has many convenient mathematical properties.\n",
    "\n",
    "\n",
    "\n",
    "Inferential Statistics: The CLT underpins many statistical techniques and hypothesis tests. For example, when we perform hypothesis testing on sample means, we often assume that the distribution of the sample means is normal. The CLT validates this assumption, enabling us to use methods like Z-tests and t-tests.\n",
    "\n",
    "Estimation: When estimating population parameters, such as the population mean, the CLT allows us to use the normal distribution as an approximation for the distribution of sample means. This is used in constructing confidence intervals for population parameters.\n"
   ]
  },
  {
   "cell_type": "code",
   "execution_count": null,
   "id": "ffa19dc3-6bb0-4f2e-8944-1bc518d50a89",
   "metadata": {},
   "outputs": [],
   "source": [
    "# Q10: State the assumptions of the Central Limit Theorem "
   ]
  },
  {
   "cell_type": "markdown",
   "id": "0fabc247-aea1-49d5-b499-2bcf1c9c020f",
   "metadata": {},
   "source": [
    "The Central Limit Theorem (CLT) is a powerful statistical principle, but it comes with certain assumptions that need to be met in order for it to hold. \n",
    "\n",
    "\n",
    "The data must adhere to the randomization rule. It needs to be sampled at random.\n",
    "\n",
    "The samples should be unrelated to one another. One sample should not impact the others.\n",
    "\n",
    "When taking samples without replacement, the sample size should not exceed 10% of the population.\n",
    "\n",
    "When the population is symmetric, a sample size of 30 is generally considered reasonable. \n",
    "\n",
    "    "
   ]
  }
 ],
 "metadata": {
  "kernelspec": {
   "display_name": "Python 3 (ipykernel)",
   "language": "python",
   "name": "python3"
  },
  "language_info": {
   "codemirror_mode": {
    "name": "ipython",
    "version": 3
   },
   "file_extension": ".py",
   "mimetype": "text/x-python",
   "name": "python",
   "nbconvert_exporter": "python",
   "pygments_lexer": "ipython3",
   "version": "3.10.8"
  }
 },
 "nbformat": 4,
 "nbformat_minor": 5
}
