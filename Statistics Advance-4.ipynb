{
 "cells": [
  {
   "cell_type": "code",
   "execution_count": null,
   "id": "09c6bb1d-c3b2-40cd-be74-46baa779f4c5",
   "metadata": {},
   "outputs": [],
   "source": [
    "# Q1: What is the difference between a t-test and a z-test? Provide an example scenario where you would use each type of test\n",
    "\n"
   ]
  },
  {
   "cell_type": "markdown",
   "id": "a4f24c08-e2a3-43b2-863e-2ce1fa4e92e3",
   "metadata": {},
   "source": [
    "Use Case and Sample Size:\n",
    "\n",
    "t-test: The t-test is used when the sample size is small (typically less than 30) and the population standard deviation is unknown.\n",
    "\n",
    "z-test: The z-test is used when the sample size is relatively large (typically larger than 30) and the population standard deviation is known or when the sample size is large enough for the Central Limit Theorem to apply. It relies on the standard normal (z) distribution.\n",
    "\n",
    "Calculation of Critical Values:\n",
    "\n",
    "t-test: The critical values for t-tests depend on the degrees of freedom and the desired significance level. They can vary with different sample sizes.\n",
    "\n",
    "z-test: The critical values for z-tests are fixed and determined by the chosen significance level (alpha) because the standard normal distribution's properties are constant.\n",
    "\n",
    "Example Scenarios:\n",
    "\n",
    "t-test:\n",
    "Suppose you want to compare the average scores of two groups of students who received different teaching methods. You have a small sample size for each group (e.g., 20 students in each group), and you don't know the population standard deviation. In this case, you would use a two-sample t-test for independent samples.\n",
    "\n",
    "z-test:\n",
    "Imagine you are conducting a survey to estimate the proportion of people in a city who support a particular policy. You have a large sample size (e.g., 500 respondents), and you know the population standard deviation. Since you have a large sample size and a known population standard deviation, you can use a z-test to test your hypothesis about the population proportion.\n",
    "\n"
   ]
  },
  {
   "cell_type": "code",
   "execution_count": null,
   "id": "3a045917-eb0d-453c-8947-5b5249367086",
   "metadata": {},
   "outputs": [],
   "source": [
    "# Q2: Differentiate between one-tailed and two-tailed tests\n",
    "\n"
   ]
  },
  {
   "cell_type": "markdown",
   "id": "3f10dca3-d115-4471-92ff-ca5af9e0ec92",
   "metadata": {},
   "source": [
    "One-Tailed Test:\n",
    "\n",
    "A one-tailed test, also known as a one-sided test, is a type of hypothesis test that focuses on a specific direction of effect or difference. It is used to determine whether the observed sample data provides evidence in favor of a particular alternative hypothesis in only one direction. The critical region for a one-tailed test is located on one side of the distribution curve (either the right or the left), depending on the research question.\n",
    "\n",
    "\n",
    "Two-Tailed Test:\n",
    "\n",
    "A two-tailed test, also known as a two-sided test, is a type of hypothesis test that considers the possibility of an effect or difference in either direction from the null hypothesis. It is used to determine whether the observed sample data provides evidence of any significant difference or effect, regardless of the direction. The critical region for a two-tailed test is divided between both tails of the distribution curve.\n",
    "\n",
    "In a two-tailed test, the null hypothesis is rejected if the sample statistic falls into either of the two critical regions (both tails). This indicates that the observed data provides evidence of a significant effect or difference, regardless of whether it is positive or negative.\n",
    "\n"
   ]
  },
  {
   "cell_type": "code",
   "execution_count": null,
   "id": "0f8ae5b1-2b74-41ef-ac4d-1305ce36825a",
   "metadata": {},
   "outputs": [],
   "source": [
    "# Q3: Explain the concept of Type 1 and Type 2 errors in hypothesis testing. Provide an example scenario for each type of error\n",
    "\n"
   ]
  },
  {
   "cell_type": "markdown",
   "id": "aea751c9-461d-4e3f-bb08-2b107b2e79c5",
   "metadata": {},
   "source": [
    "Type 1 Error (False Positive):\n",
    "\n",
    "Definition: A Type 1 error occurs when the null hypothesis is incorrectly rejected when it is actually true. \n",
    "\n",
    "Example Scenario: Suppose a medical researcher is testing a new drug to see if it's effective at reducing blood pressure. The null hypothesis states that the drug has no effect on blood pressure. If the researcher incorrectly rejects the null hypothesis and concludes that the drug is effective when it's actually not, that's a Type 1 error. Patients might be prescribed a drug that doesn't have the intended effect.\n",
    "\n",
    "\n",
    "Type 2 Error (False Negative):\n",
    "\n",
    "Definition: A Type 2 error occurs when the null hypothesis is incorrectly failed to be rejected when it is actually false.\n",
    "\n",
    "\n",
    "Example Scenario: Continuing the medical example, if the new drug is actually effective at reducing blood pressure, but the researcher fails to reject the null hypothesis and concludes the drug has no effect, that's a Type 2 error. Patients might miss out on a beneficial treatment.\n",
    "\n"
   ]
  },
  {
   "cell_type": "code",
   "execution_count": null,
   "id": "8e976471-b5bb-490d-93d0-fe994017451e",
   "metadata": {},
   "outputs": [],
   "source": [
    "# Q4:  Explain Bayes's theorem with an example "
   ]
  },
  {
   "cell_type": "markdown",
   "id": "e63b00af-1bea-4d2c-831b-d863d3962098",
   "metadata": {},
   "source": [
    "Bayes’ theorem describes the probability of occurrence of an event related to any condition. It is also considered for the case of conditional probability. Bayes theorem is also known as the formula for the probability of “causes”. For example: if we have to calculate the probability of taking a blue ball from the second bag out of three different bags of balls, where each bag contains three different colour balls viz. red, blue, black. In this case, the probability of occurrence of an event is calculated depending on other conditions is known as conditional probability. \n",
    "\n",
    "\n",
    "\n",
    "\n",
    "\n",
    "\n",
    "Suppose you have two bowls of cookies. Bowl A contains 30 chocolate cookies and 10 vanilla cookies, while Bowl B contains 20 of each. You randomly choose one of the bowls, and then you randomly select a cookie from that bowl. If you pick a chocolate cookie, what's the probability that you picked it from Bowl A?\n",
    "\n",
    "Let:\n",
    "A be the event that you picked a cookie from Bowl A.\n",
    "B be the event that you picked a chocolate cookie.\n",
    "\n",
    "\n"
   ]
  },
  {
   "cell_type": "code",
   "execution_count": 1,
   "id": "e778166c-8c10-4b2d-992c-a59b6319ae3a",
   "metadata": {},
   "outputs": [
    {
     "name": "stdout",
     "output_type": "stream",
     "text": [
      "Probability of picking from Bowl A given a chocolate cookie: 0.6\n"
     ]
    }
   ],
   "source": [
    "# Given probabilities\n",
    "p_bowl_a = 1/2  # Probability of picking Bowl A\n",
    "p_bowl_b = 1/2  # Probability of picking Bowl B\n",
    "\n",
    "p_chocolate_given_bowl_a = 30 / (30 + 10)  # Probability of picking a chocolate cookie given Bowl A\n",
    "p_chocolate_given_bowl_b = 20 / (20 + 20)  # Probability of picking a chocolate cookie given Bowl B\n",
    "\n",
    "# Calculate the probability of picking a chocolate cookie\n",
    "p_chocolate = (p_chocolate_given_bowl_a * p_bowl_a) + (p_chocolate_given_bowl_b * p_bowl_b)\n",
    "\n",
    "# Calculate the probability of picking from Bowl A given a chocolate cookie using Bayes's Theorem\n",
    "p_bowl_a_given_chocolate = (p_chocolate_given_bowl_a * p_bowl_a) / p_chocolate\n",
    "\n",
    "# Print the result\n",
    "print(\"Probability of picking from Bowl A given a chocolate cookie:\", p_bowl_a_given_chocolate)\n"
   ]
  },
  {
   "cell_type": "code",
   "execution_count": null,
   "id": "3812675e-d301-4c65-8fc9-f5e99747f598",
   "metadata": {},
   "outputs": [],
   "source": [
    "# Q5: What is a confidence interval? How to calculate the confidence interval, explain with an example.\n",
    "\n",
    "\n"
   ]
  },
  {
   "cell_type": "markdown",
   "id": "d22091d7-88c6-4e8a-88dc-e21981ecc499",
   "metadata": {},
   "source": [
    "A confidence interval is a range of values that is likely to contain the true population parameter, such as a population mean or proportion, based on a sample from the population.\n",
    "\n",
    "\n",
    "\n",
    "Confidence Interval Formulas\n",
    "If n ≥ 30\tConfidence Interval = x̄ ± zα/2(σ/√n)\n",
    "If n<30\tConfidence Interval = x̄ ± tα/2(S/√n)\n",
    "\n",
    "Where,\n",
    "\n",
    "n = Number of terms\n",
    "x̄ = Sample Mean\n",
    "σ = Standard Deviation\n",
    "zα/2 = Value corresponding to α2 in z table\n",
    "tα/2 = Value corresponding to α2 in t table\n",
    "α = (1 – Confidence Level /100)\n",
    "\n",
    "\n",
    "Step 1: Determine the Confidence Level\n",
    "Step 2: Find the Critical Value\n",
    "Step 3: Calculate the Standard Error\n",
    "Step 4: Calculate the Margin of Error\n",
    "Step 5: Calculate the Confidence Interval\n"
   ]
  },
  {
   "cell_type": "code",
   "execution_count": 2,
   "id": "25b4489c-f13d-442c-ae16-01fc4b4d8e31",
   "metadata": {},
   "outputs": [
    {
     "name": "stdout",
     "output_type": "stream",
     "text": [
      "Critical Value: 1.959963984540054\n",
      "Standard Error: 0.1697056274847714\n",
      "Margin of Error: 0.33261691784392267\n",
      "Confidence Interval: (3.1673830821560776, 3.8326169178439224)\n"
     ]
    }
   ],
   "source": [
    "import scipy.stats as stats\n",
    "import math\n",
    "\n",
    "# Sample data\n",
    "sample_mean = 3.5\n",
    "sample_std = 1.2\n",
    "sample_size = 50\n",
    "confidence_level = 0.95\n",
    "\n",
    "# Calculate the critical value (z-value) for the given confidence level\n",
    "critical_value = stats.norm.ppf(1 - (1 - confidence_level) / 2)\n",
    "\n",
    "# Calculate the standard error\n",
    "standard_error = sample_std / math.sqrt(sample_size)\n",
    "\n",
    "# Calculate the margin of error\n",
    "margin_of_error = critical_value * standard_error\n",
    "\n",
    "# Calculate the confidence interval\n",
    "lower_bound = sample_mean - margin_of_error\n",
    "upper_bound = sample_mean + margin_of_error\n",
    "\n",
    "# Print the results\n",
    "print(\"Critical Value:\", critical_value)\n",
    "print(\"Standard Error:\", standard_error)\n",
    "print(\"Margin of Error:\", margin_of_error)\n",
    "print(\"Confidence Interval:\", (lower_bound, upper_bound))\n"
   ]
  },
  {
   "cell_type": "code",
   "execution_count": null,
   "id": "96e09a24-d839-48bc-8e12-8fee897edb32",
   "metadata": {},
   "outputs": [],
   "source": [
    "# Q6. Use Bayes' Theorem to calculate the probability of an event occurring given prior knowledge of the event's probability and new evidence. \n",
    "\n",
    "# Provide a sample problem and solution. "
   ]
  },
  {
   "cell_type": "markdown",
   "id": "c17831ad-6830-4814-b31f-e51bd500579d",
   "metadata": {},
   "source": [
    "\n"
   ]
  },
  {
   "cell_type": "markdown",
   "id": "80e4fa0d-8856-420a-b06c-4f0ed42620d7",
   "metadata": {},
   "source": [
    "Sample Problem: Email Filtering\n",
    "\n",
    "Suppose you are working on an email filtering system to identify whether an email is spam or not. You have historical data that suggests that 20% of all emails are spam. You also know that your email filter correctly identifies 95% of the spam emails as spam (sensitivity), and it incorrectly marks 3% of the legitimate emails as spam (false positive rate).\n",
    "\n",
    "\n",
    "\n",
    "Given this information, what is the probability that an email flagged as spam by your filter is actually spam?\n"
   ]
  },
  {
   "cell_type": "code",
   "execution_count": 8,
   "id": "76fc6a7c-50d1-4a51-91eb-79980842ce0f",
   "metadata": {},
   "outputs": [
    {
     "name": "stdout",
     "output_type": "stream",
     "text": [
      "Probability that an email flagged as spam by the filter is actually spam: 0.8878504672897196\n"
     ]
    }
   ],
   "source": [
    "# Given probabilities\n",
    "P_S = 0.20  # Probability that an email is spam\n",
    "P_F_given_S = 0.95  # Probability that the filter flags spam as spam (sensitivity)\n",
    "P_F_given_not_S = 0.03  # Probability that the filter flags non-spam as spam (false positive rate)\n",
    "\n",
    "# Calculate the complement probabilities\n",
    "P_not_S = 1 - P_S  # Probability that an email is not spam\n",
    "P_not_F_given_S = 1 - P_F_given_S  # Probability that the filter does not flag spam as spam\n",
    "P_not_F_given_not_S = 1 - P_F_given_not_S  # Probability that the filter does not flag non-spam as spam\n",
    "\n",
    "# Calculate the probability that the filter flags an email as spam (total probability)\n",
    "P_F = (P_F_given_S * P_S) + (P_F_given_not_S * P_not_S)\n",
    "\n",
    "# Calculate the probability that an email is actually spam given it's flagged as spam by the filter\n",
    "P_S_given_F = (P_F_given_S * P_S) / P_F\n",
    "\n",
    "# Print the result\n",
    "print(\"Probability that an email flagged as spam by the filter is actually spam:\", P_S_given_F)\n"
   ]
  },
  {
   "cell_type": "code",
   "execution_count": null,
   "id": "87e5a451-7fd2-41ce-b487-4020a2de97ac",
   "metadata": {},
   "outputs": [],
   "source": [
    "# Q7. Calculate the 95% confidence interval for a sample of data with a mean of 50 and a standard deviation of 5. \n",
    "\n",
    "# Interpret the results"
   ]
  },
  {
   "cell_type": "markdown",
   "id": "806a3b7f-ef81-444e-a027-83b4e347ef73",
   "metadata": {},
   "source": [
    "To calculate the 95% confidence interval for a sample of data, you can use the following formula:\n",
    "\n",
    "Confidence Interval = Mean ± (Critical Value) * (Standard Deviation / √(Sample Size))\n",
    "\n",
    "For a 95% confidence level, the critical value is approximately 1.96.\n",
    "\n",
    "Confidence Interval = 50 ± 1.96 * (5 / √30)\n",
    "\n",
    "Confidence Interval = 50 ± 1.772\n",
    "Now calculating the upper and lower bounds of the confidence interval:\n",
    "\n",
    "Upper Bound = 50 + 1.772 ≈ 51.772\n",
    "Lower Bound = 50 - 1.772 ≈ 48.228\n",
    "\n",
    "95% Confidence: This means that if we were to collect many samples and calculate a 95% confidence interval for each sample, approximately 95% of those intervals would contain the true population mean.\n",
    "\n",
    "Lower Bound (48.228): We are 95% confident that the true population mean is at least 48.228. In other words, if we were to repeatedly sample and calculate the mean, we would expect that 95% of these calculated means would be greater than or equal to 48.228.\n",
    "\n",
    "Upper Bound (51.772): Similarly, we are 95% confident that the true population mean is at most 51.772. In other words, if we were to repeatedly sample and calculate the mean, we would expect that 95% of these calculated means would be less than or equal to 51.772.\n",
    "\n"
   ]
  },
  {
   "cell_type": "code",
   "execution_count": null,
   "id": "e3545caa-7965-4e1a-a26b-d18f305b5265",
   "metadata": {},
   "outputs": [],
   "source": [
    "# Q8. What is the margin of error in a confidence interval? \n",
    "# How does sample size affect the margin of error? \n",
    "# Provide an example of a scenario where a larger sample size would result in a smaller margin of error \n",
    "\n"
   ]
  },
  {
   "cell_type": "markdown",
   "id": "d174cd31-ba4c-4938-ba48-83ec0344f8c4",
   "metadata": {},
   "source": [
    "The margin of error (MOE) in a confidence interval is a measure of the range within which we expect the true population parameter to lie. \n",
    "\n",
    "\n",
    "MOE = Z*√n/σ \n",
    "\n",
    "\n",
    "\n",
    "n= sample size\n",
    "\n",
    "σ= Population Standard Deviation\n",
    "\n",
    "z = z score\n",
    "\n",
    "\n",
    "\n",
    "\n",
    "\n",
    "Impact of Sample Size on Margin of Error:\n",
    "\n",
    "Sample size has an inverse relationship with the margin of error. As the sample size increases, the margin of error decreases. In other words, a larger sample size leads to a more precise estimate and a narrower confidence interval. This happens because larger samples provide more information about the population, leading to a better representation of its characteristics and less variability in the estimated statistic.\n",
    "\n",
    "Example Scenario:\n",
    "\n",
    "Suppose you want to estimate the average height of students in a university with a 95% confidence level. You take two different sample sizes: 50 students and 500 students. Let's say the population standard deviation of heights is known to be 4 inches.\n",
    "\n",
    "\n",
    "For the 50-student sample:\n",
    "\n",
    "Z for a 95% confidence level ≈ 1.96 (approximately)\n",
    "σ (population standard deviation) = 4 inches\n",
    "n (sample size) = 50\n",
    "\n",
    "MOE ≈ 1.11 \n",
    "\n",
    "\n",
    "For the 500-student sample:\n",
    "\n",
    "Z for a 95% confidence level ≈ 1.96 (same as before)\n",
    "σ (population standard deviation) = 4 inches\n",
    "n (sample size) = 500\n",
    "\n",
    "MOE ≈0.57 \n",
    "\n",
    "\n",
    "In this example, the larger sample size of 500 results in a smaller margin of error (0.57 inches) compared to the smaller sample size of 50 (1.11 inches). This illustrates how a larger sample size leads to a more precise estimate with a narrower confidence interval.\n",
    "\n",
    "\n"
   ]
  },
  {
   "cell_type": "code",
   "execution_count": null,
   "id": "c2b7e9bc-214c-461b-8629-5132f54581e0",
   "metadata": {},
   "outputs": [],
   "source": [
    "# Q9. Calculate the z-score for a data point with a value of 75, a population mean of 70, and a population standard deviation of 5. Interpret the results.\n"
   ]
  },
  {
   "cell_type": "markdown",
   "id": "d345dbaa-db3c-4dcb-88e8-12603d6fce2f",
   "metadata": {},
   "source": [
    "The formula for calculating a z-score is z = (x-μ)/σ, where x is the raw score, μ is the population mean, and σ is the population standard deviation.\n",
    "\n",
    "Given the values: \n",
    "Data point value (x) = 75 \n",
    "Population mean (μ) = 70 \n",
    "Population standard deviation (σ) = 5\n",
    "\n",
    "The calculated z-score is 1. \n",
    "\n",
    "The z-score is a measure of how many standard deviations a particular data point is away from the mean of the population. In this case, a z-score of 1 indicates that the data point with a value of 75 is 1 standard deviation above the population mean of 70.\n",
    "\n"
   ]
  },
  {
   "cell_type": "code",
   "execution_count": null,
   "id": "fbba6fdd-e771-43c0-8ef8-ed354fe46a18",
   "metadata": {},
   "outputs": [],
   "source": [
    "# Q10. In a study of the effectiveness of a new weight loss drug, a sample of 50 participants lost an average of 6 pounds with a standard deviation of 2.5 pounds. \n",
    "# Conduct a hypothesis test to determine if the drug is significantly effective at a 95% confidence level using a t-test. "
   ]
  },
  {
   "cell_type": "code",
   "execution_count": 7,
   "id": "026c6cc3-ab01-4da5-997c-734c0bd138c4",
   "metadata": {},
   "outputs": [
    {
     "name": "stdout",
     "output_type": "stream",
     "text": [
      "T-statistic: 16.970562748477143\n",
      "Critical t-value: 2.009575234489209\n",
      "Result: Reject the null hypothesis\n"
     ]
    }
   ],
   "source": [
    "import numpy as np\n",
    "from scipy import stats\n",
    "\n",
    "# Given data\n",
    "sample_mean = 6\n",
    "sample_std = 2.5\n",
    "sample_size = 50\n",
    "population_mean_null = 0  # Assumed population mean under null hypothesis\n",
    "confidence_level = 0.95\n",
    "\n",
    "# Calculate the standard error (sample standard deviation divided by the square root of the sample size)\n",
    "standard_error = sample_std / np.sqrt(sample_size)\n",
    "\n",
    "# Calculate the t-statistic\n",
    "t_statistic = (sample_mean - population_mean_null) / standard_error\n",
    "\n",
    "# Degrees of freedom\n",
    "degrees_of_freedom = sample_size - 1\n",
    "\n",
    "# Calculate the critical t-value\n",
    "alpha = 1 - confidence_level\n",
    "critical_t_value = stats.t.ppf(1 - alpha / 2, degrees_of_freedom)\n",
    "\n",
    "# Compare the t-statistic with the critical t-value\n",
    "if np.abs(t_statistic) > critical_t_value:\n",
    "    result = \"Reject the null hypothesis\"\n",
    "else:\n",
    "    result = \"Fail to reject the null hypothesis\"\n",
    "\n",
    "# Print the results\n",
    "print(\"T-statistic:\", t_statistic)\n",
    "print(\"Critical t-value:\", critical_t_value)\n",
    "print(\"Result:\", result)\n"
   ]
  },
  {
   "cell_type": "code",
   "execution_count": null,
   "id": "6ad3cd98-bc7a-4a62-8e06-d38bc9312cb4",
   "metadata": {},
   "outputs": [],
   "source": [
    "# Q11. In a survey of 500 people, 65% reported being satisfied with their current job. \n",
    "# Calculate the 95% confidence interval for the true proportion of people who are satisfied with their job.\n"
   ]
  },
  {
   "cell_type": "code",
   "execution_count": 6,
   "id": "27b8a329-19cf-4efd-b0b7-1f54283db049",
   "metadata": {},
   "outputs": [
    {
     "name": "stdout",
     "output_type": "stream",
     "text": [
      "Confidence Interval: (0.6081925393809212, 0.6918074606190788)\n"
     ]
    }
   ],
   "source": [
    "import numpy as np\n",
    "from scipy.stats import norm\n",
    "\n",
    "# Given data\n",
    "sample_proportion = 0.65\n",
    "confidence_level = 0.95\n",
    "sample_size = 500\n",
    "\n",
    "# Calculate the z-score for the desired confidence level\n",
    "z_score = norm.ppf(1 - (1 - confidence_level) / 2)\n",
    "\n",
    "# Calculate the standard error\n",
    "standard_error = np.sqrt((sample_proportion * (1 - sample_proportion)) / sample_size)\n",
    "\n",
    "# Calculate the margin of error\n",
    "margin_of_error = z_score * standard_error\n",
    "\n",
    "# Calculate the confidence interval\n",
    "confidence_interval = (sample_proportion - margin_of_error, sample_proportion + margin_of_error)\n",
    "\n",
    "# Print the results\n",
    "print(\"Confidence Interval:\", confidence_interval)\n"
   ]
  },
  {
   "cell_type": "code",
   "execution_count": null,
   "id": "31f1856a-7ec4-4782-868e-bcbdf805b62a",
   "metadata": {},
   "outputs": [],
   "source": [
    "# Q12. A researcher is testing the effectiveness of two different teaching methods on student performance. \n",
    "# Sample A has a mean score of 85 with a standard deviation of 6, while sample B has a mean score of 82 with a standard deviation of 5. \n",
    "# Conduct a hypothesis test to determine if the two teaching methods have a significant difference in student performance using a t-test with a significance level of 0.01\n",
    "\n",
    "\n",
    "\n"
   ]
  },
  {
   "cell_type": "code",
   "execution_count": 5,
   "id": "a5ed3e5a-110a-4d1b-8514-394270cd9d3a",
   "metadata": {},
   "outputs": [
    {
     "name": "stdout",
     "output_type": "stream",
     "text": [
      "T-statistic: 2.10386061995483\n",
      "Critical t-value: 2.6632869538098674\n",
      "Result: Fail to reject the null hypothesis\n"
     ]
    }
   ],
   "source": [
    "import numpy as np\n",
    "from scipy import stats\n",
    "\n",
    "# Given data\n",
    "sample_a_mean = 85\n",
    "sample_a_std = 6\n",
    "sample_a_size = 30  # Assumed sample size\n",
    "sample_b_mean = 82\n",
    "sample_b_std = 5\n",
    "sample_b_size = 30  # Assumed sample size\n",
    "significance_level = 0.01\n",
    "\n",
    "# Calculate the pooled standard deviation\n",
    "pooled_std = np.sqrt(((sample_a_std ** 2) + (sample_b_std ** 2)) / 2)\n",
    "\n",
    "# Calculate the standard error of the difference between means\n",
    "standard_error = pooled_std * np.sqrt(1/sample_a_size + 1/sample_b_size)\n",
    "\n",
    "# Calculate the t-statistic\n",
    "t_statistic = (sample_a_mean - sample_b_mean) / standard_error\n",
    "\n",
    "# Degrees of freedom\n",
    "degrees_of_freedom = sample_a_size + sample_b_size - 2\n",
    "\n",
    "# Calculate the critical t-value\n",
    "critical_t_value = stats.t.ppf(1 - significance_level / 2, degrees_of_freedom)\n",
    "\n",
    "# Compare the t-statistic with the critical t-value\n",
    "if np.abs(t_statistic) > critical_t_value:\n",
    "    result = \"Reject the null hypothesis\"\n",
    "else:\n",
    "    result = \"Fail to reject the null hypothesis\"\n",
    "\n",
    "# Print the results\n",
    "print(\"T-statistic:\", t_statistic)\n",
    "print(\"Critical t-value:\", critical_t_value)\n",
    "print(\"Result:\", result)\n"
   ]
  },
  {
   "cell_type": "code",
   "execution_count": null,
   "id": "577464ba-9f62-4eb1-8633-5a1cea019d3b",
   "metadata": {},
   "outputs": [],
   "source": [
    "# Q13. A population has a mean of 60 and a standard deviation of 8. \n",
    "# A sample of 50 observations has a mean  of 65. Calculate the 90% confidence interval for the true population mean.\n"
   ]
  },
  {
   "cell_type": "code",
   "execution_count": 4,
   "id": "5532d6da-64e1-4701-be04-6109caac147f",
   "metadata": {},
   "outputs": [
    {
     "name": "stdout",
     "output_type": "stream",
     "text": [
      "Confidence Interval: (63.13906055411732, 66.86093944588268)\n"
     ]
    }
   ],
   "source": [
    "import numpy as np\n",
    "from scipy import stats\n",
    "\n",
    "# Given data\n",
    "population_mean = 60\n",
    "population_std = 8\n",
    "sample_mean = 65\n",
    "sample_size = 50\n",
    "confidence_level = 0.90\n",
    "\n",
    "# Calculate the standard error (sample standard deviation divided by the square root of the sample size)\n",
    "standard_error = population_std / np.sqrt(sample_size)\n",
    "\n",
    "# Calculate the critical value for the given confidence level\n",
    "alpha = 1 - confidence_level\n",
    "critical_value = stats.norm.ppf(1 - alpha / 2)\n",
    "\n",
    "# Calculate the margin of error\n",
    "margin_of_error = critical_value * standard_error\n",
    "\n",
    "# Calculate the confidence interval\n",
    "confidence_interval = (sample_mean - margin_of_error, sample_mean + margin_of_error)\n",
    "\n",
    "# Print the results\n",
    "print(\"Confidence Interval:\", confidence_interval)\n"
   ]
  },
  {
   "cell_type": "code",
   "execution_count": null,
   "id": "83d2fcfb-e595-4e55-8f47-74adfd31bbd9",
   "metadata": {},
   "outputs": [],
   "source": [
    "# Q14. In a study of the effects of caffeine on reaction time, a sample of 30 participants had an average reaction time of 0.25 seconds with a standard deviation of 0.05 seconds. \n",
    "\n",
    "# Conduct a hypothesis test to determine if the caffeine has a significant effect on reaction time at a 90% confidence level using a t-test.\n",
    "\n",
    "\n"
   ]
  },
  {
   "cell_type": "markdown",
   "id": "70247efe-e38c-4928-9ba0-a37b52a0ad6f",
   "metadata": {},
   "source": [
    "Hypotheses:\n",
    "\n",
    "Null Hypothesis (H0): Caffeine does not have a significant effect on reaction time.\n",
    "Alternative Hypothesis (Ha): Caffeine has a significant effect on reaction time. \n",
    "\n"
   ]
  },
  {
   "cell_type": "code",
   "execution_count": 3,
   "id": "cf29072b-9f7a-4e70-820d-3e94ad90bb70",
   "metadata": {},
   "outputs": [
    {
     "name": "stdout",
     "output_type": "stream",
     "text": [
      "T-statistic: 2.1908902300206634\n",
      "Critical t-value: 1.6991270265334972\n",
      "Result: Reject the null hypothesis\n"
     ]
    }
   ],
   "source": [
    "import numpy as np\n",
    "from scipy import stats\n",
    "\n",
    "# Given data\n",
    "sample_mean = 0.25\n",
    "sample_std = 0.05\n",
    "sample_size = 30\n",
    "population_mean_null = 0.23  # Assumed population mean under null hypothesis\n",
    "\n",
    "# Degrees of freedom\n",
    "degrees_of_freedom = sample_size - 1\n",
    "\n",
    "# Calculate the t-statistic\n",
    "t_statistic = (sample_mean - population_mean_null) / (sample_std / np.sqrt(sample_size))\n",
    "\n",
    "# Calculate the critical t-value\n",
    "confidence_level = 0.90\n",
    "alpha = 1 - confidence_level\n",
    "critical_t_value = stats.t.ppf(1 - alpha / 2, degrees_of_freedom)\n",
    "\n",
    "# Compare the t-statistic with the critical t-value\n",
    "if np.abs(t_statistic) > critical_t_value:\n",
    "    result = \"Reject the null hypothesis\"\n",
    "else:\n",
    "    result = \"Fail to reject the null hypothesis\"\n",
    "\n",
    "# Print the results\n",
    "print(\"T-statistic:\", t_statistic)\n",
    "print(\"Critical t-value:\", critical_t_value)\n",
    "print(\"Result:\", result)\n"
   ]
  }
 ],
 "metadata": {
  "kernelspec": {
   "display_name": "Python 3 (ipykernel)",
   "language": "python",
   "name": "python3"
  },
  "language_info": {
   "codemirror_mode": {
    "name": "ipython",
    "version": 3
   },
   "file_extension": ".py",
   "mimetype": "text/x-python",
   "name": "python",
   "nbconvert_exporter": "python",
   "pygments_lexer": "ipython3",
   "version": "3.10.8"
  }
 },
 "nbformat": 4,
 "nbformat_minor": 5
}
